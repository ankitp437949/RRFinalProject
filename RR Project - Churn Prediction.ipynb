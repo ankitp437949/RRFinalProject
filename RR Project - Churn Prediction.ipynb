{
 "cells": [
  {
   "cell_type": "markdown",
   "id": "f68e7421",
   "metadata": {},
   "source": [
    "# Reproducible Reproduce on Customer Churn Data ~ From R to Python"
   ]
  },
  {
   "cell_type": "markdown",
   "id": "a2055fa7",
   "metadata": {},
   "source": [
    "We will be reproducing this project from R to Python wherein we will be doing Data analysis and create a model to predict the customer churn. Link to R project https://www.kaggle.com/code/rankirsh/do-you-feel-the-churn-visualisation-prediction . \n",
    "\n",
    "The project will be sub-divided into steps:\n",
    "- Introduction and description of data\n",
    "- Identifying relationships Univariate & Bivariate analysis\n",
    "- Automating EDA\n",
    "- Model Building & evaluation\n",
    "- Results & interpretation\n",
    "-Conclusion\n",
    "\n",
    "\n",
    "We will further improve this study by :\n",
    "- Since our dataset has many predicting variables *(21)*, therefore we will identify the predictive power of the variables and selecting variables with a high predictive power to be used in our model. To achieve this we will use **Univariate Analysis technique** which analyzes the relationship between each individual variable and the target variable to assess the significance of the relationship.\n",
    "- We will Balance the dataset for improved model performance\n"
   ]
  },
  {
   "cell_type": "markdown",
   "id": "a0b33cde",
   "metadata": {},
   "source": [
    "# Predicting Telecom Churn using Machine Learning\n",
    "\n",
    "## Problem Statement\n",
    "\n",
    "The rapid growth of the telecommunications industry has led to intense competition among service providers. One of the key challenges faced by these providers is customer churn, which refers to the rate at which customers switch to rival companies or discontinue using their services altogether. Churn has a significant impact on a telecom company's revenue, profitability, and market share.\n",
    "\n",
    "The objective of this project is to develop a machine learning model that can accurately predict customer churn in the telecom industry. By identifying customers who are most likely to churn, the company can take proactive measures to retain them, such as offering personalized incentives or improving service quality. This will help reduce customer attrition, increase customer loyalty, and ultimately improve the company's financial performance.\n",
    "\n",
    "The project will involve the following steps:\n",
    "\n",
    "- **Data Collection**: Gather a comprehensive dataset containing relevant information about customers, their usage patterns, billing details, and historical churn data. The dataset should be diverse and representative of the company's customer base.\n",
    "\n",
    "- **Data Preprocessing**: Perform necessary data cleaning, transformation, and feature engineering techniques to ensure the dataset is suitable for training a machine learning model. This step may involve handling missing values, removing outliers, and encoding categorical variables.\n",
    "\n",
    "- **Exploratory Data Analysis**: Conduct a thorough exploratory data analysis to gain insights into the dataset, identify patterns, and understand the factors that contribute to churn. This analysis will help in selecting the most relevant features for the prediction model.\n",
    "\n",
    "- **Model Selection**: Evaluate and compare different machine learning algorithms to identify the most suitable model for churn prediction. The chosen model should be able to handle the dataset's size, complexity, and class imbalance effectively.\n",
    "\n",
    "- **Model Training and Evaluation**: Split the dataset into training and testing sets and train the selected model on the training data. Evaluate the model's performance using appropriate evaluation metrics such as accuracy, precision, recall, and F1-score. Fine-tune the model if necessary.\n",
    "\n",
    "- **Prediction and Deployment**: Use the trained model to make predictions on new, unseen data and assess its performance. Once satisfied with the model's accuracy and reliability, deploy it into a production environment where it can be utilized to predict customer churn in real-time.\n",
    "\n",
    "The successful development of this machine learning model will enable the telecom company to proactively identify customers at risk of churn and implement effective retention strategies. This will ultimately lead to improved customer satisfaction, increased revenue, and a stronger market position in the highly competitive telecom industry.\n"
   ]
  },
  {
   "cell_type": "markdown",
   "id": "3c2fbd5f",
   "metadata": {},
   "source": [
    "# Data Dictionary\n",
    "\n",
    "- **customerID**: Unique identifier for each customer.\n",
    "- **gender**: Gender of the customer (Male or Female).\n",
    "- **SeniorCitizen**: Whether the customer is a senior citizen or not (1: Yes, 0: No).\n",
    "- **Partner**: Whether the customer has a partner or not (Yes or No).\n",
    "- **Dependents**: Whether the customer has dependents or not (Yes or No).\n",
    "- **tenure**: Number of months the customer has been with the company.\n",
    "- **PhoneService**: Whether the customer has a phone service or not (Yes or No).\n",
    "- **MultipleLines**: Whether the customer has multiple lines or not (Yes, No, or No phone service).\n",
    "- **InternetService**: Customer's internet service provider (DSL, Fiber optic, or No).\n",
    "- **OnlineSecurity**: Whether the customer has online security or not (Yes, No, or No internet service).\n",
    "- **OnlineBackup**: Whether the customer has online backup or not (Yes, No, or No internet service).\n",
    "- **DeviceProtection**: Whether the customer has device protection or not (Yes, No, or No internet service).\n",
    "- **TechSupport**: Whether the customer has tech support or not (Yes, No, or No internet service).\n",
    "- **StreamingTV**: Whether the customer has streaming TV or not (Yes, No, or No internet service).\n",
    "- **StreamingMovies**: Whether the customer has streaming movies or not (Yes, No, or No internet service).\n",
    "- **Contract**: The contract term of the customer (Month-to-month, One year, or Two year).\n",
    "- **PaperlessBilling**: Whether the customer has opted for paperless billing or not (Yes or No).\n",
    "- **PaymentMethod**: The customer's preferred payment method.\n",
    "- **MonthlyCharges**: The amount charged to the customer on a monthly basis.\n",
    "- **TotalCharges**: The total amount charged to the customer.\n",
    "- **Churn**: Whether the customer has churned or not (Yes or No).\n"
   ]
  },
  {
   "cell_type": "markdown",
   "id": "af38ab5a",
   "metadata": {},
   "source": [
    "### Upload Required Libraries"
   ]
  },
  {
   "cell_type": "code",
   "execution_count": 9,
   "id": "5af106c2",
   "metadata": {},
   "outputs": [],
   "source": [
    "# import libraries\n",
    "import numpy as np\n",
    "import pandas as pd\n",
    "import matplotlib.pyplot as plt\n",
    "import seaborn as sns\n",
    "%matplotlib inline\n",
    "sns.set(style = 'white')\n",
    "import pandas as pd\n",
    "from sklearn.ensemble import RandomForestClassifier\n",
    "from sklearn.metrics import accuracy_score\n",
    "from sklearn.model_selection import train_test_split\n",
    "from sklearn.model_selection import GridSearchCV\n",
    "from sklearn.linear_model import LogisticRegression\n",
    "from sklearn.discriminant_analysis import LinearDiscriminantAnalysis\n",
    "from sklearn.tree import DecisionTreeClassifier\n",
    "from sklearn import tree\n",
    "from sklearn.neighbors import KNeighborsClassifier\n",
    "from IPython.display import Image  \n",
    "from sklearn import metrics\n",
    "from sklearn.naive_bayes import GaussianNB\n",
    "from sklearn.ensemble import AdaBoostClassifier\n",
    "from sklearn.ensemble import BaggingClassifier\n",
    "from sklearn.metrics import roc_auc_score,roc_curve,classification_report\n",
    "import matplotlib.pyplot as plt\n",
    "import seaborn as sns"
   ]
  },
  {
   "cell_type": "markdown",
   "id": "67cc900a",
   "metadata": {},
   "source": [
    "### Importing Data "
   ]
  },
  {
   "cell_type": "code",
   "execution_count": 10,
   "id": "72eb75d4",
   "metadata": {},
   "outputs": [
    {
     "ename": "FileNotFoundError",
     "evalue": "[Errno 2] No such file or directory: 'C:\\\\Users\\\\sjoshi6\\\\OneDrive - Biogen\\\\Desktop\\\\UNI\\\\RR\\\\Churn_data.csv'",
     "output_type": "error",
     "traceback": [
      "\u001b[1;31m---------------------------------------------------------------------------\u001b[0m",
      "\u001b[1;31mFileNotFoundError\u001b[0m                         Traceback (most recent call last)",
      "\u001b[1;32m~\\AppData\\Local\\Temp/ipykernel_20808/1246093504.py\u001b[0m in \u001b[0;36m<module>\u001b[1;34m\u001b[0m\n\u001b[0;32m      1\u001b[0m \u001b[1;31m# import the dataset\u001b[0m\u001b[1;33m\u001b[0m\u001b[1;33m\u001b[0m\u001b[1;33m\u001b[0m\u001b[0m\n\u001b[1;32m----> 2\u001b[1;33m \u001b[0mdata\u001b[0m \u001b[1;33m=\u001b[0m \u001b[0mpd\u001b[0m\u001b[1;33m.\u001b[0m\u001b[0mread_csv\u001b[0m\u001b[1;33m(\u001b[0m\u001b[1;34m\"C:\\\\Users\\\\sjoshi6\\\\OneDrive - Biogen\\\\Desktop\\\\UNI\\\\RR\\\\Churn_data.csv\"\u001b[0m\u001b[1;33m)\u001b[0m\u001b[1;33m\u001b[0m\u001b[1;33m\u001b[0m\u001b[0m\n\u001b[0m",
      "\u001b[1;32mC:\\Softwares\\Anaconda\\envs\\r env\\lib\\site-packages\\pandas\\util\\_decorators.py\u001b[0m in \u001b[0;36mwrapper\u001b[1;34m(*args, **kwargs)\u001b[0m\n\u001b[0;32m    209\u001b[0m                 \u001b[1;32melse\u001b[0m\u001b[1;33m:\u001b[0m\u001b[1;33m\u001b[0m\u001b[1;33m\u001b[0m\u001b[0m\n\u001b[0;32m    210\u001b[0m                     \u001b[0mkwargs\u001b[0m\u001b[1;33m[\u001b[0m\u001b[0mnew_arg_name\u001b[0m\u001b[1;33m]\u001b[0m \u001b[1;33m=\u001b[0m \u001b[0mnew_arg_value\u001b[0m\u001b[1;33m\u001b[0m\u001b[1;33m\u001b[0m\u001b[0m\n\u001b[1;32m--> 211\u001b[1;33m             \u001b[1;32mreturn\u001b[0m \u001b[0mfunc\u001b[0m\u001b[1;33m(\u001b[0m\u001b[1;33m*\u001b[0m\u001b[0margs\u001b[0m\u001b[1;33m,\u001b[0m \u001b[1;33m**\u001b[0m\u001b[0mkwargs\u001b[0m\u001b[1;33m)\u001b[0m\u001b[1;33m\u001b[0m\u001b[1;33m\u001b[0m\u001b[0m\n\u001b[0m\u001b[0;32m    212\u001b[0m \u001b[1;33m\u001b[0m\u001b[0m\n\u001b[0;32m    213\u001b[0m         \u001b[1;32mreturn\u001b[0m \u001b[0mcast\u001b[0m\u001b[1;33m(\u001b[0m\u001b[0mF\u001b[0m\u001b[1;33m,\u001b[0m \u001b[0mwrapper\u001b[0m\u001b[1;33m)\u001b[0m\u001b[1;33m\u001b[0m\u001b[1;33m\u001b[0m\u001b[0m\n",
      "\u001b[1;32mC:\\Softwares\\Anaconda\\envs\\r env\\lib\\site-packages\\pandas\\util\\_decorators.py\u001b[0m in \u001b[0;36mwrapper\u001b[1;34m(*args, **kwargs)\u001b[0m\n\u001b[0;32m    329\u001b[0m                     \u001b[0mstacklevel\u001b[0m\u001b[1;33m=\u001b[0m\u001b[0mfind_stack_level\u001b[0m\u001b[1;33m(\u001b[0m\u001b[1;33m)\u001b[0m\u001b[1;33m,\u001b[0m\u001b[1;33m\u001b[0m\u001b[1;33m\u001b[0m\u001b[0m\n\u001b[0;32m    330\u001b[0m                 )\n\u001b[1;32m--> 331\u001b[1;33m             \u001b[1;32mreturn\u001b[0m \u001b[0mfunc\u001b[0m\u001b[1;33m(\u001b[0m\u001b[1;33m*\u001b[0m\u001b[0margs\u001b[0m\u001b[1;33m,\u001b[0m \u001b[1;33m**\u001b[0m\u001b[0mkwargs\u001b[0m\u001b[1;33m)\u001b[0m\u001b[1;33m\u001b[0m\u001b[1;33m\u001b[0m\u001b[0m\n\u001b[0m\u001b[0;32m    332\u001b[0m \u001b[1;33m\u001b[0m\u001b[0m\n\u001b[0;32m    333\u001b[0m         \u001b[1;31m# error: \"Callable[[VarArg(Any), KwArg(Any)], Any]\" has no\u001b[0m\u001b[1;33m\u001b[0m\u001b[1;33m\u001b[0m\u001b[1;33m\u001b[0m\u001b[0m\n",
      "\u001b[1;32mC:\\Softwares\\Anaconda\\envs\\r env\\lib\\site-packages\\pandas\\io\\parsers\\readers.py\u001b[0m in \u001b[0;36mread_csv\u001b[1;34m(filepath_or_buffer, sep, delimiter, header, names, index_col, usecols, squeeze, prefix, mangle_dupe_cols, dtype, engine, converters, true_values, false_values, skipinitialspace, skiprows, skipfooter, nrows, na_values, keep_default_na, na_filter, verbose, skip_blank_lines, parse_dates, infer_datetime_format, keep_date_col, date_parser, dayfirst, cache_dates, iterator, chunksize, compression, thousands, decimal, lineterminator, quotechar, quoting, doublequote, escapechar, comment, encoding, encoding_errors, dialect, error_bad_lines, warn_bad_lines, on_bad_lines, delim_whitespace, low_memory, memory_map, float_precision, storage_options)\u001b[0m\n\u001b[0;32m    948\u001b[0m     \u001b[0mkwds\u001b[0m\u001b[1;33m.\u001b[0m\u001b[0mupdate\u001b[0m\u001b[1;33m(\u001b[0m\u001b[0mkwds_defaults\u001b[0m\u001b[1;33m)\u001b[0m\u001b[1;33m\u001b[0m\u001b[1;33m\u001b[0m\u001b[0m\n\u001b[0;32m    949\u001b[0m \u001b[1;33m\u001b[0m\u001b[0m\n\u001b[1;32m--> 950\u001b[1;33m     \u001b[1;32mreturn\u001b[0m \u001b[0m_read\u001b[0m\u001b[1;33m(\u001b[0m\u001b[0mfilepath_or_buffer\u001b[0m\u001b[1;33m,\u001b[0m \u001b[0mkwds\u001b[0m\u001b[1;33m)\u001b[0m\u001b[1;33m\u001b[0m\u001b[1;33m\u001b[0m\u001b[0m\n\u001b[0m\u001b[0;32m    951\u001b[0m \u001b[1;33m\u001b[0m\u001b[0m\n\u001b[0;32m    952\u001b[0m \u001b[1;33m\u001b[0m\u001b[0m\n",
      "\u001b[1;32mC:\\Softwares\\Anaconda\\envs\\r env\\lib\\site-packages\\pandas\\io\\parsers\\readers.py\u001b[0m in \u001b[0;36m_read\u001b[1;34m(filepath_or_buffer, kwds)\u001b[0m\n\u001b[0;32m    603\u001b[0m \u001b[1;33m\u001b[0m\u001b[0m\n\u001b[0;32m    604\u001b[0m     \u001b[1;31m# Create the parser.\u001b[0m\u001b[1;33m\u001b[0m\u001b[1;33m\u001b[0m\u001b[1;33m\u001b[0m\u001b[0m\n\u001b[1;32m--> 605\u001b[1;33m     \u001b[0mparser\u001b[0m \u001b[1;33m=\u001b[0m \u001b[0mTextFileReader\u001b[0m\u001b[1;33m(\u001b[0m\u001b[0mfilepath_or_buffer\u001b[0m\u001b[1;33m,\u001b[0m \u001b[1;33m**\u001b[0m\u001b[0mkwds\u001b[0m\u001b[1;33m)\u001b[0m\u001b[1;33m\u001b[0m\u001b[1;33m\u001b[0m\u001b[0m\n\u001b[0m\u001b[0;32m    606\u001b[0m \u001b[1;33m\u001b[0m\u001b[0m\n\u001b[0;32m    607\u001b[0m     \u001b[1;32mif\u001b[0m \u001b[0mchunksize\u001b[0m \u001b[1;32mor\u001b[0m \u001b[0miterator\u001b[0m\u001b[1;33m:\u001b[0m\u001b[1;33m\u001b[0m\u001b[1;33m\u001b[0m\u001b[0m\n",
      "\u001b[1;32mC:\\Softwares\\Anaconda\\envs\\r env\\lib\\site-packages\\pandas\\io\\parsers\\readers.py\u001b[0m in \u001b[0;36m__init__\u001b[1;34m(self, f, engine, **kwds)\u001b[0m\n\u001b[0;32m   1440\u001b[0m \u001b[1;33m\u001b[0m\u001b[0m\n\u001b[0;32m   1441\u001b[0m         \u001b[0mself\u001b[0m\u001b[1;33m.\u001b[0m\u001b[0mhandles\u001b[0m\u001b[1;33m:\u001b[0m \u001b[0mIOHandles\u001b[0m \u001b[1;33m|\u001b[0m \u001b[1;32mNone\u001b[0m \u001b[1;33m=\u001b[0m \u001b[1;32mNone\u001b[0m\u001b[1;33m\u001b[0m\u001b[1;33m\u001b[0m\u001b[0m\n\u001b[1;32m-> 1442\u001b[1;33m         \u001b[0mself\u001b[0m\u001b[1;33m.\u001b[0m\u001b[0m_engine\u001b[0m \u001b[1;33m=\u001b[0m \u001b[0mself\u001b[0m\u001b[1;33m.\u001b[0m\u001b[0m_make_engine\u001b[0m\u001b[1;33m(\u001b[0m\u001b[0mf\u001b[0m\u001b[1;33m,\u001b[0m \u001b[0mself\u001b[0m\u001b[1;33m.\u001b[0m\u001b[0mengine\u001b[0m\u001b[1;33m)\u001b[0m\u001b[1;33m\u001b[0m\u001b[1;33m\u001b[0m\u001b[0m\n\u001b[0m\u001b[0;32m   1443\u001b[0m \u001b[1;33m\u001b[0m\u001b[0m\n\u001b[0;32m   1444\u001b[0m     \u001b[1;32mdef\u001b[0m \u001b[0mclose\u001b[0m\u001b[1;33m(\u001b[0m\u001b[0mself\u001b[0m\u001b[1;33m)\u001b[0m \u001b[1;33m->\u001b[0m \u001b[1;32mNone\u001b[0m\u001b[1;33m:\u001b[0m\u001b[1;33m\u001b[0m\u001b[1;33m\u001b[0m\u001b[0m\n",
      "\u001b[1;32mC:\\Softwares\\Anaconda\\envs\\r env\\lib\\site-packages\\pandas\\io\\parsers\\readers.py\u001b[0m in \u001b[0;36m_make_engine\u001b[1;34m(self, f, engine)\u001b[0m\n\u001b[0;32m   1733\u001b[0m                 \u001b[1;32mif\u001b[0m \u001b[1;34m\"b\"\u001b[0m \u001b[1;32mnot\u001b[0m \u001b[1;32min\u001b[0m \u001b[0mmode\u001b[0m\u001b[1;33m:\u001b[0m\u001b[1;33m\u001b[0m\u001b[1;33m\u001b[0m\u001b[0m\n\u001b[0;32m   1734\u001b[0m                     \u001b[0mmode\u001b[0m \u001b[1;33m+=\u001b[0m \u001b[1;34m\"b\"\u001b[0m\u001b[1;33m\u001b[0m\u001b[1;33m\u001b[0m\u001b[0m\n\u001b[1;32m-> 1735\u001b[1;33m             self.handles = get_handle(\n\u001b[0m\u001b[0;32m   1736\u001b[0m                 \u001b[0mf\u001b[0m\u001b[1;33m,\u001b[0m\u001b[1;33m\u001b[0m\u001b[1;33m\u001b[0m\u001b[0m\n\u001b[0;32m   1737\u001b[0m                 \u001b[0mmode\u001b[0m\u001b[1;33m,\u001b[0m\u001b[1;33m\u001b[0m\u001b[1;33m\u001b[0m\u001b[0m\n",
      "\u001b[1;32mC:\\Softwares\\Anaconda\\envs\\r env\\lib\\site-packages\\pandas\\io\\common.py\u001b[0m in \u001b[0;36mget_handle\u001b[1;34m(path_or_buf, mode, encoding, compression, memory_map, is_text, errors, storage_options)\u001b[0m\n\u001b[0;32m    854\u001b[0m         \u001b[1;32mif\u001b[0m \u001b[0mioargs\u001b[0m\u001b[1;33m.\u001b[0m\u001b[0mencoding\u001b[0m \u001b[1;32mand\u001b[0m \u001b[1;34m\"b\"\u001b[0m \u001b[1;32mnot\u001b[0m \u001b[1;32min\u001b[0m \u001b[0mioargs\u001b[0m\u001b[1;33m.\u001b[0m\u001b[0mmode\u001b[0m\u001b[1;33m:\u001b[0m\u001b[1;33m\u001b[0m\u001b[1;33m\u001b[0m\u001b[0m\n\u001b[0;32m    855\u001b[0m             \u001b[1;31m# Encoding\u001b[0m\u001b[1;33m\u001b[0m\u001b[1;33m\u001b[0m\u001b[1;33m\u001b[0m\u001b[0m\n\u001b[1;32m--> 856\u001b[1;33m             handle = open(\n\u001b[0m\u001b[0;32m    857\u001b[0m                 \u001b[0mhandle\u001b[0m\u001b[1;33m,\u001b[0m\u001b[1;33m\u001b[0m\u001b[1;33m\u001b[0m\u001b[0m\n\u001b[0;32m    858\u001b[0m                 \u001b[0mioargs\u001b[0m\u001b[1;33m.\u001b[0m\u001b[0mmode\u001b[0m\u001b[1;33m,\u001b[0m\u001b[1;33m\u001b[0m\u001b[1;33m\u001b[0m\u001b[0m\n",
      "\u001b[1;31mFileNotFoundError\u001b[0m: [Errno 2] No such file or directory: 'C:\\\\Users\\\\sjoshi6\\\\OneDrive - Biogen\\\\Desktop\\\\UNI\\\\RR\\\\Churn_data.csv'"
     ]
    }
   ],
   "source": [
    "# import the dataset\n",
    "data = pd.read_csv(\"C:\\\\Users\\\\sjoshi6\\\\OneDrive - Biogen\\\\Desktop\\\\UNI\\\\RR\\\\Churn_data.csv\")"
   ]
  },
  {
   "cell_type": "code",
   "execution_count": null,
   "id": "eae87b3c",
   "metadata": {},
   "outputs": [],
   "source": [
    "# check first 5 columns of the dataset\n",
    "data.head()"
   ]
  },
  {
   "cell_type": "markdown",
   "id": "be73a797",
   "metadata": {},
   "source": [
    "# Introduction\n"
   ]
  },
  {
   "cell_type": "markdown",
   "id": "f5667e52",
   "metadata": {},
   "source": [
    "This part of the project, we will load our Churn dataset, and perform data cleaning including handle missing values and remove duplicates. This will prepare our dataset for further exploration and analysis."
   ]
  },
  {
   "cell_type": "code",
   "execution_count": 40,
   "id": "87fa1890",
   "metadata": {},
   "outputs": [
    {
     "name": "stdout",
     "output_type": "stream",
     "text": [
      "<class 'pandas.core.frame.DataFrame'>\n",
      "RangeIndex: 7043 entries, 0 to 7042\n",
      "Data columns (total 21 columns):\n",
      " #   Column            Non-Null Count  Dtype  \n",
      "---  ------            --------------  -----  \n",
      " 0   customerID        7043 non-null   object \n",
      " 1   gender            7043 non-null   object \n",
      " 2   SeniorCitizen     7043 non-null   int64  \n",
      " 3   Partner           7043 non-null   object \n",
      " 4   Dependents        7043 non-null   object \n",
      " 5   tenure            7043 non-null   int64  \n",
      " 6   PhoneService      7043 non-null   object \n",
      " 7   MultipleLines     7043 non-null   object \n",
      " 8   InternetService   7043 non-null   object \n",
      " 9   OnlineSecurity    7043 non-null   object \n",
      " 10  OnlineBackup      7043 non-null   object \n",
      " 11  DeviceProtection  7043 non-null   object \n",
      " 12  TechSupport       7043 non-null   object \n",
      " 13  StreamingTV       7043 non-null   object \n",
      " 14  StreamingMovies   7043 non-null   object \n",
      " 15  Contract          7043 non-null   object \n",
      " 16  PaperlessBilling  7043 non-null   object \n",
      " 17  PaymentMethod     7043 non-null   object \n",
      " 18  MonthlyCharges    7043 non-null   float64\n",
      " 19  TotalCharges      7043 non-null   object \n",
      " 20  Churn             7043 non-null   object \n",
      "dtypes: float64(1), int64(2), object(18)\n",
      "memory usage: 1.1+ MB\n"
     ]
    }
   ],
   "source": [
    "# check the information of the whole dataset\n",
    "data.info()"
   ]
  },
  {
   "cell_type": "markdown",
   "id": "024b5850",
   "metadata": {},
   "source": [
    "The info() method gives basic information about our dataset i.e number of columns (21) and rows (7 043) as well as the datatypes (int64 & float64)."
   ]
  },
  {
   "cell_type": "code",
   "execution_count": 41,
   "id": "1cf99775",
   "metadata": {},
   "outputs": [
    {
     "data": {
      "text/html": [
       "<div>\n",
       "<style scoped>\n",
       "    .dataframe tbody tr th:only-of-type {\n",
       "        vertical-align: middle;\n",
       "    }\n",
       "\n",
       "    .dataframe tbody tr th {\n",
       "        vertical-align: top;\n",
       "    }\n",
       "\n",
       "    .dataframe thead th {\n",
       "        text-align: right;\n",
       "    }\n",
       "</style>\n",
       "<table border=\"1\" class=\"dataframe\">\n",
       "  <thead>\n",
       "    <tr style=\"text-align: right;\">\n",
       "      <th></th>\n",
       "      <th>customerID</th>\n",
       "      <th>gender</th>\n",
       "      <th>SeniorCitizen</th>\n",
       "      <th>Partner</th>\n",
       "      <th>Dependents</th>\n",
       "      <th>tenure</th>\n",
       "      <th>PhoneService</th>\n",
       "      <th>MultipleLines</th>\n",
       "      <th>InternetService</th>\n",
       "      <th>OnlineSecurity</th>\n",
       "      <th>...</th>\n",
       "      <th>DeviceProtection</th>\n",
       "      <th>TechSupport</th>\n",
       "      <th>StreamingTV</th>\n",
       "      <th>StreamingMovies</th>\n",
       "      <th>Contract</th>\n",
       "      <th>PaperlessBilling</th>\n",
       "      <th>PaymentMethod</th>\n",
       "      <th>MonthlyCharges</th>\n",
       "      <th>TotalCharges</th>\n",
       "      <th>Churn</th>\n",
       "    </tr>\n",
       "  </thead>\n",
       "  <tbody>\n",
       "    <tr>\n",
       "      <th>count</th>\n",
       "      <td>7043</td>\n",
       "      <td>7043</td>\n",
       "      <td>7043.000000</td>\n",
       "      <td>7043</td>\n",
       "      <td>7043</td>\n",
       "      <td>7043.000000</td>\n",
       "      <td>7043</td>\n",
       "      <td>7043</td>\n",
       "      <td>7043</td>\n",
       "      <td>7043</td>\n",
       "      <td>...</td>\n",
       "      <td>7043</td>\n",
       "      <td>7043</td>\n",
       "      <td>7043</td>\n",
       "      <td>7043</td>\n",
       "      <td>7043</td>\n",
       "      <td>7043</td>\n",
       "      <td>7043</td>\n",
       "      <td>7043.000000</td>\n",
       "      <td>7043</td>\n",
       "      <td>7043</td>\n",
       "    </tr>\n",
       "    <tr>\n",
       "      <th>unique</th>\n",
       "      <td>7043</td>\n",
       "      <td>2</td>\n",
       "      <td>NaN</td>\n",
       "      <td>2</td>\n",
       "      <td>2</td>\n",
       "      <td>NaN</td>\n",
       "      <td>2</td>\n",
       "      <td>3</td>\n",
       "      <td>3</td>\n",
       "      <td>3</td>\n",
       "      <td>...</td>\n",
       "      <td>3</td>\n",
       "      <td>3</td>\n",
       "      <td>3</td>\n",
       "      <td>3</td>\n",
       "      <td>3</td>\n",
       "      <td>2</td>\n",
       "      <td>4</td>\n",
       "      <td>NaN</td>\n",
       "      <td>6531</td>\n",
       "      <td>2</td>\n",
       "    </tr>\n",
       "    <tr>\n",
       "      <th>top</th>\n",
       "      <td>5876-QMYLD</td>\n",
       "      <td>Male</td>\n",
       "      <td>NaN</td>\n",
       "      <td>No</td>\n",
       "      <td>No</td>\n",
       "      <td>NaN</td>\n",
       "      <td>Yes</td>\n",
       "      <td>No</td>\n",
       "      <td>Fiber optic</td>\n",
       "      <td>No</td>\n",
       "      <td>...</td>\n",
       "      <td>No</td>\n",
       "      <td>No</td>\n",
       "      <td>No</td>\n",
       "      <td>No</td>\n",
       "      <td>Month-to-month</td>\n",
       "      <td>Yes</td>\n",
       "      <td>Electronic check</td>\n",
       "      <td>NaN</td>\n",
       "      <td>20.2</td>\n",
       "      <td>No</td>\n",
       "    </tr>\n",
       "    <tr>\n",
       "      <th>freq</th>\n",
       "      <td>1</td>\n",
       "      <td>3555</td>\n",
       "      <td>NaN</td>\n",
       "      <td>3641</td>\n",
       "      <td>4933</td>\n",
       "      <td>NaN</td>\n",
       "      <td>6361</td>\n",
       "      <td>3390</td>\n",
       "      <td>3096</td>\n",
       "      <td>3498</td>\n",
       "      <td>...</td>\n",
       "      <td>3095</td>\n",
       "      <td>3473</td>\n",
       "      <td>2810</td>\n",
       "      <td>2785</td>\n",
       "      <td>3875</td>\n",
       "      <td>4171</td>\n",
       "      <td>2365</td>\n",
       "      <td>NaN</td>\n",
       "      <td>11</td>\n",
       "      <td>5174</td>\n",
       "    </tr>\n",
       "    <tr>\n",
       "      <th>mean</th>\n",
       "      <td>NaN</td>\n",
       "      <td>NaN</td>\n",
       "      <td>0.162147</td>\n",
       "      <td>NaN</td>\n",
       "      <td>NaN</td>\n",
       "      <td>32.371149</td>\n",
       "      <td>NaN</td>\n",
       "      <td>NaN</td>\n",
       "      <td>NaN</td>\n",
       "      <td>NaN</td>\n",
       "      <td>...</td>\n",
       "      <td>NaN</td>\n",
       "      <td>NaN</td>\n",
       "      <td>NaN</td>\n",
       "      <td>NaN</td>\n",
       "      <td>NaN</td>\n",
       "      <td>NaN</td>\n",
       "      <td>NaN</td>\n",
       "      <td>64.761692</td>\n",
       "      <td>NaN</td>\n",
       "      <td>NaN</td>\n",
       "    </tr>\n",
       "    <tr>\n",
       "      <th>std</th>\n",
       "      <td>NaN</td>\n",
       "      <td>NaN</td>\n",
       "      <td>0.368612</td>\n",
       "      <td>NaN</td>\n",
       "      <td>NaN</td>\n",
       "      <td>24.559481</td>\n",
       "      <td>NaN</td>\n",
       "      <td>NaN</td>\n",
       "      <td>NaN</td>\n",
       "      <td>NaN</td>\n",
       "      <td>...</td>\n",
       "      <td>NaN</td>\n",
       "      <td>NaN</td>\n",
       "      <td>NaN</td>\n",
       "      <td>NaN</td>\n",
       "      <td>NaN</td>\n",
       "      <td>NaN</td>\n",
       "      <td>NaN</td>\n",
       "      <td>30.090047</td>\n",
       "      <td>NaN</td>\n",
       "      <td>NaN</td>\n",
       "    </tr>\n",
       "    <tr>\n",
       "      <th>min</th>\n",
       "      <td>NaN</td>\n",
       "      <td>NaN</td>\n",
       "      <td>0.000000</td>\n",
       "      <td>NaN</td>\n",
       "      <td>NaN</td>\n",
       "      <td>0.000000</td>\n",
       "      <td>NaN</td>\n",
       "      <td>NaN</td>\n",
       "      <td>NaN</td>\n",
       "      <td>NaN</td>\n",
       "      <td>...</td>\n",
       "      <td>NaN</td>\n",
       "      <td>NaN</td>\n",
       "      <td>NaN</td>\n",
       "      <td>NaN</td>\n",
       "      <td>NaN</td>\n",
       "      <td>NaN</td>\n",
       "      <td>NaN</td>\n",
       "      <td>18.250000</td>\n",
       "      <td>NaN</td>\n",
       "      <td>NaN</td>\n",
       "    </tr>\n",
       "    <tr>\n",
       "      <th>25%</th>\n",
       "      <td>NaN</td>\n",
       "      <td>NaN</td>\n",
       "      <td>0.000000</td>\n",
       "      <td>NaN</td>\n",
       "      <td>NaN</td>\n",
       "      <td>9.000000</td>\n",
       "      <td>NaN</td>\n",
       "      <td>NaN</td>\n",
       "      <td>NaN</td>\n",
       "      <td>NaN</td>\n",
       "      <td>...</td>\n",
       "      <td>NaN</td>\n",
       "      <td>NaN</td>\n",
       "      <td>NaN</td>\n",
       "      <td>NaN</td>\n",
       "      <td>NaN</td>\n",
       "      <td>NaN</td>\n",
       "      <td>NaN</td>\n",
       "      <td>35.500000</td>\n",
       "      <td>NaN</td>\n",
       "      <td>NaN</td>\n",
       "    </tr>\n",
       "    <tr>\n",
       "      <th>50%</th>\n",
       "      <td>NaN</td>\n",
       "      <td>NaN</td>\n",
       "      <td>0.000000</td>\n",
       "      <td>NaN</td>\n",
       "      <td>NaN</td>\n",
       "      <td>29.000000</td>\n",
       "      <td>NaN</td>\n",
       "      <td>NaN</td>\n",
       "      <td>NaN</td>\n",
       "      <td>NaN</td>\n",
       "      <td>...</td>\n",
       "      <td>NaN</td>\n",
       "      <td>NaN</td>\n",
       "      <td>NaN</td>\n",
       "      <td>NaN</td>\n",
       "      <td>NaN</td>\n",
       "      <td>NaN</td>\n",
       "      <td>NaN</td>\n",
       "      <td>70.350000</td>\n",
       "      <td>NaN</td>\n",
       "      <td>NaN</td>\n",
       "    </tr>\n",
       "    <tr>\n",
       "      <th>75%</th>\n",
       "      <td>NaN</td>\n",
       "      <td>NaN</td>\n",
       "      <td>0.000000</td>\n",
       "      <td>NaN</td>\n",
       "      <td>NaN</td>\n",
       "      <td>55.000000</td>\n",
       "      <td>NaN</td>\n",
       "      <td>NaN</td>\n",
       "      <td>NaN</td>\n",
       "      <td>NaN</td>\n",
       "      <td>...</td>\n",
       "      <td>NaN</td>\n",
       "      <td>NaN</td>\n",
       "      <td>NaN</td>\n",
       "      <td>NaN</td>\n",
       "      <td>NaN</td>\n",
       "      <td>NaN</td>\n",
       "      <td>NaN</td>\n",
       "      <td>89.850000</td>\n",
       "      <td>NaN</td>\n",
       "      <td>NaN</td>\n",
       "    </tr>\n",
       "    <tr>\n",
       "      <th>max</th>\n",
       "      <td>NaN</td>\n",
       "      <td>NaN</td>\n",
       "      <td>1.000000</td>\n",
       "      <td>NaN</td>\n",
       "      <td>NaN</td>\n",
       "      <td>72.000000</td>\n",
       "      <td>NaN</td>\n",
       "      <td>NaN</td>\n",
       "      <td>NaN</td>\n",
       "      <td>NaN</td>\n",
       "      <td>...</td>\n",
       "      <td>NaN</td>\n",
       "      <td>NaN</td>\n",
       "      <td>NaN</td>\n",
       "      <td>NaN</td>\n",
       "      <td>NaN</td>\n",
       "      <td>NaN</td>\n",
       "      <td>NaN</td>\n",
       "      <td>118.750000</td>\n",
       "      <td>NaN</td>\n",
       "      <td>NaN</td>\n",
       "    </tr>\n",
       "  </tbody>\n",
       "</table>\n",
       "<p>11 rows × 21 columns</p>\n",
       "</div>"
      ],
      "text/plain": [
       "        customerID gender  SeniorCitizen Partner Dependents       tenure  \\\n",
       "count         7043   7043    7043.000000    7043       7043  7043.000000   \n",
       "unique        7043      2            NaN       2          2          NaN   \n",
       "top     5876-QMYLD   Male            NaN      No         No          NaN   \n",
       "freq             1   3555            NaN    3641       4933          NaN   \n",
       "mean           NaN    NaN       0.162147     NaN        NaN    32.371149   \n",
       "std            NaN    NaN       0.368612     NaN        NaN    24.559481   \n",
       "min            NaN    NaN       0.000000     NaN        NaN     0.000000   \n",
       "25%            NaN    NaN       0.000000     NaN        NaN     9.000000   \n",
       "50%            NaN    NaN       0.000000     NaN        NaN    29.000000   \n",
       "75%            NaN    NaN       0.000000     NaN        NaN    55.000000   \n",
       "max            NaN    NaN       1.000000     NaN        NaN    72.000000   \n",
       "\n",
       "       PhoneService MultipleLines InternetService OnlineSecurity  ...  \\\n",
       "count          7043          7043            7043           7043  ...   \n",
       "unique            2             3               3              3  ...   \n",
       "top             Yes            No     Fiber optic             No  ...   \n",
       "freq           6361          3390            3096           3498  ...   \n",
       "mean            NaN           NaN             NaN            NaN  ...   \n",
       "std             NaN           NaN             NaN            NaN  ...   \n",
       "min             NaN           NaN             NaN            NaN  ...   \n",
       "25%             NaN           NaN             NaN            NaN  ...   \n",
       "50%             NaN           NaN             NaN            NaN  ...   \n",
       "75%             NaN           NaN             NaN            NaN  ...   \n",
       "max             NaN           NaN             NaN            NaN  ...   \n",
       "\n",
       "       DeviceProtection TechSupport StreamingTV StreamingMovies  \\\n",
       "count              7043        7043        7043            7043   \n",
       "unique                3           3           3               3   \n",
       "top                  No          No          No              No   \n",
       "freq               3095        3473        2810            2785   \n",
       "mean                NaN         NaN         NaN             NaN   \n",
       "std                 NaN         NaN         NaN             NaN   \n",
       "min                 NaN         NaN         NaN             NaN   \n",
       "25%                 NaN         NaN         NaN             NaN   \n",
       "50%                 NaN         NaN         NaN             NaN   \n",
       "75%                 NaN         NaN         NaN             NaN   \n",
       "max                 NaN         NaN         NaN             NaN   \n",
       "\n",
       "              Contract PaperlessBilling     PaymentMethod MonthlyCharges  \\\n",
       "count             7043             7043              7043    7043.000000   \n",
       "unique               3                2                 4            NaN   \n",
       "top     Month-to-month              Yes  Electronic check            NaN   \n",
       "freq              3875             4171              2365            NaN   \n",
       "mean               NaN              NaN               NaN      64.761692   \n",
       "std                NaN              NaN               NaN      30.090047   \n",
       "min                NaN              NaN               NaN      18.250000   \n",
       "25%                NaN              NaN               NaN      35.500000   \n",
       "50%                NaN              NaN               NaN      70.350000   \n",
       "75%                NaN              NaN               NaN      89.850000   \n",
       "max                NaN              NaN               NaN     118.750000   \n",
       "\n",
       "        TotalCharges Churn  \n",
       "count           7043  7043  \n",
       "unique          6531     2  \n",
       "top             20.2    No  \n",
       "freq              11  5174  \n",
       "mean             NaN   NaN  \n",
       "std              NaN   NaN  \n",
       "min              NaN   NaN  \n",
       "25%              NaN   NaN  \n",
       "50%              NaN   NaN  \n",
       "75%              NaN   NaN  \n",
       "max              NaN   NaN  \n",
       "\n",
       "[11 rows x 21 columns]"
      ]
     },
     "execution_count": 41,
     "metadata": {},
     "output_type": "execute_result"
    }
   ],
   "source": [
    "# statistical summary of numeric variables\n",
    "data.describe(include ='all')"
   ]
  },
  {
   "cell_type": "code",
   "execution_count": 42,
   "id": "c527832e",
   "metadata": {},
   "outputs": [
    {
     "data": {
      "text/plain": [
       "No     0.73463\n",
       "Yes    0.26537\n",
       "Name: Churn, dtype: float64"
      ]
     },
     "execution_count": 42,
     "metadata": {},
     "output_type": "execute_result"
    }
   ],
   "source": [
    "data['Churn'].value_counts(normalize=True)"
   ]
  },
  {
   "cell_type": "code",
   "execution_count": null,
   "id": "d972ad29",
   "metadata": {},
   "outputs": [],
   "source": []
  },
  {
   "cell_type": "code",
   "execution_count": 43,
   "id": "dc159e71",
   "metadata": {},
   "outputs": [
    {
     "data": {
      "text/plain": [
       "customerID          0\n",
       "gender              0\n",
       "SeniorCitizen       0\n",
       "Partner             0\n",
       "Dependents          0\n",
       "tenure              0\n",
       "PhoneService        0\n",
       "MultipleLines       0\n",
       "InternetService     0\n",
       "OnlineSecurity      0\n",
       "OnlineBackup        0\n",
       "DeviceProtection    0\n",
       "TechSupport         0\n",
       "StreamingTV         0\n",
       "StreamingMovies     0\n",
       "Contract            0\n",
       "PaperlessBilling    0\n",
       "PaymentMethod       0\n",
       "MonthlyCharges      0\n",
       "TotalCharges        0\n",
       "Churn               0\n",
       "dtype: int64"
      ]
     },
     "execution_count": 43,
     "metadata": {},
     "output_type": "execute_result"
    }
   ],
   "source": [
    "#check missing values\n",
    "data.isnull().sum()"
   ]
  },
  {
   "cell_type": "markdown",
   "id": "07db9fd7",
   "metadata": {},
   "source": [
    "### Automating EDA"
   ]
  },
  {
   "cell_type": "code",
   "execution_count": 62,
   "id": "f3b89228",
   "metadata": {},
   "outputs": [
    {
     "name": "stderr",
     "output_type": "stream",
     "text": [
      "<ipython-input-62-e2a33329b6f0>:1: DeprecationWarning: `import pandas_profiling` is going to be deprecated by April 1st. Please use `import ydata_profiling` instead.\n",
      "  from pandas_profiling import ProfileReport\n"
     ]
    }
   ],
   "source": [
    "from pandas_profiling import ProfileReport\n",
    "import sweetviz as sv"
   ]
  },
  {
   "cell_type": "code",
   "execution_count": null,
   "id": "ecd1cba7",
   "metadata": {},
   "outputs": [],
   "source": [
    "# Generate a comprehensive profile report for the dataset using pandas-profiling.\n",
    "# The report will provide descriptive statistics, data types, missing values, correlations, and more.\n",
    "report = ProfileReport(data)"
   ]
  },
  {
   "cell_type": "code",
   "execution_count": null,
   "id": "f56a24f7",
   "metadata": {},
   "outputs": [],
   "source": [
    "# Save the generated profile report as an HTML file.\n",
    "# This will allow easy sharing and viewing of the report.\n",
    "report.to_file('report.html')"
   ]
  },
  {
   "cell_type": "code",
   "execution_count": null,
   "id": "78710b5a",
   "metadata": {},
   "outputs": [],
   "source": [
    "# Perform automated exploratory data analysis using the SweetViz library.\n",
    "# The analyze() function generates a comprehensive report with visualizations and statistical summaries.\n",
    "report1 = sv.analyze(data)"
   ]
  },
  {
   "cell_type": "code",
   "execution_count": null,
   "id": "9a3436ed",
   "metadata": {},
   "outputs": [],
   "source": [
    "# Perform automated exploratory data analysis using the SweetViz library.\n",
    "# The analyze() function generates a comprehensive report with visualizations and statistical summaries.\n",
    "# In this case, we are analyzing the \"Churn Dataset\" and specifying \"Churn\" as the target feature for further analysis.\n",
    "report = sv.analyze([data, \"Churn Dataset\"], target_feat=\"Churn\")"
   ]
  },
  {
   "cell_type": "code",
   "execution_count": null,
   "id": "903fed43",
   "metadata": {},
   "outputs": [],
   "source": [
    "report.show_html('report2.html')"
   ]
  },
  {
   "cell_type": "markdown",
   "id": "81b52eac",
   "metadata": {},
   "source": [
    "# Importing the required libraries\n",
    "import pandas as pd\n",
    "import pandas_profiling\n",
    "import sweetviz as sv\n",
    "\n",
    "# Load the dataset\n",
    "df = pd.read_csv('your_dataset.csv')\n",
    "\n",
    "# Pandas Profiling\n",
    "# ------------------------------------------------------------\n",
    "## Pandas Profiling\n",
    "\n",
    "# Generate a comprehensive report:\n",
    "pandas_profiling_report = \"\"\"\n",
    "### Comprehensive Report:\n",
    "- Generates a detailed report summarizing the dataset.\n",
    "- Includes descriptive statistics, data types, value counts, and more.\n",
    "- Provides insights into the structure and characteristics of the data.\n",
    "\"\"\"\n",
    "\n",
    "# Perform automatic analysis:\n",
    "pandas_profiling_analysis = \"\"\"\n",
    "### Automatic Analysis:\n",
    "- Performs various analyses automatically without the need for manual coding.\n",
    "- Analyzes distributions, missing values, correlations, and other important aspects.\n",
    "- Saves time and effort in the initial data exploration process.\n",
    "\"\"\"\n",
    "\n",
    "# Generate an interactive HTML output:\n",
    "pandas_profiling_html = \"\"\"\n",
    "### Interactive HTML Output:\n",
    "- Generates an interactive HTML file as the output.\n",
    "- Allows for easy sharing, viewing, and navigation in a web browser.\n",
    "- Enables interactive exploration of the analysis results.\n",
    "\"\"\"\n",
    "\n",
    "# Customize the analysis:\n",
    "pandas_profiling_customization = \"\"\"\n",
    "### Customizable:\n",
    "- Provides some level of customization options.\n",
    "- Allows specifying thresholds for correlation analysis and adjusting histogram bins.\n",
    "- Supports excluding specific variables from the analysis if desired.\n",
    "\"\"\"\n",
    "\n",
    "# Handle large datasets efficiently:\n",
    "pandas_profiling_large_datasets = \"\"\"\n",
    "### Handling Large Datasets:\n",
    "- Efficiently handles large datasets.\n",
    "- Provides analysis and insights within a reasonable time frame.\n",
    "- Suitable for datasets of varying sizes.\n",
    "\"\"\"\n",
    "\n",
    "# Generate the Pandas Profiling report\n",
    "profile = pandas_profiling.ProfileReport(df)\n",
    "\n",
    "# Save the Pandas Profiling report to an HTML file\n",
    "profile.to_file(\"pandas_profiling_report.html\")\n",
    "\n",
    "# Sweetviz\n",
    "# ------------------------------------------------------------\n",
    "## Sweetviz\n",
    "\n",
    "# Generate high-quality visualizations:\n",
    "sweetviz_visualizations = \"\"\"\n",
    "### High-Quality Visualizations:\n",
    "- Emphasizes generating visually appealing and informative visualizations.\n",
    "- Offers various types of visualizations, including histograms, bar charts, scatter plots, and box plots.\n",
    "- Enhances data exploration and understanding through visual representations.\n",
    "\"\"\"\n",
    "\n",
    "# Enable side-by-side comparisons:\n",
    "sweetviz_comparisons = \"\"\"\n",
    "### Side-by-Side Comparisons:\n",
    "- Enables easy comparison of multiple datasets or subgroups within a dataset.\n",
    "- Facilitates the identification of differences and similarities across different data subsets.\n",
    "- Useful for understanding variations and patterns in the data.\n",
    "\"\"\"\n",
    "\n",
    "# Analyze the target variable:\n",
    "sweetviz_target_variable = \"\"\"\n",
    "### Target Variable Analysis:\n",
    "- Provides in-depth analysis and comparison of the target variable.\n",
    "- Helps in assessing the relationship between the target variable and other features.\n",
    "- Particularly useful for predictive modeling tasks.\n",
    "\"\"\"\n",
    "\n",
    "# Customize the report templates:\n",
    "sweetviz_customization = \"\"\"\n",
    "### Customizable Templates:\n",
    "- Offers customizable report templates to adjust the level of detail.\n",
    "- Allows users to choose the specific analyses and visualizations to include in the report.\n",
    "- Tailors the output to specific requirements and preferences.\n",
    "\"\"\"\n",
    "\n",
    "# Generate standalone HTML reports:\n",
    "sweetviz_standalone_html = \"\"\"\n",
    "### Standalone HTML Reports:\n",
    "- Generates a standalone HTML file as the output report.\n",
    "- Can be easily shared and viewed without additional dependencies.\n",
    "- Provides a self-contained report for further exploration and sharing.\n",
    "\"\"\"\n",
    "\n",
    "# Analyze the dataset and generate the Sweetviz report\n",
    "report = sv.analyze(df)\n",
    "\n",
    "# Save the Sweetviz report to an HTML file\n",
    "report.show_html(\"sweetviz_report.html\")\n"
   ]
  },
  {
   "cell_type": "markdown",
   "id": "d69bb96b",
   "metadata": {},
   "source": [
    "### General EDA "
   ]
  },
  {
   "cell_type": "code",
   "execution_count": 44,
   "id": "6e2807df",
   "metadata": {},
   "outputs": [
    {
     "data": {
      "text/html": [
       "<div>\n",
       "<style scoped>\n",
       "    .dataframe tbody tr th:only-of-type {\n",
       "        vertical-align: middle;\n",
       "    }\n",
       "\n",
       "    .dataframe tbody tr th {\n",
       "        vertical-align: top;\n",
       "    }\n",
       "\n",
       "    .dataframe thead th {\n",
       "        text-align: right;\n",
       "    }\n",
       "</style>\n",
       "<table border=\"1\" class=\"dataframe\">\n",
       "  <thead>\n",
       "    <tr style=\"text-align: right;\">\n",
       "      <th></th>\n",
       "      <th>customerID</th>\n",
       "      <th>gender</th>\n",
       "      <th>SeniorCitizen</th>\n",
       "      <th>Partner</th>\n",
       "      <th>Dependents</th>\n",
       "      <th>tenure</th>\n",
       "      <th>PhoneService</th>\n",
       "      <th>MultipleLines</th>\n",
       "      <th>InternetService</th>\n",
       "      <th>OnlineSecurity</th>\n",
       "      <th>...</th>\n",
       "      <th>DeviceProtection</th>\n",
       "      <th>TechSupport</th>\n",
       "      <th>StreamingTV</th>\n",
       "      <th>StreamingMovies</th>\n",
       "      <th>Contract</th>\n",
       "      <th>PaperlessBilling</th>\n",
       "      <th>PaymentMethod</th>\n",
       "      <th>MonthlyCharges</th>\n",
       "      <th>TotalCharges</th>\n",
       "      <th>Churn</th>\n",
       "    </tr>\n",
       "  </thead>\n",
       "  <tbody>\n",
       "    <tr>\n",
       "      <th>488</th>\n",
       "      <td>4472-LVYGI</td>\n",
       "      <td>Female</td>\n",
       "      <td>0</td>\n",
       "      <td>Yes</td>\n",
       "      <td>Yes</td>\n",
       "      <td>0</td>\n",
       "      <td>No</td>\n",
       "      <td>No phone service</td>\n",
       "      <td>DSL</td>\n",
       "      <td>Yes</td>\n",
       "      <td>...</td>\n",
       "      <td>Yes</td>\n",
       "      <td>Yes</td>\n",
       "      <td>Yes</td>\n",
       "      <td>No</td>\n",
       "      <td>Two year</td>\n",
       "      <td>Yes</td>\n",
       "      <td>Bank transfer (automatic)</td>\n",
       "      <td>52.55</td>\n",
       "      <td></td>\n",
       "      <td>No</td>\n",
       "    </tr>\n",
       "    <tr>\n",
       "      <th>753</th>\n",
       "      <td>3115-CZMZD</td>\n",
       "      <td>Male</td>\n",
       "      <td>0</td>\n",
       "      <td>No</td>\n",
       "      <td>Yes</td>\n",
       "      <td>0</td>\n",
       "      <td>Yes</td>\n",
       "      <td>No</td>\n",
       "      <td>No</td>\n",
       "      <td>No internet service</td>\n",
       "      <td>...</td>\n",
       "      <td>No internet service</td>\n",
       "      <td>No internet service</td>\n",
       "      <td>No internet service</td>\n",
       "      <td>No internet service</td>\n",
       "      <td>Two year</td>\n",
       "      <td>No</td>\n",
       "      <td>Mailed check</td>\n",
       "      <td>20.25</td>\n",
       "      <td></td>\n",
       "      <td>No</td>\n",
       "    </tr>\n",
       "    <tr>\n",
       "      <th>936</th>\n",
       "      <td>5709-LVOEQ</td>\n",
       "      <td>Female</td>\n",
       "      <td>0</td>\n",
       "      <td>Yes</td>\n",
       "      <td>Yes</td>\n",
       "      <td>0</td>\n",
       "      <td>Yes</td>\n",
       "      <td>No</td>\n",
       "      <td>DSL</td>\n",
       "      <td>Yes</td>\n",
       "      <td>...</td>\n",
       "      <td>Yes</td>\n",
       "      <td>No</td>\n",
       "      <td>Yes</td>\n",
       "      <td>Yes</td>\n",
       "      <td>Two year</td>\n",
       "      <td>No</td>\n",
       "      <td>Mailed check</td>\n",
       "      <td>80.85</td>\n",
       "      <td></td>\n",
       "      <td>No</td>\n",
       "    </tr>\n",
       "    <tr>\n",
       "      <th>1082</th>\n",
       "      <td>4367-NUYAO</td>\n",
       "      <td>Male</td>\n",
       "      <td>0</td>\n",
       "      <td>Yes</td>\n",
       "      <td>Yes</td>\n",
       "      <td>0</td>\n",
       "      <td>Yes</td>\n",
       "      <td>Yes</td>\n",
       "      <td>No</td>\n",
       "      <td>No internet service</td>\n",
       "      <td>...</td>\n",
       "      <td>No internet service</td>\n",
       "      <td>No internet service</td>\n",
       "      <td>No internet service</td>\n",
       "      <td>No internet service</td>\n",
       "      <td>Two year</td>\n",
       "      <td>No</td>\n",
       "      <td>Mailed check</td>\n",
       "      <td>25.75</td>\n",
       "      <td></td>\n",
       "      <td>No</td>\n",
       "    </tr>\n",
       "    <tr>\n",
       "      <th>1340</th>\n",
       "      <td>1371-DWPAZ</td>\n",
       "      <td>Female</td>\n",
       "      <td>0</td>\n",
       "      <td>Yes</td>\n",
       "      <td>Yes</td>\n",
       "      <td>0</td>\n",
       "      <td>No</td>\n",
       "      <td>No phone service</td>\n",
       "      <td>DSL</td>\n",
       "      <td>Yes</td>\n",
       "      <td>...</td>\n",
       "      <td>Yes</td>\n",
       "      <td>Yes</td>\n",
       "      <td>Yes</td>\n",
       "      <td>No</td>\n",
       "      <td>Two year</td>\n",
       "      <td>No</td>\n",
       "      <td>Credit card (automatic)</td>\n",
       "      <td>56.05</td>\n",
       "      <td></td>\n",
       "      <td>No</td>\n",
       "    </tr>\n",
       "    <tr>\n",
       "      <th>3331</th>\n",
       "      <td>7644-OMVMY</td>\n",
       "      <td>Male</td>\n",
       "      <td>0</td>\n",
       "      <td>Yes</td>\n",
       "      <td>Yes</td>\n",
       "      <td>0</td>\n",
       "      <td>Yes</td>\n",
       "      <td>No</td>\n",
       "      <td>No</td>\n",
       "      <td>No internet service</td>\n",
       "      <td>...</td>\n",
       "      <td>No internet service</td>\n",
       "      <td>No internet service</td>\n",
       "      <td>No internet service</td>\n",
       "      <td>No internet service</td>\n",
       "      <td>Two year</td>\n",
       "      <td>No</td>\n",
       "      <td>Mailed check</td>\n",
       "      <td>19.85</td>\n",
       "      <td></td>\n",
       "      <td>No</td>\n",
       "    </tr>\n",
       "    <tr>\n",
       "      <th>3826</th>\n",
       "      <td>3213-VVOLG</td>\n",
       "      <td>Male</td>\n",
       "      <td>0</td>\n",
       "      <td>Yes</td>\n",
       "      <td>Yes</td>\n",
       "      <td>0</td>\n",
       "      <td>Yes</td>\n",
       "      <td>Yes</td>\n",
       "      <td>No</td>\n",
       "      <td>No internet service</td>\n",
       "      <td>...</td>\n",
       "      <td>No internet service</td>\n",
       "      <td>No internet service</td>\n",
       "      <td>No internet service</td>\n",
       "      <td>No internet service</td>\n",
       "      <td>Two year</td>\n",
       "      <td>No</td>\n",
       "      <td>Mailed check</td>\n",
       "      <td>25.35</td>\n",
       "      <td></td>\n",
       "      <td>No</td>\n",
       "    </tr>\n",
       "    <tr>\n",
       "      <th>4380</th>\n",
       "      <td>2520-SGTTA</td>\n",
       "      <td>Female</td>\n",
       "      <td>0</td>\n",
       "      <td>Yes</td>\n",
       "      <td>Yes</td>\n",
       "      <td>0</td>\n",
       "      <td>Yes</td>\n",
       "      <td>No</td>\n",
       "      <td>No</td>\n",
       "      <td>No internet service</td>\n",
       "      <td>...</td>\n",
       "      <td>No internet service</td>\n",
       "      <td>No internet service</td>\n",
       "      <td>No internet service</td>\n",
       "      <td>No internet service</td>\n",
       "      <td>Two year</td>\n",
       "      <td>No</td>\n",
       "      <td>Mailed check</td>\n",
       "      <td>20.00</td>\n",
       "      <td></td>\n",
       "      <td>No</td>\n",
       "    </tr>\n",
       "    <tr>\n",
       "      <th>5218</th>\n",
       "      <td>2923-ARZLG</td>\n",
       "      <td>Male</td>\n",
       "      <td>0</td>\n",
       "      <td>Yes</td>\n",
       "      <td>Yes</td>\n",
       "      <td>0</td>\n",
       "      <td>Yes</td>\n",
       "      <td>No</td>\n",
       "      <td>No</td>\n",
       "      <td>No internet service</td>\n",
       "      <td>...</td>\n",
       "      <td>No internet service</td>\n",
       "      <td>No internet service</td>\n",
       "      <td>No internet service</td>\n",
       "      <td>No internet service</td>\n",
       "      <td>One year</td>\n",
       "      <td>Yes</td>\n",
       "      <td>Mailed check</td>\n",
       "      <td>19.70</td>\n",
       "      <td></td>\n",
       "      <td>No</td>\n",
       "    </tr>\n",
       "    <tr>\n",
       "      <th>6670</th>\n",
       "      <td>4075-WKNIU</td>\n",
       "      <td>Female</td>\n",
       "      <td>0</td>\n",
       "      <td>Yes</td>\n",
       "      <td>Yes</td>\n",
       "      <td>0</td>\n",
       "      <td>Yes</td>\n",
       "      <td>Yes</td>\n",
       "      <td>DSL</td>\n",
       "      <td>No</td>\n",
       "      <td>...</td>\n",
       "      <td>Yes</td>\n",
       "      <td>Yes</td>\n",
       "      <td>Yes</td>\n",
       "      <td>No</td>\n",
       "      <td>Two year</td>\n",
       "      <td>No</td>\n",
       "      <td>Mailed check</td>\n",
       "      <td>73.35</td>\n",
       "      <td></td>\n",
       "      <td>No</td>\n",
       "    </tr>\n",
       "    <tr>\n",
       "      <th>6754</th>\n",
       "      <td>2775-SEFEE</td>\n",
       "      <td>Male</td>\n",
       "      <td>0</td>\n",
       "      <td>No</td>\n",
       "      <td>Yes</td>\n",
       "      <td>0</td>\n",
       "      <td>Yes</td>\n",
       "      <td>Yes</td>\n",
       "      <td>DSL</td>\n",
       "      <td>Yes</td>\n",
       "      <td>...</td>\n",
       "      <td>No</td>\n",
       "      <td>Yes</td>\n",
       "      <td>No</td>\n",
       "      <td>No</td>\n",
       "      <td>Two year</td>\n",
       "      <td>Yes</td>\n",
       "      <td>Bank transfer (automatic)</td>\n",
       "      <td>61.90</td>\n",
       "      <td></td>\n",
       "      <td>No</td>\n",
       "    </tr>\n",
       "  </tbody>\n",
       "</table>\n",
       "<p>11 rows × 21 columns</p>\n",
       "</div>"
      ],
      "text/plain": [
       "      customerID  gender  SeniorCitizen Partner Dependents  tenure  \\\n",
       "488   4472-LVYGI  Female              0     Yes        Yes       0   \n",
       "753   3115-CZMZD    Male              0      No        Yes       0   \n",
       "936   5709-LVOEQ  Female              0     Yes        Yes       0   \n",
       "1082  4367-NUYAO    Male              0     Yes        Yes       0   \n",
       "1340  1371-DWPAZ  Female              0     Yes        Yes       0   \n",
       "3331  7644-OMVMY    Male              0     Yes        Yes       0   \n",
       "3826  3213-VVOLG    Male              0     Yes        Yes       0   \n",
       "4380  2520-SGTTA  Female              0     Yes        Yes       0   \n",
       "5218  2923-ARZLG    Male              0     Yes        Yes       0   \n",
       "6670  4075-WKNIU  Female              0     Yes        Yes       0   \n",
       "6754  2775-SEFEE    Male              0      No        Yes       0   \n",
       "\n",
       "     PhoneService     MultipleLines InternetService       OnlineSecurity  ...  \\\n",
       "488            No  No phone service             DSL                  Yes  ...   \n",
       "753           Yes                No              No  No internet service  ...   \n",
       "936           Yes                No             DSL                  Yes  ...   \n",
       "1082          Yes               Yes              No  No internet service  ...   \n",
       "1340           No  No phone service             DSL                  Yes  ...   \n",
       "3331          Yes                No              No  No internet service  ...   \n",
       "3826          Yes               Yes              No  No internet service  ...   \n",
       "4380          Yes                No              No  No internet service  ...   \n",
       "5218          Yes                No              No  No internet service  ...   \n",
       "6670          Yes               Yes             DSL                   No  ...   \n",
       "6754          Yes               Yes             DSL                  Yes  ...   \n",
       "\n",
       "         DeviceProtection          TechSupport          StreamingTV  \\\n",
       "488                   Yes                  Yes                  Yes   \n",
       "753   No internet service  No internet service  No internet service   \n",
       "936                   Yes                   No                  Yes   \n",
       "1082  No internet service  No internet service  No internet service   \n",
       "1340                  Yes                  Yes                  Yes   \n",
       "3331  No internet service  No internet service  No internet service   \n",
       "3826  No internet service  No internet service  No internet service   \n",
       "4380  No internet service  No internet service  No internet service   \n",
       "5218  No internet service  No internet service  No internet service   \n",
       "6670                  Yes                  Yes                  Yes   \n",
       "6754                   No                  Yes                   No   \n",
       "\n",
       "          StreamingMovies  Contract PaperlessBilling  \\\n",
       "488                    No  Two year              Yes   \n",
       "753   No internet service  Two year               No   \n",
       "936                   Yes  Two year               No   \n",
       "1082  No internet service  Two year               No   \n",
       "1340                   No  Two year               No   \n",
       "3331  No internet service  Two year               No   \n",
       "3826  No internet service  Two year               No   \n",
       "4380  No internet service  Two year               No   \n",
       "5218  No internet service  One year              Yes   \n",
       "6670                   No  Two year               No   \n",
       "6754                   No  Two year              Yes   \n",
       "\n",
       "                  PaymentMethod MonthlyCharges  TotalCharges Churn  \n",
       "488   Bank transfer (automatic)          52.55                  No  \n",
       "753                Mailed check          20.25                  No  \n",
       "936                Mailed check          80.85                  No  \n",
       "1082               Mailed check          25.75                  No  \n",
       "1340    Credit card (automatic)          56.05                  No  \n",
       "3331               Mailed check          19.85                  No  \n",
       "3826               Mailed check          25.35                  No  \n",
       "4380               Mailed check          20.00                  No  \n",
       "5218               Mailed check          19.70                  No  \n",
       "6670               Mailed check          73.35                  No  \n",
       "6754  Bank transfer (automatic)          61.90                  No  \n",
       "\n",
       "[11 rows x 21 columns]"
      ]
     },
     "execution_count": 44,
     "metadata": {},
     "output_type": "execute_result"
    }
   ],
   "source": [
    "#data['TotalCharges'].isnull()\n",
    "data[data['tenure']==0]"
   ]
  },
  {
   "cell_type": "code",
   "execution_count": null,
   "id": "d323cc14",
   "metadata": {},
   "outputs": [],
   "source": []
  },
  {
   "cell_type": "markdown",
   "id": "2b972f83",
   "metadata": {},
   "source": [
    "There are 11 clients with tenure = 0. All the clients with missing values have a tenure of 0 which means that they are fresh clients who have yet to pay a bill so the value of TotalCharges should be 0 for them."
   ]
  },
  {
   "cell_type": "markdown",
   "id": "b155a9ed",
   "metadata": {},
   "source": [
    "## Describe the data using Seaborn  and Matplotlib plots"
   ]
  },
  {
   "cell_type": "markdown",
   "id": "7b48d379",
   "metadata": {},
   "source": [
    "## 1. Categorical Variables"
   ]
  },
  {
   "cell_type": "code",
   "execution_count": 45,
   "id": "2499b3e0",
   "metadata": {},
   "outputs": [
    {
     "name": "stdout",
     "output_type": "stream",
     "text": [
      "['customerID', 'gender', 'Partner', 'Dependents', 'PhoneService', 'MultipleLines', 'InternetService', 'OnlineSecurity', 'OnlineBackup', 'DeviceProtection', 'TechSupport', 'StreamingTV', 'StreamingMovies', 'Contract', 'PaperlessBilling', 'PaymentMethod', 'TotalCharges', 'Churn']\n"
     ]
    }
   ],
   "source": [
    "# Identify Categorical variables\n",
    "\n",
    "cat_vars = []\n",
    "for column in data.columns:\n",
    "    if data.dtypes[column] == 'object':  # Check if the data type is 'object'\n",
    "        cat_vars.append(column)\n",
    "        \n",
    "print(cat_vars)"
   ]
  },
  {
   "cell_type": "markdown",
   "id": "08a677f0",
   "metadata": {},
   "source": [
    "We remove first column customerID and Total Charges which is a numeric variable."
   ]
  },
  {
   "cell_type": "code",
   "execution_count": 46,
   "id": "5077abb9",
   "metadata": {},
   "outputs": [
    {
     "data": {
      "image/png": "[encoded data removed]",
      "text/plain": [
       "<Figure size 864x576 with 8 Axes>"
      ]
     },
     "metadata": {},
     "output_type": "display_data"
    }
   ],
   "source": [
    "# Plots for categorical Variables\n",
    "\n",
    "# Exclude the first variable and TotalCharges variables\n",
    "cat_vars = [var for var in cat_vars if var not in ['customerID', 'TotalCharges']]  \n",
    "\n",
    "cat_vars1 = cat_vars\n",
    "\n",
    "n_rows = 4  # Number of subplot rows\n",
    "n_cols = 2  # Number of subplot columns\n",
    "\n",
    "# Create a figure and axes for the subplots\n",
    "fig, axes = plt.subplots(n_rows, n_cols, figsize=(12, 8))\n",
    "axes = axes.flatten()  # Flatten the 2D axes array for easier indexing\n",
    "\n",
    "# Iterate over the categorical variables and create the plots\n",
    "for i, var in enumerate(cat_vars1[0:8]):\n",
    "    ax = axes[i]  # Select the current subplot\n",
    "    data[var].value_counts().plot(kind='barh', ax=ax)  # Plot the value counts as a bar chart\n",
    "    ax.set_title(var)  # Set the title of the subplot\n",
    "    ax.set_xlabel('')  # Remove x-axis label to avoid clutter\n",
    "    ax.set_ylabel('Count')  # Set y-axis label\n",
    "\n",
    "# Adjust the spacing between subplots\n",
    "plt.subplots_adjust(hspace=0.6, wspace=0.5) \n",
    "\n",
    "# Show the plots\n",
    "plt.show()"
   ]
  },
  {
   "cell_type": "code",
   "execution_count": 47,
   "id": "e8001ee4",
   "metadata": {},
   "outputs": [
    {
     "data": {
      "image/png": "[encoded data removed]",
      "text/plain": [
       "<Figure size 864x576 with 8 Axes>"
      ]
     },
     "metadata": {},
     "output_type": "display_data"
    }
   ],
   "source": [
    "# Plots for categorical Variables\n",
    "cat_vars2 = cat_vars  # Exclude the first variable and last 2 variables\n",
    "\n",
    "n_rows = 4  # Number of subplot rows\n",
    "n_cols = 2  # Number of subplot columns\n",
    "\n",
    "# Create a figure and axes for the subplots\n",
    "fig, axes = plt.subplots(n_rows, n_cols, figsize=(12, 8))\n",
    "axes = axes.flatten()  # Flatten the 2D axes array for easier indexing\n",
    "\n",
    "# Iterate over the categorical variables and create the plots\n",
    "for i, var in enumerate(cat_vars2[8:16]):\n",
    "    ax = axes[i]  # Select the current subplot\n",
    "    data[var].value_counts().plot(kind='barh', ax=ax)  # Plot the value counts as a bar chart\n",
    "    ax.set_title(var)  # Set the title of the subplot\n",
    "    ax.set_xlabel('')  # Remove x-axis label to avoid clutter\n",
    "    ax.set_ylabel('Count')  # Set y-axis label\n",
    "\n",
    "# Adjust the spacing between subplots\n",
    "plt.subplots_adjust(hspace=0.6, wspace=0.5) \n",
    "\n",
    "# Show the plots\n",
    "plt.show()"
   ]
  },
  {
   "cell_type": "code",
   "execution_count": 48,
   "id": "3164f471",
   "metadata": {},
   "outputs": [
    {
     "data": {
      "image/png": "[encoded data removed]",
      "text/plain": [
       "<Figure size 720x720 with 1 Axes>"
      ]
     },
     "metadata": {},
     "output_type": "display_data"
    }
   ],
   "source": [
    "# construct box plot for continuous variables\n",
    "plt.figure(figsize=(10,10))\n",
    "data.boxplot(vert=0)\n",
    "plt.show()"
   ]
  },
  {
   "cell_type": "markdown",
   "id": "ca3514ef",
   "metadata": {},
   "source": [
    "From the above box plow we can verify that we dont have any outliers"
   ]
  },
  {
   "cell_type": "markdown",
   "id": "294dde78",
   "metadata": {},
   "source": [
    "### Interpertation of  Categorical Variables"
   ]
  },
  {
   "cell_type": "markdown",
   "id": "ca0badb0",
   "metadata": {},
   "source": [
    "- Gender and Partner are evenly distributed\n",
    "- Most variables are almost evenly distributed with the exception of **Phone Service** where majority of clients have a Phone service\n",
    "- Variable classification **\"No Phone Service\"** will be regarded as **No**"
   ]
  },
  {
   "cell_type": "markdown",
   "id": "48456f71",
   "metadata": {},
   "source": [
    "## 2. Numeric Variables"
   ]
  },
  {
   "cell_type": "code",
   "execution_count": 49,
   "id": "a41d200f",
   "metadata": {},
   "outputs": [
    {
     "data": {
      "text/plain": [
       "['SeniorCitizen', 'tenure', 'MonthlyCharges', 'TotalCharges']"
      ]
     },
     "execution_count": 49,
     "metadata": {},
     "output_type": "execute_result"
    }
   ],
   "source": [
    "# Identify Numeric variables\n",
    "\n",
    "num_vars = []\n",
    "for column in data.columns:\n",
    "    if data.dtypes[column] != 'object':  # Check if the data type is 'object'\n",
    "        num_vars.append(column)\n",
    "        \n",
    "# Add variable total charges\n",
    "num_vars += ['TotalCharges']\n",
    "num_vars"
   ]
  },
  {
   "cell_type": "code",
   "execution_count": 50,
   "id": "f97d0ab5",
   "metadata": {},
   "outputs": [
    {
     "name": "stdout",
     "output_type": "stream",
     "text": [
      "No     5174\n",
      "Yes    1869\n",
      "Name: Churn, dtype: int64\n"
     ]
    }
   ],
   "source": [
    "\n",
    "# Assuming your DataFrame is called 'df' and the churn column is named 'Churn'\n",
    "churn_counts = data['Churn'].value_counts()\n",
    "print(churn_counts)\n"
   ]
  },
  {
   "cell_type": "code",
   "execution_count": 51,
   "id": "8111802a",
   "metadata": {},
   "outputs": [
    {
     "data": {
      "text/plain": [
       "Text(0.5, 1.0, 'Histogram Plot ~ Monthly Charges')"
      ]
     },
     "execution_count": 51,
     "metadata": {},
     "output_type": "execute_result"
    },
    {
     "data": {
      "image/png": "[encoded data removed]",
      "text/plain": [
       "<Figure size 432x288 with 1 Axes>"
      ]
     },
     "metadata": {},
     "output_type": "display_data"
    }
   ],
   "source": [
    "# plots for numeric variables\n",
    "sns.histplot(data=data, x='MonthlyCharges', color='steelblue').set_title('Histogram Plot ~ Monthly Charges')"
   ]
  },
  {
   "cell_type": "code",
   "execution_count": 52,
   "id": "95cfeda1",
   "metadata": {},
   "outputs": [],
   "source": [
    "data['TotalCharges'] = data['TotalCharges'].replace(' ', np.nan)"
   ]
  },
  {
   "cell_type": "code",
   "execution_count": 53,
   "id": "f533e0ff",
   "metadata": {},
   "outputs": [],
   "source": [
    "data['TotalCharges'] = pd.to_numeric(data['TotalCharges'])\n"
   ]
  },
  {
   "cell_type": "code",
   "execution_count": 54,
   "id": "8899239a",
   "metadata": {},
   "outputs": [
    {
     "data": {
      "text/plain": [
       "Text(0.5, 1.0, 'KdePlot ~ Total Charges')"
      ]
     },
     "execution_count": 54,
     "metadata": {},
     "output_type": "execute_result"
    },
    {
     "data": {
      "image/png": "[encoded data removed]",
      "text/plain": [
       "<Figure size 432x288 with 1 Axes>"
      ]
     },
     "metadata": {},
     "output_type": "display_data"
    }
   ],
   "source": [
    "# total Charges\n",
    "# remove non numeric values in Total Charges variable\n",
    "#data['TotalCharges'] = pd.to_numeric(data['TotalCharges'], errors='coerce')\n",
    "#numeric_data = data[data['TotalCharges'].notnull()]\n",
    "\n",
    "sns.kdeplot(data['TotalCharges'], color='steelblue').set_title('KdePlot ~ Total Charges')\n"
   ]
  },
  {
   "cell_type": "code",
   "execution_count": 55,
   "id": "4026c161",
   "metadata": {},
   "outputs": [
    {
     "data": {
      "text/plain": [
       "Text(0.5, 1.0, 'Histogram Plot ~ tenure')"
      ]
     },
     "execution_count": 55,
     "metadata": {},
     "output_type": "execute_result"
    },
    {
     "data": {
      "image/png": "[encoded data removed]",
      "text/plain": [
       "<Figure size 432x288 with 1 Axes>"
      ]
     },
     "metadata": {},
     "output_type": "display_data"
    }
   ],
   "source": [
    "# tenure\n",
    "sns.histplot(data=data, x='tenure', color='steelblue').set_title('Histogram Plot ~ tenure')"
   ]
  },
  {
   "cell_type": "code",
   "execution_count": 56,
   "id": "95523d19",
   "metadata": {},
   "outputs": [
    {
     "data": {
      "text/plain": [
       "Text(0.5, 1.0, 'Count Plot ~ SeniorCitizen')"
      ]
     },
     "execution_count": 56,
     "metadata": {},
     "output_type": "execute_result"
    },
    {
     "data": {
      "image/png": "[encoded data removed]",
      "text/plain": [
       "<Figure size 432x288 with 1 Axes>"
      ]
     },
     "metadata": {},
     "output_type": "display_data"
    }
   ],
   "source": [
    "# tenure\n",
    "sns.countplot(data=data, x='SeniorCitizen', color='steelblue').set_title('Count Plot ~ SeniorCitizen')"
   ]
  },
  {
   "cell_type": "markdown",
   "id": "91f2dfad",
   "metadata": {},
   "source": [
    "### Interpertation of  Numeric Variables"
   ]
  },
  {
   "cell_type": "markdown",
   "id": "1b825057",
   "metadata": {},
   "source": [
    "- using the kde plot, the distribution of **Total Charges** is skewed to right\n",
    "- The distribution of citizens is imbalanced."
   ]
  },
  {
   "cell_type": "markdown",
   "id": "d1b6b46c",
   "metadata": {},
   "source": [
    "# Step 2 - Identifying relationships"
   ]
  },
  {
   "cell_type": "markdown",
   "id": "b106b379",
   "metadata": {},
   "source": [
    "Lets first check Churn vs Tenure"
   ]
  },
  {
   "cell_type": "code",
   "execution_count": 57,
   "id": "cbbebb76",
   "metadata": {},
   "outputs": [],
   "source": [
    "data.drop(\"customerID\",axis=1,inplace = True)"
   ]
  },
  {
   "cell_type": "code",
   "execution_count": 58,
   "id": "2407c739",
   "metadata": {},
   "outputs": [
    {
     "name": "stdout",
     "output_type": "stream",
     "text": [
      "<class 'pandas.core.frame.DataFrame'>\n",
      "RangeIndex: 7043 entries, 0 to 7042\n",
      "Data columns (total 20 columns):\n",
      " #   Column            Non-Null Count  Dtype  \n",
      "---  ------            --------------  -----  \n",
      " 0   gender            7043 non-null   object \n",
      " 1   SeniorCitizen     7043 non-null   int64  \n",
      " 2   Partner           7043 non-null   object \n",
      " 3   Dependents        7043 non-null   object \n",
      " 4   tenure            7043 non-null   int64  \n",
      " 5   PhoneService      7043 non-null   object \n",
      " 6   MultipleLines     7043 non-null   object \n",
      " 7   InternetService   7043 non-null   object \n",
      " 8   OnlineSecurity    7043 non-null   object \n",
      " 9   OnlineBackup      7043 non-null   object \n",
      " 10  DeviceProtection  7043 non-null   object \n",
      " 11  TechSupport       7043 non-null   object \n",
      " 12  StreamingTV       7043 non-null   object \n",
      " 13  StreamingMovies   7043 non-null   object \n",
      " 14  Contract          7043 non-null   object \n",
      " 15  PaperlessBilling  7043 non-null   object \n",
      " 16  PaymentMethod     7043 non-null   object \n",
      " 17  MonthlyCharges    7043 non-null   float64\n",
      " 18  TotalCharges      7032 non-null   float64\n",
      " 19  Churn             7043 non-null   object \n",
      "dtypes: float64(2), int64(2), object(16)\n",
      "memory usage: 1.1+ MB\n"
     ]
    }
   ],
   "source": [
    "data.info()"
   ]
  },
  {
   "cell_type": "code",
   "execution_count": 59,
   "id": "3500954e",
   "metadata": {},
   "outputs": [
    {
     "data": {
      "image/png": "[encoded data removed]",
      "text/plain": [
       "<Figure size 720x504 with 1 Axes>"
      ]
     },
     "metadata": {},
     "output_type": "display_data"
    }
   ],
   "source": [
    "\n",
    "\n",
    "plt.figure(figsize=(10, 7))\n",
    "sns.stripplot(x=data['Churn'], y=data['tenure'], jitter=True)\n",
    "plt.show()\n"
   ]
  },
  {
   "cell_type": "code",
   "execution_count": 60,
   "id": "5abd167a",
   "metadata": {},
   "outputs": [
    {
     "data": {
      "image/png": "[encoded data removed]",
      "text/plain": [
       "<Figure size 720x504 with 1 Axes>"
      ]
     },
     "metadata": {},
     "output_type": "display_data"
    }
   ],
   "source": [
    "\n",
    "\n",
    "plt.figure(figsize=(10, 7))\n",
    "sns.stripplot(x=data[\"Churn\"], y=data[\"MonthlyCharges\"], jitter=True)\n",
    "plt.show()\n"
   ]
  },
  {
   "cell_type": "code",
   "execution_count": 61,
   "id": "9caeb177",
   "metadata": {},
   "outputs": [
    {
     "data": {
      "image/png": "[encoded data removed]",
      "text/plain": [
       "<Figure size 720x504 with 1 Axes>"
      ]
     },
     "metadata": {},
     "output_type": "display_data"
    }
   ],
   "source": [
    "\n",
    "plt.figure(figsize=(10, 7))\n",
    "sns.stripplot(x=data[\"Churn\"], y=data[\"TotalCharges\"], jitter=True)\n",
    "plt.show()\n"
   ]
  },
  {
   "cell_type": "code",
   "execution_count": 26,
   "id": "d5cf9e3b",
   "metadata": {},
   "outputs": [],
   "source": [
    "#for cat in data.select_dtypes(include='object'):\n",
    "    #data[cat] = data[cat].astype('category')"
   ]
  },
  {
   "cell_type": "code",
   "execution_count": 27,
   "id": "0c94be6f",
   "metadata": {},
   "outputs": [
    {
     "name": "stdout",
     "output_type": "stream",
     "text": [
      "<class 'pandas.core.frame.DataFrame'>\n",
      "RangeIndex: 7043 entries, 0 to 7042\n",
      "Data columns (total 20 columns):\n",
      " #   Column            Non-Null Count  Dtype  \n",
      "---  ------            --------------  -----  \n",
      " 0   gender            7043 non-null   object \n",
      " 1   SeniorCitizen     7043 non-null   int64  \n",
      " 2   Partner           7043 non-null   object \n",
      " 3   Dependents        7043 non-null   object \n",
      " 4   tenure            7043 non-null   int64  \n",
      " 5   PhoneService      7043 non-null   object \n",
      " 6   MultipleLines     7043 non-null   object \n",
      " 7   InternetService   7043 non-null   object \n",
      " 8   OnlineSecurity    7043 non-null   object \n",
      " 9   OnlineBackup      7043 non-null   object \n",
      " 10  DeviceProtection  7043 non-null   object \n",
      " 11  TechSupport       7043 non-null   object \n",
      " 12  StreamingTV       7043 non-null   object \n",
      " 13  StreamingMovies   7043 non-null   object \n",
      " 14  Contract          7043 non-null   object \n",
      " 15  PaperlessBilling  7043 non-null   object \n",
      " 16  PaymentMethod     7043 non-null   object \n",
      " 17  MonthlyCharges    7043 non-null   float64\n",
      " 18  TotalCharges      7032 non-null   float64\n",
      " 19  Churn             7043 non-null   object \n",
      "dtypes: float64(2), int64(2), object(16)\n",
      "memory usage: 1.1+ MB\n"
     ]
    }
   ],
   "source": [
    "data.info()"
   ]
  },
  {
   "cell_type": "code",
   "execution_count": 28,
   "id": "a96dba63",
   "metadata": {},
   "outputs": [
    {
     "data": {
      "text/plain": [
       "gender               0\n",
       "SeniorCitizen        0\n",
       "Partner              0\n",
       "Dependents           0\n",
       "tenure               0\n",
       "PhoneService         0\n",
       "MultipleLines        0\n",
       "InternetService      0\n",
       "OnlineSecurity       0\n",
       "OnlineBackup         0\n",
       "DeviceProtection     0\n",
       "TechSupport          0\n",
       "StreamingTV          0\n",
       "StreamingMovies      0\n",
       "Contract             0\n",
       "PaperlessBilling     0\n",
       "PaymentMethod        0\n",
       "MonthlyCharges       0\n",
       "TotalCharges        11\n",
       "Churn                0\n",
       "dtype: int64"
      ]
     },
     "execution_count": 28,
     "metadata": {},
     "output_type": "execute_result"
    }
   ],
   "source": [
    "data.isnull().sum()"
   ]
  },
  {
   "cell_type": "code",
   "execution_count": 29,
   "id": "6d32e6d1",
   "metadata": {},
   "outputs": [],
   "source": [
    "data.dropna(inplace = True)"
   ]
  },
  {
   "cell_type": "code",
   "execution_count": 30,
   "id": "ad41a8f6",
   "metadata": {},
   "outputs": [],
   "source": [
    "catVariables = [\"gender\", \"SeniorCitizen\", \"Partner\", \"Dependents\",\"PhoneService\", \"MultipleLines\", \"InternetService\", \"OnlineSecurity\",\n",
    "            \"OnlineBackup\", \"DeviceProtection\", \"TechSupport\", \"StreamingTV\", \n",
    "            \"StreamingMovies\"]\n"
   ]
  },
  {
   "cell_type": "code",
   "execution_count": null,
   "id": "865770bf",
   "metadata": {},
   "outputs": [],
   "source": []
  },
  {
   "cell_type": "markdown",
   "id": "442c0d8f",
   "metadata": {},
   "source": [
    "## Chi-square:\n",
    "\n",
    "Chi-square is a statistical test that can be used to determine if there is a significant relationship between two categorical variables. It involves comparing the observed frequencies of each category in a contingency table to the expected frequencies, assuming that there is no relationship between the variables."
   ]
  },
  {
   "cell_type": "code",
   "execution_count": 31,
   "id": "5252595c",
   "metadata": {},
   "outputs": [],
   "source": [
    "def chi_square_test(data, alpha=0.05):\n",
    "    \"\"\"\n",
    "    Perform a chi-square test of independence on a contingency table and return the test result and interpretation.\n",
    "\n",
    "    Parameters:\n",
    "    data (list of lists): A contingency table of observed frequencies\n",
    "    alpha (float): The significance level (default: 0.05)\n",
    "\n",
    "    Returns:\n",
    "    result (str): The test result and interpretation\n",
    "    \"\"\"\n",
    "\n",
    "    # perform chi-square test\n",
    "    stat, p, dof, expected = chi2_contingency(data)\n",
    "\n",
    "    # interpret p-value\n",
    "    if p <= alpha:\n",
    "        result = f\"Dependent (reject H0) with p-value {p:.6f}\"\n",
    "    else:\n",
    "        result = f\"Independent (H0 holds true) with p-value {p:.6f}\"\n",
    "\n",
    "    return result"
   ]
  },
  {
   "cell_type": "code",
   "execution_count": 32,
   "id": "ba2b0062",
   "metadata": {},
   "outputs": [
    {
     "name": "stdout",
     "output_type": "stream",
     "text": [
      "gender & churn:  Independent (H0 holds true) with p-value 0.490488\n",
      "\n",
      "SeniorCitizen & churn:  Dependent (reject H0) with p-value 0.000000\n",
      "\n",
      "Partner & churn:  Dependent (reject H0) with p-value 0.000000\n",
      "\n",
      "Dependents & churn:  Dependent (reject H0) with p-value 0.000000\n",
      "\n",
      "PhoneService & churn:  Independent (H0 holds true) with p-value 0.349924\n",
      "\n",
      "MultipleLines & churn:  Dependent (reject H0) with p-value 0.003568\n",
      "\n",
      "InternetService & churn:  Dependent (reject H0) with p-value 0.000000\n",
      "\n",
      "OnlineSecurity & churn:  Dependent (reject H0) with p-value 0.000000\n",
      "\n",
      "OnlineBackup & churn:  Dependent (reject H0) with p-value 0.000000\n",
      "\n",
      "DeviceProtection & churn:  Dependent (reject H0) with p-value 0.000000\n",
      "\n",
      "TechSupport & churn:  Dependent (reject H0) with p-value 0.000000\n",
      "\n",
      "StreamingTV & churn:  Dependent (reject H0) with p-value 0.000000\n",
      "\n",
      "StreamingMovies & churn:  Dependent (reject H0) with p-value 0.000000\n",
      "\n"
     ]
    }
   ],
   "source": [
    "# Import library for chi-square contingency test\n",
    "from scipy.stats import chi2_contingency\n",
    "for col in catVariables:\n",
    "    # create a confusion matrix as a Pandas DataFrame\n",
    "    confusion_matrix = pd.crosstab(data[col], data.Churn)\n",
    "\n",
    "    # convert the DataFrame to a list of lists\n",
    "    confusion_matrix_list = confusion_matrix.values.tolist()\n",
    "    \n",
    "    print(f\"{col} & churn: \",chi_square_test(confusion_matrix_list, alpha=0.05))\n",
    "    print()"
   ]
  },
  {
   "cell_type": "markdown",
   "id": "aeb59ea2",
   "metadata": {},
   "source": [
    "## Interpretation of Results:\n",
    "\n",
    "**Gender & churn:** Independent (H0 holds true) with p-value 0.490488\n",
    "\n",
    "- The p-value of 0.490488 is greater than the significance level of 0.05.\n",
    "- Therefore, we fail to reject the null hypothesis (H0) that there is no relationship between gender and churn.\n",
    "- It suggests that gender is not a significant factor in determining churn.\n",
    "\n",
    "**SeniorCitizen & churn:** Dependent (reject H0) with p-value 0.000000\n",
    "\n",
    "- The p-value of 0.000000 is less than the significance level of 0.05.\n",
    "- Therefore, we reject the null hypothesis (H0) that there is no relationship between SeniorCitizen status and churn.\n",
    "- It indicates that being a senior citizen is significantly associated with churn.\n",
    "\n",
    "**Partner & churn:** Dependent (reject H0) with p-value 0.000000\n",
    "\n",
    "- The p-value of 0.000000 is less than the significance level of 0.05.\n",
    "- Hence, we reject the null hypothesis (H0) that there is no relationship between having a partner and churn.\n",
    "- It suggests that having a partner is significantly associated with churn.\n",
    "\n",
    "**Dependents & churn:** Dependent (reject H0) with p-value 0.000000\n",
    "\n",
    "- The p-value of 0.000000 is less than the significance level of 0.05.\n",
    "- Thus, we reject the null hypothesis (H0) that there is no relationship between having dependents and churn.\n",
    "- It indicates that having dependents is significantly associated with churn.\n",
    "\n",
    "**PhoneService & churn:** Independent (H0 holds true) with p-value 0.349924\n",
    "\n",
    "- The p-value of 0.349924 is greater than the significance level of 0.05.\n",
    "- Therefore, we fail to reject the null hypothesis (H0) that there is no relationship between phone service and churn.\n",
    "- It suggests that phone service is not a significant factor in determining churn.\n",
    "\n",
    "**MultipleLines & churn:** Dependent (reject H0) with p-value 0.003568\n",
    "\n",
    "- The p-value of 0.003568 is less than the significance level of 0.05.\n",
    "- Hence, we reject the null hypothesis (H0) that there is no relationship between multiple lines and churn.\n",
    "- It indicates that having multiple lines is significantly associated with churn.\n",
    "\n",
    "Likewise, it is for other variables too."
   ]
  },
  {
   "cell_type": "code",
   "execution_count": 33,
   "id": "1800350e",
   "metadata": {},
   "outputs": [
    {
     "data": {
      "text/html": [
       "<div>\n",
       "<style scoped>\n",
       "    .dataframe tbody tr th:only-of-type {\n",
       "        vertical-align: middle;\n",
       "    }\n",
       "\n",
       "    .dataframe tbody tr th {\n",
       "        vertical-align: top;\n",
       "    }\n",
       "\n",
       "    .dataframe thead th {\n",
       "        text-align: right;\n",
       "    }\n",
       "</style>\n",
       "<table border=\"1\" class=\"dataframe\">\n",
       "  <thead>\n",
       "    <tr style=\"text-align: right;\">\n",
       "      <th></th>\n",
       "      <th>gender</th>\n",
       "      <th>SeniorCitizen</th>\n",
       "      <th>Partner</th>\n",
       "      <th>Dependents</th>\n",
       "      <th>tenure</th>\n",
       "      <th>PhoneService</th>\n",
       "      <th>MultipleLines</th>\n",
       "      <th>InternetService</th>\n",
       "      <th>OnlineSecurity</th>\n",
       "      <th>OnlineBackup</th>\n",
       "      <th>DeviceProtection</th>\n",
       "      <th>TechSupport</th>\n",
       "      <th>StreamingTV</th>\n",
       "      <th>StreamingMovies</th>\n",
       "      <th>Contract</th>\n",
       "      <th>PaperlessBilling</th>\n",
       "      <th>PaymentMethod</th>\n",
       "      <th>MonthlyCharges</th>\n",
       "      <th>TotalCharges</th>\n",
       "      <th>Churn</th>\n",
       "    </tr>\n",
       "  </thead>\n",
       "  <tbody>\n",
       "    <tr>\n",
       "      <th>0</th>\n",
       "      <td>Female</td>\n",
       "      <td>0</td>\n",
       "      <td>Yes</td>\n",
       "      <td>No</td>\n",
       "      <td>1</td>\n",
       "      <td>No</td>\n",
       "      <td>No phone service</td>\n",
       "      <td>DSL</td>\n",
       "      <td>No</td>\n",
       "      <td>Yes</td>\n",
       "      <td>No</td>\n",
       "      <td>No</td>\n",
       "      <td>No</td>\n",
       "      <td>No</td>\n",
       "      <td>Month-to-month</td>\n",
       "      <td>Yes</td>\n",
       "      <td>Electronic check</td>\n",
       "      <td>29.85</td>\n",
       "      <td>29.85</td>\n",
       "      <td>No</td>\n",
       "    </tr>\n",
       "    <tr>\n",
       "      <th>1</th>\n",
       "      <td>Male</td>\n",
       "      <td>0</td>\n",
       "      <td>No</td>\n",
       "      <td>No</td>\n",
       "      <td>34</td>\n",
       "      <td>Yes</td>\n",
       "      <td>No</td>\n",
       "      <td>DSL</td>\n",
       "      <td>Yes</td>\n",
       "      <td>No</td>\n",
       "      <td>Yes</td>\n",
       "      <td>No</td>\n",
       "      <td>No</td>\n",
       "      <td>No</td>\n",
       "      <td>One year</td>\n",
       "      <td>No</td>\n",
       "      <td>Mailed check</td>\n",
       "      <td>56.95</td>\n",
       "      <td>1889.50</td>\n",
       "      <td>No</td>\n",
       "    </tr>\n",
       "    <tr>\n",
       "      <th>2</th>\n",
       "      <td>Male</td>\n",
       "      <td>0</td>\n",
       "      <td>No</td>\n",
       "      <td>No</td>\n",
       "      <td>2</td>\n",
       "      <td>Yes</td>\n",
       "      <td>No</td>\n",
       "      <td>DSL</td>\n",
       "      <td>Yes</td>\n",
       "      <td>Yes</td>\n",
       "      <td>No</td>\n",
       "      <td>No</td>\n",
       "      <td>No</td>\n",
       "      <td>No</td>\n",
       "      <td>Month-to-month</td>\n",
       "      <td>Yes</td>\n",
       "      <td>Mailed check</td>\n",
       "      <td>53.85</td>\n",
       "      <td>108.15</td>\n",
       "      <td>Yes</td>\n",
       "    </tr>\n",
       "    <tr>\n",
       "      <th>3</th>\n",
       "      <td>Male</td>\n",
       "      <td>0</td>\n",
       "      <td>No</td>\n",
       "      <td>No</td>\n",
       "      <td>45</td>\n",
       "      <td>No</td>\n",
       "      <td>No phone service</td>\n",
       "      <td>DSL</td>\n",
       "      <td>Yes</td>\n",
       "      <td>No</td>\n",
       "      <td>Yes</td>\n",
       "      <td>Yes</td>\n",
       "      <td>No</td>\n",
       "      <td>No</td>\n",
       "      <td>One year</td>\n",
       "      <td>No</td>\n",
       "      <td>Bank transfer (automatic)</td>\n",
       "      <td>42.30</td>\n",
       "      <td>1840.75</td>\n",
       "      <td>No</td>\n",
       "    </tr>\n",
       "    <tr>\n",
       "      <th>4</th>\n",
       "      <td>Female</td>\n",
       "      <td>0</td>\n",
       "      <td>No</td>\n",
       "      <td>No</td>\n",
       "      <td>2</td>\n",
       "      <td>Yes</td>\n",
       "      <td>No</td>\n",
       "      <td>Fiber optic</td>\n",
       "      <td>No</td>\n",
       "      <td>No</td>\n",
       "      <td>No</td>\n",
       "      <td>No</td>\n",
       "      <td>No</td>\n",
       "      <td>No</td>\n",
       "      <td>Month-to-month</td>\n",
       "      <td>Yes</td>\n",
       "      <td>Electronic check</td>\n",
       "      <td>70.70</td>\n",
       "      <td>151.65</td>\n",
       "      <td>Yes</td>\n",
       "    </tr>\n",
       "  </tbody>\n",
       "</table>\n",
       "</div>"
      ],
      "text/plain": [
       "   gender  SeniorCitizen Partner Dependents  tenure PhoneService  \\\n",
       "0  Female              0     Yes         No       1           No   \n",
       "1    Male              0      No         No      34          Yes   \n",
       "2    Male              0      No         No       2          Yes   \n",
       "3    Male              0      No         No      45           No   \n",
       "4  Female              0      No         No       2          Yes   \n",
       "\n",
       "      MultipleLines InternetService OnlineSecurity OnlineBackup  \\\n",
       "0  No phone service             DSL             No          Yes   \n",
       "1                No             DSL            Yes           No   \n",
       "2                No             DSL            Yes          Yes   \n",
       "3  No phone service             DSL            Yes           No   \n",
       "4                No     Fiber optic             No           No   \n",
       "\n",
       "  DeviceProtection TechSupport StreamingTV StreamingMovies        Contract  \\\n",
       "0               No          No          No              No  Month-to-month   \n",
       "1              Yes          No          No              No        One year   \n",
       "2               No          No          No              No  Month-to-month   \n",
       "3              Yes         Yes          No              No        One year   \n",
       "4               No          No          No              No  Month-to-month   \n",
       "\n",
       "  PaperlessBilling              PaymentMethod  MonthlyCharges  TotalCharges  \\\n",
       "0              Yes           Electronic check           29.85         29.85   \n",
       "1               No               Mailed check           56.95       1889.50   \n",
       "2              Yes               Mailed check           53.85        108.15   \n",
       "3               No  Bank transfer (automatic)           42.30       1840.75   \n",
       "4              Yes           Electronic check           70.70        151.65   \n",
       "\n",
       "  Churn  \n",
       "0    No  \n",
       "1    No  \n",
       "2   Yes  \n",
       "3    No  \n",
       "4   Yes  "
      ]
     },
     "execution_count": 33,
     "metadata": {},
     "output_type": "execute_result"
    }
   ],
   "source": [
    "data.head()"
   ]
  },
  {
   "cell_type": "markdown",
   "id": "12831829",
   "metadata": {},
   "source": [
    "As we can see above, null hypothesis is rejected for most of the categorical variables except Gender and PhoneService which means churn is independent when it comes to PgoneService and Gender."
   ]
  },
  {
   "cell_type": "code",
   "execution_count": 34,
   "id": "1aba800c",
   "metadata": {},
   "outputs": [
    {
     "name": "stdout",
     "output_type": "stream",
     "text": [
      "<class 'pandas.core.frame.DataFrame'>\n",
      "Int64Index: 7032 entries, 0 to 7042\n",
      "Data columns (total 20 columns):\n",
      " #   Column            Non-Null Count  Dtype  \n",
      "---  ------            --------------  -----  \n",
      " 0   gender            7032 non-null   object \n",
      " 1   SeniorCitizen     7032 non-null   int64  \n",
      " 2   Partner           7032 non-null   object \n",
      " 3   Dependents        7032 non-null   object \n",
      " 4   tenure            7032 non-null   int64  \n",
      " 5   PhoneService      7032 non-null   object \n",
      " 6   MultipleLines     7032 non-null   object \n",
      " 7   InternetService   7032 non-null   object \n",
      " 8   OnlineSecurity    7032 non-null   object \n",
      " 9   OnlineBackup      7032 non-null   object \n",
      " 10  DeviceProtection  7032 non-null   object \n",
      " 11  TechSupport       7032 non-null   object \n",
      " 12  StreamingTV       7032 non-null   object \n",
      " 13  StreamingMovies   7032 non-null   object \n",
      " 14  Contract          7032 non-null   object \n",
      " 15  PaperlessBilling  7032 non-null   object \n",
      " 16  PaymentMethod     7032 non-null   object \n",
      " 17  MonthlyCharges    7032 non-null   float64\n",
      " 18  TotalCharges      7032 non-null   float64\n",
      " 19  Churn             7032 non-null   object \n",
      "dtypes: float64(2), int64(2), object(16)\n",
      "memory usage: 1.1+ MB\n"
     ]
    }
   ],
   "source": [
    "data.info()"
   ]
  },
  {
   "cell_type": "code",
   "execution_count": 35,
   "id": "e87433dd",
   "metadata": {},
   "outputs": [],
   "source": [
    "data.drop(['gender', 'PhoneService',], inplace=True, axis=1)"
   ]
  },
  {
   "cell_type": "code",
   "execution_count": 36,
   "id": "03965e43",
   "metadata": {},
   "outputs": [
    {
     "name": "stdout",
     "output_type": "stream",
     "text": [
      "['Partner', 'Dependents', 'MultipleLines', 'InternetService', 'OnlineSecurity', 'OnlineBackup', 'DeviceProtection', 'TechSupport', 'StreamingTV', 'StreamingMovies', 'Contract', 'PaperlessBilling', 'PaymentMethod', 'Churn']\n"
     ]
    }
   ],
   "source": [
    "# Identify Categorical variables\n",
    "\n",
    "cat_vars = []\n",
    "for column in data.columns:\n",
    "    if data.dtypes[column] == 'object':  # Check if the data type is 'object'\n",
    "        cat_vars.append(column)\n",
    "        \n",
    "print(cat_vars)"
   ]
  },
  {
   "cell_type": "code",
   "execution_count": 37,
   "id": "6a13b1d3",
   "metadata": {},
   "outputs": [],
   "source": [
    "cat1 = ['Partner', 'Dependents', 'MultipleLines', 'InternetService', 'OnlineSecurity', 'OnlineBackup', 'DeviceProtection', 'TechSupport', 'StreamingTV', 'StreamingMovies', 'Contract', 'PaperlessBilling', 'PaymentMethod']"
   ]
  },
  {
   "cell_type": "code",
   "execution_count": 38,
   "id": "3eb1c625",
   "metadata": {},
   "outputs": [
    {
     "name": "stdout",
     "output_type": "stream",
     "text": [
      "\n",
      "\n",
      "Feature: Partner\n",
      "['Yes', 'No']\n",
      "Categories (2, object): ['No', 'Yes']\n",
      "[1 0]\n",
      "\n",
      "\n",
      "Feature: Dependents\n",
      "['No', 'Yes']\n",
      "Categories (2, object): ['No', 'Yes']\n",
      "[0 1]\n",
      "\n",
      "\n",
      "Feature: MultipleLines\n",
      "['No phone service', 'No', 'Yes']\n",
      "Categories (3, object): ['No', 'No phone service', 'Yes']\n",
      "[1 0 2]\n",
      "\n",
      "\n",
      "Feature: InternetService\n",
      "['DSL', 'Fiber optic', 'No']\n",
      "Categories (3, object): ['DSL', 'Fiber optic', 'No']\n",
      "[0 1 2]\n",
      "\n",
      "\n",
      "Feature: OnlineSecurity\n",
      "['No', 'Yes', 'No internet service']\n",
      "Categories (3, object): ['No', 'No internet service', 'Yes']\n",
      "[0 2 1]\n",
      "\n",
      "\n",
      "Feature: OnlineBackup\n",
      "['Yes', 'No', 'No internet service']\n",
      "Categories (3, object): ['No', 'No internet service', 'Yes']\n",
      "[2 0 1]\n",
      "\n",
      "\n",
      "Feature: DeviceProtection\n",
      "['No', 'Yes', 'No internet service']\n",
      "Categories (3, object): ['No', 'No internet service', 'Yes']\n",
      "[0 2 1]\n",
      "\n",
      "\n",
      "Feature: TechSupport\n",
      "['No', 'Yes', 'No internet service']\n",
      "Categories (3, object): ['No', 'No internet service', 'Yes']\n",
      "[0 2 1]\n",
      "\n",
      "\n",
      "Feature: StreamingTV\n",
      "['No', 'Yes', 'No internet service']\n",
      "Categories (3, object): ['No', 'No internet service', 'Yes']\n",
      "[0 2 1]\n",
      "\n",
      "\n",
      "Feature: StreamingMovies\n",
      "['No', 'Yes', 'No internet service']\n",
      "Categories (3, object): ['No', 'No internet service', 'Yes']\n",
      "[0 2 1]\n",
      "\n",
      "\n",
      "Feature: Contract\n",
      "['Month-to-month', 'One year', 'Two year']\n",
      "Categories (3, object): ['Month-to-month', 'One year', 'Two year']\n",
      "[0 1 2]\n",
      "\n",
      "\n",
      "Feature: PaperlessBilling\n",
      "['Yes', 'No']\n",
      "Categories (2, object): ['No', 'Yes']\n",
      "[1 0]\n",
      "\n",
      "\n",
      "Feature: PaymentMethod\n",
      "['Electronic check', 'Mailed check', 'Bank transfer (automatic)', 'Credit card (automatic)']\n",
      "Categories (4, object): ['Bank transfer (automatic)', 'Credit card (automatic)', 'Electronic check', 'Mailed check']\n",
      "[2 3 0 1]\n",
      "\n",
      "\n",
      "Feature: Churn\n",
      "['No', 'Yes']\n",
      "Categories (2, object): ['No', 'Yes']\n",
      "[0 1]\n"
     ]
    }
   ],
   "source": [
    "for feature in data.columns:\n",
    "    if data[feature].dtype == 'object':\n",
    "        print('\\n')\n",
    "        print('Feature:',feature)\n",
    "        print(pd.Categorical(data[feature].unique()))\n",
    "        print(pd.Categorical(data[feature].unique()).codes)\n",
    "        data[feature] = pd.Categorical(data[feature]).codes"
   ]
  },
  {
   "cell_type": "code",
   "execution_count": 39,
   "id": "afbb4aa9",
   "metadata": {},
   "outputs": [
    {
     "data": {
      "text/html": [
       "<div>\n",
       "<style scoped>\n",
       "    .dataframe tbody tr th:only-of-type {\n",
       "        vertical-align: middle;\n",
       "    }\n",
       "\n",
       "    .dataframe tbody tr th {\n",
       "        vertical-align: top;\n",
       "    }\n",
       "\n",
       "    .dataframe thead th {\n",
       "        text-align: right;\n",
       "    }\n",
       "</style>\n",
       "<table border=\"1\" class=\"dataframe\">\n",
       "  <thead>\n",
       "    <tr style=\"text-align: right;\">\n",
       "      <th></th>\n",
       "      <th>SeniorCitizen</th>\n",
       "      <th>Partner</th>\n",
       "      <th>Dependents</th>\n",
       "      <th>tenure</th>\n",
       "      <th>MultipleLines</th>\n",
       "      <th>InternetService</th>\n",
       "      <th>OnlineSecurity</th>\n",
       "      <th>OnlineBackup</th>\n",
       "      <th>DeviceProtection</th>\n",
       "      <th>TechSupport</th>\n",
       "      <th>StreamingTV</th>\n",
       "      <th>StreamingMovies</th>\n",
       "      <th>Contract</th>\n",
       "      <th>PaperlessBilling</th>\n",
       "      <th>PaymentMethod</th>\n",
       "      <th>MonthlyCharges</th>\n",
       "      <th>TotalCharges</th>\n",
       "      <th>Churn</th>\n",
       "    </tr>\n",
       "  </thead>\n",
       "  <tbody>\n",
       "    <tr>\n",
       "      <th>0</th>\n",
       "      <td>0</td>\n",
       "      <td>1</td>\n",
       "      <td>0</td>\n",
       "      <td>1</td>\n",
       "      <td>1</td>\n",
       "      <td>0</td>\n",
       "      <td>0</td>\n",
       "      <td>2</td>\n",
       "      <td>0</td>\n",
       "      <td>0</td>\n",
       "      <td>0</td>\n",
       "      <td>0</td>\n",
       "      <td>0</td>\n",
       "      <td>1</td>\n",
       "      <td>2</td>\n",
       "      <td>29.85</td>\n",
       "      <td>29.85</td>\n",
       "      <td>0</td>\n",
       "    </tr>\n",
       "    <tr>\n",
       "      <th>1</th>\n",
       "      <td>0</td>\n",
       "      <td>0</td>\n",
       "      <td>0</td>\n",
       "      <td>34</td>\n",
       "      <td>0</td>\n",
       "      <td>0</td>\n",
       "      <td>2</td>\n",
       "      <td>0</td>\n",
       "      <td>2</td>\n",
       "      <td>0</td>\n",
       "      <td>0</td>\n",
       "      <td>0</td>\n",
       "      <td>1</td>\n",
       "      <td>0</td>\n",
       "      <td>3</td>\n",
       "      <td>56.95</td>\n",
       "      <td>1889.50</td>\n",
       "      <td>0</td>\n",
       "    </tr>\n",
       "    <tr>\n",
       "      <th>2</th>\n",
       "      <td>0</td>\n",
       "      <td>0</td>\n",
       "      <td>0</td>\n",
       "      <td>2</td>\n",
       "      <td>0</td>\n",
       "      <td>0</td>\n",
       "      <td>2</td>\n",
       "      <td>2</td>\n",
       "      <td>0</td>\n",
       "      <td>0</td>\n",
       "      <td>0</td>\n",
       "      <td>0</td>\n",
       "      <td>0</td>\n",
       "      <td>1</td>\n",
       "      <td>3</td>\n",
       "      <td>53.85</td>\n",
       "      <td>108.15</td>\n",
       "      <td>1</td>\n",
       "    </tr>\n",
       "    <tr>\n",
       "      <th>3</th>\n",
       "      <td>0</td>\n",
       "      <td>0</td>\n",
       "      <td>0</td>\n",
       "      <td>45</td>\n",
       "      <td>1</td>\n",
       "      <td>0</td>\n",
       "      <td>2</td>\n",
       "      <td>0</td>\n",
       "      <td>2</td>\n",
       "      <td>2</td>\n",
       "      <td>0</td>\n",
       "      <td>0</td>\n",
       "      <td>1</td>\n",
       "      <td>0</td>\n",
       "      <td>0</td>\n",
       "      <td>42.30</td>\n",
       "      <td>1840.75</td>\n",
       "      <td>0</td>\n",
       "    </tr>\n",
       "    <tr>\n",
       "      <th>4</th>\n",
       "      <td>0</td>\n",
       "      <td>0</td>\n",
       "      <td>0</td>\n",
       "      <td>2</td>\n",
       "      <td>0</td>\n",
       "      <td>1</td>\n",
       "      <td>0</td>\n",
       "      <td>0</td>\n",
       "      <td>0</td>\n",
       "      <td>0</td>\n",
       "      <td>0</td>\n",
       "      <td>0</td>\n",
       "      <td>0</td>\n",
       "      <td>1</td>\n",
       "      <td>2</td>\n",
       "      <td>70.70</td>\n",
       "      <td>151.65</td>\n",
       "      <td>1</td>\n",
       "    </tr>\n",
       "  </tbody>\n",
       "</table>\n",
       "</div>"
      ],
      "text/plain": [
       "   SeniorCitizen  Partner  Dependents  tenure  MultipleLines  InternetService  \\\n",
       "0              0        1           0       1              1                0   \n",
       "1              0        0           0      34              0                0   \n",
       "2              0        0           0       2              0                0   \n",
       "3              0        0           0      45              1                0   \n",
       "4              0        0           0       2              0                1   \n",
       "\n",
       "   OnlineSecurity  OnlineBackup  DeviceProtection  TechSupport  StreamingTV  \\\n",
       "0               0             2                 0            0            0   \n",
       "1               2             0                 2            0            0   \n",
       "2               2             2                 0            0            0   \n",
       "3               2             0                 2            2            0   \n",
       "4               0             0                 0            0            0   \n",
       "\n",
       "   StreamingMovies  Contract  PaperlessBilling  PaymentMethod  MonthlyCharges  \\\n",
       "0                0         0                 1              2           29.85   \n",
       "1                0         1                 0              3           56.95   \n",
       "2                0         0                 1              3           53.85   \n",
       "3                0         1                 0              0           42.30   \n",
       "4                0         0                 1              2           70.70   \n",
       "\n",
       "   TotalCharges  Churn  \n",
       "0         29.85      0  \n",
       "1       1889.50      0  \n",
       "2        108.15      1  \n",
       "3       1840.75      0  \n",
       "4        151.65      1  "
      ]
     },
     "execution_count": 39,
     "metadata": {},
     "output_type": "execute_result"
    }
   ],
   "source": [
    "data.head()"
   ]
  },
  {
   "cell_type": "code",
   "execution_count": 40,
   "id": "c8dc9b2a",
   "metadata": {},
   "outputs": [
    {
     "data": {
      "text/plain": [
       "<AxesSubplot: >"
      ]
     },
     "execution_count": 40,
     "metadata": {},
     "output_type": "execute_result"
    },
    {
     "data": {
      "image/png": "[encoded data removed]",
      "text/plain": [
       "<Figure size 864x576 with 2 Axes>"
      ]
     },
     "metadata": {},
     "output_type": "display_data"
    }
   ],
   "source": [
    "plt.figure(figsize=(12,8))\n",
    "sns.heatmap(data.corr(),annot=True,mask=np.triu(data.corr(),+1),cmap='plasma',vmin=-0.3,vmax=1)"
   ]
  },
  {
   "cell_type": "code",
   "execution_count": 41,
   "id": "c81e19de",
   "metadata": {},
   "outputs": [],
   "source": [
    "# Copy all the predictor variables into X dataframe\n",
    "X = data.drop('Churn', axis=1)\n",
    "\n",
    "# Copy target into the y dataframe.  \n",
    "y = data['Churn']"
   ]
  },
  {
   "cell_type": "code",
   "execution_count": 42,
   "id": "a6935d86",
   "metadata": {},
   "outputs": [
    {
     "data": {
      "text/html": [
       "<div>\n",
       "<style scoped>\n",
       "    .dataframe tbody tr th:only-of-type {\n",
       "        vertical-align: middle;\n",
       "    }\n",
       "\n",
       "    .dataframe tbody tr th {\n",
       "        vertical-align: top;\n",
       "    }\n",
       "\n",
       "    .dataframe thead th {\n",
       "        text-align: right;\n",
       "    }\n",
       "</style>\n",
       "<table border=\"1\" class=\"dataframe\">\n",
       "  <thead>\n",
       "    <tr style=\"text-align: right;\">\n",
       "      <th></th>\n",
       "      <th>SeniorCitizen</th>\n",
       "      <th>Partner</th>\n",
       "      <th>Dependents</th>\n",
       "      <th>tenure</th>\n",
       "      <th>MultipleLines</th>\n",
       "      <th>InternetService</th>\n",
       "      <th>OnlineSecurity</th>\n",
       "      <th>OnlineBackup</th>\n",
       "      <th>DeviceProtection</th>\n",
       "      <th>TechSupport</th>\n",
       "      <th>StreamingTV</th>\n",
       "      <th>StreamingMovies</th>\n",
       "      <th>Contract</th>\n",
       "      <th>PaperlessBilling</th>\n",
       "      <th>PaymentMethod</th>\n",
       "      <th>MonthlyCharges</th>\n",
       "      <th>TotalCharges</th>\n",
       "    </tr>\n",
       "  </thead>\n",
       "  <tbody>\n",
       "    <tr>\n",
       "      <th>0</th>\n",
       "      <td>0</td>\n",
       "      <td>1</td>\n",
       "      <td>0</td>\n",
       "      <td>1</td>\n",
       "      <td>1</td>\n",
       "      <td>0</td>\n",
       "      <td>0</td>\n",
       "      <td>2</td>\n",
       "      <td>0</td>\n",
       "      <td>0</td>\n",
       "      <td>0</td>\n",
       "      <td>0</td>\n",
       "      <td>0</td>\n",
       "      <td>1</td>\n",
       "      <td>2</td>\n",
       "      <td>29.85</td>\n",
       "      <td>29.85</td>\n",
       "    </tr>\n",
       "    <tr>\n",
       "      <th>1</th>\n",
       "      <td>0</td>\n",
       "      <td>0</td>\n",
       "      <td>0</td>\n",
       "      <td>34</td>\n",
       "      <td>0</td>\n",
       "      <td>0</td>\n",
       "      <td>2</td>\n",
       "      <td>0</td>\n",
       "      <td>2</td>\n",
       "      <td>0</td>\n",
       "      <td>0</td>\n",
       "      <td>0</td>\n",
       "      <td>1</td>\n",
       "      <td>0</td>\n",
       "      <td>3</td>\n",
       "      <td>56.95</td>\n",
       "      <td>1889.50</td>\n",
       "    </tr>\n",
       "    <tr>\n",
       "      <th>2</th>\n",
       "      <td>0</td>\n",
       "      <td>0</td>\n",
       "      <td>0</td>\n",
       "      <td>2</td>\n",
       "      <td>0</td>\n",
       "      <td>0</td>\n",
       "      <td>2</td>\n",
       "      <td>2</td>\n",
       "      <td>0</td>\n",
       "      <td>0</td>\n",
       "      <td>0</td>\n",
       "      <td>0</td>\n",
       "      <td>0</td>\n",
       "      <td>1</td>\n",
       "      <td>3</td>\n",
       "      <td>53.85</td>\n",
       "      <td>108.15</td>\n",
       "    </tr>\n",
       "    <tr>\n",
       "      <th>3</th>\n",
       "      <td>0</td>\n",
       "      <td>0</td>\n",
       "      <td>0</td>\n",
       "      <td>45</td>\n",
       "      <td>1</td>\n",
       "      <td>0</td>\n",
       "      <td>2</td>\n",
       "      <td>0</td>\n",
       "      <td>2</td>\n",
       "      <td>2</td>\n",
       "      <td>0</td>\n",
       "      <td>0</td>\n",
       "      <td>1</td>\n",
       "      <td>0</td>\n",
       "      <td>0</td>\n",
       "      <td>42.30</td>\n",
       "      <td>1840.75</td>\n",
       "    </tr>\n",
       "    <tr>\n",
       "      <th>4</th>\n",
       "      <td>0</td>\n",
       "      <td>0</td>\n",
       "      <td>0</td>\n",
       "      <td>2</td>\n",
       "      <td>0</td>\n",
       "      <td>1</td>\n",
       "      <td>0</td>\n",
       "      <td>0</td>\n",
       "      <td>0</td>\n",
       "      <td>0</td>\n",
       "      <td>0</td>\n",
       "      <td>0</td>\n",
       "      <td>0</td>\n",
       "      <td>1</td>\n",
       "      <td>2</td>\n",
       "      <td>70.70</td>\n",
       "      <td>151.65</td>\n",
       "    </tr>\n",
       "    <tr>\n",
       "      <th>...</th>\n",
       "      <td>...</td>\n",
       "      <td>...</td>\n",
       "      <td>...</td>\n",
       "      <td>...</td>\n",
       "      <td>...</td>\n",
       "      <td>...</td>\n",
       "      <td>...</td>\n",
       "      <td>...</td>\n",
       "      <td>...</td>\n",
       "      <td>...</td>\n",
       "      <td>...</td>\n",
       "      <td>...</td>\n",
       "      <td>...</td>\n",
       "      <td>...</td>\n",
       "      <td>...</td>\n",
       "      <td>...</td>\n",
       "      <td>...</td>\n",
       "    </tr>\n",
       "    <tr>\n",
       "      <th>7038</th>\n",
       "      <td>0</td>\n",
       "      <td>1</td>\n",
       "      <td>1</td>\n",
       "      <td>24</td>\n",
       "      <td>2</td>\n",
       "      <td>0</td>\n",
       "      <td>2</td>\n",
       "      <td>0</td>\n",
       "      <td>2</td>\n",
       "      <td>2</td>\n",
       "      <td>2</td>\n",
       "      <td>2</td>\n",
       "      <td>1</td>\n",
       "      <td>1</td>\n",
       "      <td>3</td>\n",
       "      <td>84.80</td>\n",
       "      <td>1990.50</td>\n",
       "    </tr>\n",
       "    <tr>\n",
       "      <th>7039</th>\n",
       "      <td>0</td>\n",
       "      <td>1</td>\n",
       "      <td>1</td>\n",
       "      <td>72</td>\n",
       "      <td>2</td>\n",
       "      <td>1</td>\n",
       "      <td>0</td>\n",
       "      <td>2</td>\n",
       "      <td>2</td>\n",
       "      <td>0</td>\n",
       "      <td>2</td>\n",
       "      <td>2</td>\n",
       "      <td>1</td>\n",
       "      <td>1</td>\n",
       "      <td>1</td>\n",
       "      <td>103.20</td>\n",
       "      <td>7362.90</td>\n",
       "    </tr>\n",
       "    <tr>\n",
       "      <th>7040</th>\n",
       "      <td>0</td>\n",
       "      <td>1</td>\n",
       "      <td>1</td>\n",
       "      <td>11</td>\n",
       "      <td>1</td>\n",
       "      <td>0</td>\n",
       "      <td>2</td>\n",
       "      <td>0</td>\n",
       "      <td>0</td>\n",
       "      <td>0</td>\n",
       "      <td>0</td>\n",
       "      <td>0</td>\n",
       "      <td>0</td>\n",
       "      <td>1</td>\n",
       "      <td>2</td>\n",
       "      <td>29.60</td>\n",
       "      <td>346.45</td>\n",
       "    </tr>\n",
       "    <tr>\n",
       "      <th>7041</th>\n",
       "      <td>1</td>\n",
       "      <td>1</td>\n",
       "      <td>0</td>\n",
       "      <td>4</td>\n",
       "      <td>2</td>\n",
       "      <td>1</td>\n",
       "      <td>0</td>\n",
       "      <td>0</td>\n",
       "      <td>0</td>\n",
       "      <td>0</td>\n",
       "      <td>0</td>\n",
       "      <td>0</td>\n",
       "      <td>0</td>\n",
       "      <td>1</td>\n",
       "      <td>3</td>\n",
       "      <td>74.40</td>\n",
       "      <td>306.60</td>\n",
       "    </tr>\n",
       "    <tr>\n",
       "      <th>7042</th>\n",
       "      <td>0</td>\n",
       "      <td>0</td>\n",
       "      <td>0</td>\n",
       "      <td>66</td>\n",
       "      <td>0</td>\n",
       "      <td>1</td>\n",
       "      <td>2</td>\n",
       "      <td>0</td>\n",
       "      <td>2</td>\n",
       "      <td>2</td>\n",
       "      <td>2</td>\n",
       "      <td>2</td>\n",
       "      <td>2</td>\n",
       "      <td>1</td>\n",
       "      <td>0</td>\n",
       "      <td>105.65</td>\n",
       "      <td>6844.50</td>\n",
       "    </tr>\n",
       "  </tbody>\n",
       "</table>\n",
       "<p>7032 rows × 17 columns</p>\n",
       "</div>"
      ],
      "text/plain": [
       "      SeniorCitizen  Partner  Dependents  tenure  MultipleLines  \\\n",
       "0                 0        1           0       1              1   \n",
       "1                 0        0           0      34              0   \n",
       "2                 0        0           0       2              0   \n",
       "3                 0        0           0      45              1   \n",
       "4                 0        0           0       2              0   \n",
       "...             ...      ...         ...     ...            ...   \n",
       "7038              0        1           1      24              2   \n",
       "7039              0        1           1      72              2   \n",
       "7040              0        1           1      11              1   \n",
       "7041              1        1           0       4              2   \n",
       "7042              0        0           0      66              0   \n",
       "\n",
       "      InternetService  OnlineSecurity  OnlineBackup  DeviceProtection  \\\n",
       "0                   0               0             2                 0   \n",
       "1                   0               2             0                 2   \n",
       "2                   0               2             2                 0   \n",
       "3                   0               2             0                 2   \n",
       "4                   1               0             0                 0   \n",
       "...               ...             ...           ...               ...   \n",
       "7038                0               2             0                 2   \n",
       "7039                1               0             2                 2   \n",
       "7040                0               2             0                 0   \n",
       "7041                1               0             0                 0   \n",
       "7042                1               2             0                 2   \n",
       "\n",
       "      TechSupport  StreamingTV  StreamingMovies  Contract  PaperlessBilling  \\\n",
       "0               0            0                0         0                 1   \n",
       "1               0            0                0         1                 0   \n",
       "2               0            0                0         0                 1   \n",
       "3               2            0                0         1                 0   \n",
       "4               0            0                0         0                 1   \n",
       "...           ...          ...              ...       ...               ...   \n",
       "7038            2            2                2         1                 1   \n",
       "7039            0            2                2         1                 1   \n",
       "7040            0            0                0         0                 1   \n",
       "7041            0            0                0         0                 1   \n",
       "7042            2            2                2         2                 1   \n",
       "\n",
       "      PaymentMethod  MonthlyCharges  TotalCharges  \n",
       "0                 2           29.85         29.85  \n",
       "1                 3           56.95       1889.50  \n",
       "2                 3           53.85        108.15  \n",
       "3                 0           42.30       1840.75  \n",
       "4                 2           70.70        151.65  \n",
       "...             ...             ...           ...  \n",
       "7038              3           84.80       1990.50  \n",
       "7039              1          103.20       7362.90  \n",
       "7040              2           29.60        346.45  \n",
       "7041              3           74.40        306.60  \n",
       "7042              0          105.65       6844.50  \n",
       "\n",
       "[7032 rows x 17 columns]"
      ]
     },
     "execution_count": 42,
     "metadata": {},
     "output_type": "execute_result"
    }
   ],
   "source": [
    "X"
   ]
  },
  {
   "cell_type": "code",
   "execution_count": 43,
   "id": "1cc99feb",
   "metadata": {},
   "outputs": [],
   "source": [
    "X_train, X_test, y_train, y_test = train_test_split(X, y, test_size=0.25 , random_state=1)"
   ]
  },
  {
   "cell_type": "markdown",
   "id": "ce8b3c37",
   "metadata": {},
   "source": [
    "### Linear Regressor Model"
   ]
  },
  {
   "cell_type": "code",
   "execution_count": 44,
   "id": "0dab3cc2",
   "metadata": {},
   "outputs": [
    {
     "data": {
      "text/html": [
       "<style>#sk-container-id-1 {color: black;background-color: white;}#sk-container-id-1 pre{padding: 0;}#sk-container-id-1 div.sk-toggleable {background-color: white;}#sk-container-id-1 label.sk-toggleable__label {cursor: pointer;display: block;width: 100%;margin-bottom: 0;padding: 0.3em;box-sizing: border-box;text-align: center;}#sk-container-id-1 label.sk-toggleable__label-arrow:before {content: \"▸\";float: left;margin-right: 0.25em;color: #696969;}#sk-container-id-1 label.sk-toggleable__label-arrow:hover:before {color: black;}#sk-container-id-1 div.sk-estimator:hover label.sk-toggleable__label-arrow:before {color: black;}#sk-container-id-1 div.sk-toggleable__content {max-height: 0;max-width: 0;overflow: hidden;text-align: left;background-color: #f0f8ff;}#sk-container-id-1 div.sk-toggleable__content pre {margin: 0.2em;color: black;border-radius: 0.25em;background-color: #f0f8ff;}#sk-container-id-1 input.sk-toggleable__control:checked~div.sk-toggleable__content {max-height: 200px;max-width: 100%;overflow: auto;}#sk-container-id-1 input.sk-toggleable__control:checked~label.sk-toggleable__label-arrow:before {content: \"▾\";}#sk-container-id-1 div.sk-estimator input.sk-toggleable__control:checked~label.sk-toggleable__label {background-color: #d4ebff;}#sk-container-id-1 div.sk-label input.sk-toggleable__control:checked~label.sk-toggleable__label {background-color: #d4ebff;}#sk-container-id-1 input.sk-hidden--visually {border: 0;clip: rect(1px 1px 1px 1px);clip: rect(1px, 1px, 1px, 1px);height: 1px;margin: -1px;overflow: hidden;padding: 0;position: absolute;width: 1px;}#sk-container-id-1 div.sk-estimator {font-family: monospace;background-color: #f0f8ff;border: 1px dotted black;border-radius: 0.25em;box-sizing: border-box;margin-bottom: 0.5em;}#sk-container-id-1 div.sk-estimator:hover {background-color: #d4ebff;}#sk-container-id-1 div.sk-parallel-item::after {content: \"\";width: 100%;border-bottom: 1px solid gray;flex-grow: 1;}#sk-container-id-1 div.sk-label:hover label.sk-toggleable__label {background-color: #d4ebff;}#sk-container-id-1 div.sk-serial::before {content: \"\";position: absolute;border-left: 1px solid gray;box-sizing: border-box;top: 0;bottom: 0;left: 50%;z-index: 0;}#sk-container-id-1 div.sk-serial {display: flex;flex-direction: column;align-items: center;background-color: white;padding-right: 0.2em;padding-left: 0.2em;position: relative;}#sk-container-id-1 div.sk-item {position: relative;z-index: 1;}#sk-container-id-1 div.sk-parallel {display: flex;align-items: stretch;justify-content: center;background-color: white;position: relative;}#sk-container-id-1 div.sk-item::before, #sk-container-id-1 div.sk-parallel-item::before {content: \"\";position: absolute;border-left: 1px solid gray;box-sizing: border-box;top: 0;bottom: 0;left: 50%;z-index: -1;}#sk-container-id-1 div.sk-parallel-item {display: flex;flex-direction: column;z-index: 1;position: relative;background-color: white;}#sk-container-id-1 div.sk-parallel-item:first-child::after {align-self: flex-end;width: 50%;}#sk-container-id-1 div.sk-parallel-item:last-child::after {align-self: flex-start;width: 50%;}#sk-container-id-1 div.sk-parallel-item:only-child::after {width: 0;}#sk-container-id-1 div.sk-dashed-wrapped {border: 1px dashed gray;margin: 0 0.4em 0.5em 0.4em;box-sizing: border-box;padding-bottom: 0.4em;background-color: white;}#sk-container-id-1 div.sk-label label {font-family: monospace;font-weight: bold;display: inline-block;line-height: 1.2em;}#sk-container-id-1 div.sk-label-container {text-align: center;}#sk-container-id-1 div.sk-container {/* jupyter's `normalize.less` sets `[hidden] { display: none; }` but bootstrap.min.css set `[hidden] { display: none !important; }` so we also need the `!important` here to be able to override the default hidden behavior on the sphinx rendered scikit-learn.org. See: https://github.com/scikit-learn/scikit-learn/issues/21755 */display: inline-block !important;position: relative;}#sk-container-id-1 div.sk-text-repr-fallback {display: none;}</style><div id=\"sk-container-id-1\" class=\"sk-top-container\"><div class=\"sk-text-repr-fallback\"><pre>LinearRegression()</pre><b>In a Jupyter environment, please rerun this cell to show the HTML representation or trust the notebook. <br />On GitHub, the HTML representation is unable to render, please try loading this page with nbviewer.org.</b></div><div class=\"sk-container\" hidden><div class=\"sk-item\"><div class=\"sk-estimator sk-toggleable\"><input class=\"sk-toggleable__control sk-hidden--visually\" id=\"sk-estimator-id-1\" type=\"checkbox\" checked><label for=\"sk-estimator-id-1\" class=\"sk-toggleable__label sk-toggleable__label-arrow\">LinearRegression</label><div class=\"sk-toggleable__content\"><pre>LinearRegression()</pre></div></div></div></div></div>"
      ],
      "text/plain": [
       "LinearRegression()"
      ]
     },
     "execution_count": 44,
     "metadata": {},
     "output_type": "execute_result"
    }
   ],
   "source": [
    "# invoke the LinearRegression function and find the bestfit model on training data\n",
    "from sklearn.linear_model import LinearRegression\n",
    "regression_model = LinearRegression()   #Regressor\n",
    "regression_model.fit(X_train, y_train)"
   ]
  },
  {
   "cell_type": "code",
   "execution_count": 45,
   "id": "f23269a0",
   "metadata": {},
   "outputs": [
    {
     "name": "stdout",
     "output_type": "stream",
     "text": [
      "The coefficient for SeniorCitizen is 0.05586171247493674\n",
      "The coefficient for Partner is -0.0029211127872625876\n",
      "The coefficient for Dependents is -0.017719126679857564\n",
      "The coefficient for tenure is -0.0014959332293742113\n",
      "The coefficient for MultipleLines is 0.02506964327268302\n",
      "The coefficient for InternetService is 0.015816256159949405\n",
      "The coefficient for OnlineSecurity is -0.03959806744882426\n",
      "The coefficient for OnlineBackup is -0.02020771782053909\n",
      "The coefficient for DeviceProtection is -0.016935955239271265\n",
      "The coefficient for TechSupport is -0.04152432679083554\n",
      "The coefficient for StreamingTV is 0.00800210303369494\n",
      "The coefficient for StreamingMovies is 0.013150199270148535\n",
      "The coefficient for Contract is -0.05285939043888303\n",
      "The coefficient for PaperlessBilling is 0.047851509686964055\n",
      "The coefficient for PaymentMethod is 0.0037695788676251276\n",
      "The coefficient for MonthlyCharges is 0.00500311753533653\n",
      "The coefficient for TotalCharges is -5.452446648108038e-05\n"
     ]
    }
   ],
   "source": [
    "for idx, col_name in enumerate(X_train.columns):\n",
    "    print(\"The coefficient for {} is {}\".format(col_name, regression_model.coef_[idx]))\n"
   ]
  },
  {
   "cell_type": "code",
   "execution_count": 46,
   "id": "0764a310",
   "metadata": {},
   "outputs": [],
   "source": [
    "from sklearn.neural_network import MLPRegressor\n",
    "from sklearn.ensemble import RandomForestRegressor\n",
    "from sklearn.metrics import mean_squared_error\n",
    "from sklearn.metrics import mean_absolute_error\n",
    "from sklearn.preprocessing import StandardScaler\n",
    "from sklearn.metrics import roc_auc_score,roc_curve,classification_report,confusion_matrix"
   ]
  },
  {
   "cell_type": "code",
   "execution_count": 47,
   "id": "91588a2f",
   "metadata": {},
   "outputs": [],
   "source": [
    "ss=StandardScaler() \n",
    "# we are scaling the data for ANN. Without scaling it will give very poor results. Computations becomes easier\n",
    "x_train_scaled=ss.fit_transform(X_train)\n",
    "x_test_scaled=ss.transform(X_test)"
   ]
  },
  {
   "cell_type": "markdown",
   "id": "a6079123",
   "metadata": {},
   "source": [
    "### Logistic Regression model"
   ]
  },
  {
   "cell_type": "code",
   "execution_count": 48,
   "id": "9c39fa9d",
   "metadata": {},
   "outputs": [
    {
     "name": "stderr",
     "output_type": "stream",
     "text": [
      "C:\\Softwares\\Anaconda\\envs\\r env\\lib\\site-packages\\sklearn\\linear_model\\_logistic.py:1173: FutureWarning: `penalty='none'`has been deprecated in 1.2 and will be removed in 1.4. To keep the past behaviour, set `penalty=None`.\n",
      "  warnings.warn(\n",
      "[Parallel(n_jobs=2)]: Using backend LokyBackend with 2 concurrent workers.\n",
      "[Parallel(n_jobs=2)]: Done   1 out of   1 | elapsed:    1.7s finished\n"
     ]
    },
    {
     "data": {
      "text/html": [
       "<style>#sk-container-id-2 {color: black;background-color: white;}#sk-container-id-2 pre{padding: 0;}#sk-container-id-2 div.sk-toggleable {background-color: white;}#sk-container-id-2 label.sk-toggleable__label {cursor: pointer;display: block;width: 100%;margin-bottom: 0;padding: 0.3em;box-sizing: border-box;text-align: center;}#sk-container-id-2 label.sk-toggleable__label-arrow:before {content: \"▸\";float: left;margin-right: 0.25em;color: #696969;}#sk-container-id-2 label.sk-toggleable__label-arrow:hover:before {color: black;}#sk-container-id-2 div.sk-estimator:hover label.sk-toggleable__label-arrow:before {color: black;}#sk-container-id-2 div.sk-toggleable__content {max-height: 0;max-width: 0;overflow: hidden;text-align: left;background-color: #f0f8ff;}#sk-container-id-2 div.sk-toggleable__content pre {margin: 0.2em;color: black;border-radius: 0.25em;background-color: #f0f8ff;}#sk-container-id-2 input.sk-toggleable__control:checked~div.sk-toggleable__content {max-height: 200px;max-width: 100%;overflow: auto;}#sk-container-id-2 input.sk-toggleable__control:checked~label.sk-toggleable__label-arrow:before {content: \"▾\";}#sk-container-id-2 div.sk-estimator input.sk-toggleable__control:checked~label.sk-toggleable__label {background-color: #d4ebff;}#sk-container-id-2 div.sk-label input.sk-toggleable__control:checked~label.sk-toggleable__label {background-color: #d4ebff;}#sk-container-id-2 input.sk-hidden--visually {border: 0;clip: rect(1px 1px 1px 1px);clip: rect(1px, 1px, 1px, 1px);height: 1px;margin: -1px;overflow: hidden;padding: 0;position: absolute;width: 1px;}#sk-container-id-2 div.sk-estimator {font-family: monospace;background-color: #f0f8ff;border: 1px dotted black;border-radius: 0.25em;box-sizing: border-box;margin-bottom: 0.5em;}#sk-container-id-2 div.sk-estimator:hover {background-color: #d4ebff;}#sk-container-id-2 div.sk-parallel-item::after {content: \"\";width: 100%;border-bottom: 1px solid gray;flex-grow: 1;}#sk-container-id-2 div.sk-label:hover label.sk-toggleable__label {background-color: #d4ebff;}#sk-container-id-2 div.sk-serial::before {content: \"\";position: absolute;border-left: 1px solid gray;box-sizing: border-box;top: 0;bottom: 0;left: 50%;z-index: 0;}#sk-container-id-2 div.sk-serial {display: flex;flex-direction: column;align-items: center;background-color: white;padding-right: 0.2em;padding-left: 0.2em;position: relative;}#sk-container-id-2 div.sk-item {position: relative;z-index: 1;}#sk-container-id-2 div.sk-parallel {display: flex;align-items: stretch;justify-content: center;background-color: white;position: relative;}#sk-container-id-2 div.sk-item::before, #sk-container-id-2 div.sk-parallel-item::before {content: \"\";position: absolute;border-left: 1px solid gray;box-sizing: border-box;top: 0;bottom: 0;left: 50%;z-index: -1;}#sk-container-id-2 div.sk-parallel-item {display: flex;flex-direction: column;z-index: 1;position: relative;background-color: white;}#sk-container-id-2 div.sk-parallel-item:first-child::after {align-self: flex-end;width: 50%;}#sk-container-id-2 div.sk-parallel-item:last-child::after {align-self: flex-start;width: 50%;}#sk-container-id-2 div.sk-parallel-item:only-child::after {width: 0;}#sk-container-id-2 div.sk-dashed-wrapped {border: 1px dashed gray;margin: 0 0.4em 0.5em 0.4em;box-sizing: border-box;padding-bottom: 0.4em;background-color: white;}#sk-container-id-2 div.sk-label label {font-family: monospace;font-weight: bold;display: inline-block;line-height: 1.2em;}#sk-container-id-2 div.sk-label-container {text-align: center;}#sk-container-id-2 div.sk-container {/* jupyter's `normalize.less` sets `[hidden] { display: none; }` but bootstrap.min.css set `[hidden] { display: none !important; }` so we also need the `!important` here to be able to override the default hidden behavior on the sphinx rendered scikit-learn.org. See: https://github.com/scikit-learn/scikit-learn/issues/21755 */display: inline-block !important;position: relative;}#sk-container-id-2 div.sk-text-repr-fallback {display: none;}</style><div id=\"sk-container-id-2\" class=\"sk-top-container\"><div class=\"sk-text-repr-fallback\"><pre>LogisticRegression(max_iter=10000, n_jobs=2, penalty=&#x27;none&#x27;, solver=&#x27;newton-cg&#x27;,\n",
       "                   verbose=True)</pre><b>In a Jupyter environment, please rerun this cell to show the HTML representation or trust the notebook. <br />On GitHub, the HTML representation is unable to render, please try loading this page with nbviewer.org.</b></div><div class=\"sk-container\" hidden><div class=\"sk-item\"><div class=\"sk-estimator sk-toggleable\"><input class=\"sk-toggleable__control sk-hidden--visually\" id=\"sk-estimator-id-2\" type=\"checkbox\" checked><label for=\"sk-estimator-id-2\" class=\"sk-toggleable__label sk-toggleable__label-arrow\">LogisticRegression</label><div class=\"sk-toggleable__content\"><pre>LogisticRegression(max_iter=10000, n_jobs=2, penalty=&#x27;none&#x27;, solver=&#x27;newton-cg&#x27;,\n",
       "                   verbose=True)</pre></div></div></div></div></div>"
      ],
      "text/plain": [
       "LogisticRegression(max_iter=10000, n_jobs=2, penalty='none', solver='newton-cg',\n",
       "                   verbose=True)"
      ]
     },
     "execution_count": 48,
     "metadata": {},
     "output_type": "execute_result"
    }
   ],
   "source": [
    "# Fit the Logistic Regression model\n",
    "logistic_model = LogisticRegression(solver='newton-cg',max_iter=10000,penalty='none',verbose=True,n_jobs=2)\n",
    "logistic_model.fit(X_train, y_train)"
   ]
  },
  {
   "cell_type": "code",
   "execution_count": 49,
   "id": "1c50c933",
   "metadata": {},
   "outputs": [],
   "source": [
    "ytrain_predict = logistic_model.predict(X_train)\n",
    "ytest_predict = logistic_model.predict(X_test)"
   ]
  },
  {
   "cell_type": "code",
   "execution_count": 50,
   "id": "5b43b393",
   "metadata": {},
   "outputs": [
    {
     "data": {
      "text/html": [
       "<div>\n",
       "<style scoped>\n",
       "    .dataframe tbody tr th:only-of-type {\n",
       "        vertical-align: middle;\n",
       "    }\n",
       "\n",
       "    .dataframe tbody tr th {\n",
       "        vertical-align: top;\n",
       "    }\n",
       "\n",
       "    .dataframe thead th {\n",
       "        text-align: right;\n",
       "    }\n",
       "</style>\n",
       "<table border=\"1\" class=\"dataframe\">\n",
       "  <thead>\n",
       "    <tr style=\"text-align: right;\">\n",
       "      <th></th>\n",
       "      <th>0</th>\n",
       "      <th>1</th>\n",
       "    </tr>\n",
       "  </thead>\n",
       "  <tbody>\n",
       "    <tr>\n",
       "      <th>0</th>\n",
       "      <td>0.997574</td>\n",
       "      <td>0.002426</td>\n",
       "    </tr>\n",
       "    <tr>\n",
       "      <th>1</th>\n",
       "      <td>0.266792</td>\n",
       "      <td>0.733208</td>\n",
       "    </tr>\n",
       "    <tr>\n",
       "      <th>2</th>\n",
       "      <td>0.916467</td>\n",
       "      <td>0.083533</td>\n",
       "    </tr>\n",
       "    <tr>\n",
       "      <th>3</th>\n",
       "      <td>0.343402</td>\n",
       "      <td>0.656598</td>\n",
       "    </tr>\n",
       "    <tr>\n",
       "      <th>4</th>\n",
       "      <td>0.534582</td>\n",
       "      <td>0.465418</td>\n",
       "    </tr>\n",
       "  </tbody>\n",
       "</table>\n",
       "</div>"
      ],
      "text/plain": [
       "          0         1\n",
       "0  0.997574  0.002426\n",
       "1  0.266792  0.733208\n",
       "2  0.916467  0.083533\n",
       "3  0.343402  0.656598\n",
       "4  0.534582  0.465418"
      ]
     },
     "execution_count": 50,
     "metadata": {},
     "output_type": "execute_result"
    }
   ],
   "source": [
    "ytest_predict_prob=logistic_model.predict_proba(X_test)\n",
    "pd.DataFrame(ytest_predict_prob).head()"
   ]
  },
  {
   "cell_type": "code",
   "execution_count": 51,
   "id": "d7dfd266",
   "metadata": {},
   "outputs": [
    {
     "data": {
      "text/plain": [
       "0.8026166097838453"
      ]
     },
     "execution_count": 51,
     "metadata": {},
     "output_type": "execute_result"
    }
   ],
   "source": [
    "#Train Data Accuracy\n",
    "logistic_train_acc=logistic_model.score(X_train,y_train) \n",
    "logistic_train_acc"
   ]
  },
  {
   "cell_type": "code",
   "execution_count": 52,
   "id": "070060a2",
   "metadata": {},
   "outputs": [
    {
     "data": {
      "text/plain": [
       "0.8026166097838453"
      ]
     },
     "execution_count": 52,
     "metadata": {},
     "output_type": "execute_result"
    }
   ],
   "source": [
    "#Test Data Accuracy\n",
    "logistic_test_acc=logistic_model.score(X_test, y_test)\n",
    "logistic_test_acc"
   ]
  },
  {
   "cell_type": "code",
   "execution_count": 53,
   "id": "4f2b9dfc",
   "metadata": {},
   "outputs": [
    {
     "name": "stdout",
     "output_type": "stream",
     "text": [
      "logistic_train_precision  0.66\n",
      "logistic_train_recall  0.54\n",
      "logistic_train_f1  0.6\n"
     ]
    }
   ],
   "source": [
    "logistic_metrics=classification_report(y_train, ytrain_predict,output_dict=True)\n",
    "df=pd.DataFrame(logistic_metrics).transpose()\n",
    "logistic_train_f1=round(df.loc[\"1\"][2],2)\n",
    "logistic_train_recall=round(df.loc[\"1\"][1],2)\n",
    "logistic_train_precision=round(df.loc[\"1\"][0],2)\n",
    "print ('logistic_train_precision ',logistic_train_precision)\n",
    "print ('logistic_train_recall ',logistic_train_recall)\n",
    "print ('logistic_train_f1 ',logistic_train_f1)"
   ]
  },
  {
   "cell_type": "code",
   "execution_count": 54,
   "id": "caf6ed46",
   "metadata": {},
   "outputs": [
    {
     "name": "stdout",
     "output_type": "stream",
     "text": [
      "logistic_test_precision  0.65\n",
      "logistic_test_recall  0.53\n",
      "logistic_test_f1  0.59\n"
     ]
    }
   ],
   "source": [
    "logistic_metrics=classification_report(y_test, ytest_predict,output_dict=True)\n",
    "df=pd.DataFrame(logistic_metrics).transpose()\n",
    "logistic_test_f1=round(df.loc[\"1\"][2],2)\n",
    "logistic_test_recall=round(df.loc[\"1\"][1],2)\n",
    "logistic_test_precision=round(df.loc[\"1\"][0],2)\n",
    "print ('logistic_test_precision ',logistic_test_precision)\n",
    "print ('logistic_test_recall ',logistic_test_recall)\n",
    "print ('logistic_test_f1 ',logistic_test_f1)"
   ]
  },
  {
   "cell_type": "code",
   "execution_count": 55,
   "id": "e6bd67ea",
   "metadata": {},
   "outputs": [],
   "source": [
    "import scikitplot as scikit"
   ]
  },
  {
   "cell_type": "code",
   "execution_count": 56,
   "id": "19a4cc55",
   "metadata": {},
   "outputs": [
    {
     "data": {
      "image/png": "[encoded data removed]",
      "text/plain": [
       "<Figure size 432x288 with 1 Axes>"
      ]
     },
     "metadata": {},
     "output_type": "display_data"
    }
   ],
   "source": [
    "from sklearn.metrics import confusion_matrix\n",
    "import matplotlib.pyplot as plt\n",
    "import numpy as np\n",
    "\n",
    "# Compute confusion matrix\n",
    "y_train_predict = logistic_model.predict(X_train)\n",
    "cm = confusion_matrix(y_train, y_train_predict)\n",
    "\n",
    "# Plot confusion matrix\n",
    "plt.imshow(cm, interpolation='nearest', cmap=plt.cm.Wistia)\n",
    "classNames = ['No', 'Yes']\n",
    "plt.title('Confusion Matrix - Train Data')\n",
    "plt.ylabel('Actual label')\n",
    "plt.xlabel('Predicted label')\n",
    "tick_marks = np.arange(len(classNames))\n",
    "plt.xticks(tick_marks, classNames)\n",
    "plt.yticks(tick_marks, classNames)\n",
    "\n",
    "# Add text annotations to the plot\n",
    "for i in range(2):\n",
    "    for j in range(2):\n",
    "        plt.text(j, i, str(cm[i][j]), ha='center', va='center')\n",
    "\n",
    "plt.show()\n"
   ]
  },
  {
   "cell_type": "code",
   "execution_count": 57,
   "id": "71fc6773",
   "metadata": {},
   "outputs": [
    {
     "data": {
      "image/png": "[encoded data removed]",
      "text/plain": [
       "<Figure size 576x432 with 2 Axes>"
      ]
     },
     "metadata": {},
     "output_type": "display_data"
    }
   ],
   "source": [
    "from sklearn.metrics import confusion_matrix\n",
    "import matplotlib.pyplot as plt\n",
    "import numpy as np\n",
    "import itertools\n",
    "\n",
    "def plot_confusion_matrix(cm, classes, title='Confusion Matrix'):\n",
    "    plt.imshow(cm, interpolation='nearest', cmap=plt.cm.Wistia)\n",
    "    plt.title(title)\n",
    "    plt.colorbar()\n",
    "    tick_marks = np.arange(len(classes))\n",
    "    plt.xticks(tick_marks, classes)\n",
    "    plt.yticks(tick_marks, classes)\n",
    "\n",
    "    fmt = '0.2f'\n",
    "    thresh = cm.max() / 2.\n",
    "    for i, j in itertools.product(range(cm.shape[0]), range(cm.shape[1])):\n",
    "        plt.text(j, i, format(cm[i, j], fmt), horizontalalignment=\"center\", color=\"white\" if cm[i, j] > thresh else \"black\")\n",
    "\n",
    "    plt.tight_layout()\n",
    "    plt.ylabel('Actual label')\n",
    "    plt.xlabel('Predicted label')\n",
    "\n",
    "# Compute confusion matrix\n",
    "y_test_predict = logistic_model.predict(X_test)\n",
    "cm = confusion_matrix(y_test, y_test_predict)\n",
    "\n",
    "# Plot confusion matrix\n",
    "plt.figure(figsize=(8, 6))\n",
    "plot_confusion_matrix(cm, classes=['No', 'Yes'], title='Confusion Matrix - Test Data')\n",
    "plt.show()\n"
   ]
  },
  {
   "cell_type": "code",
   "execution_count": 58,
   "id": "7918bbe6",
   "metadata": {},
   "outputs": [],
   "source": [
    "\n",
    "from imblearn.over_sampling import SMOTE\n"
   ]
  },
  {
   "cell_type": "code",
   "execution_count": 59,
   "id": "fea7cee0",
   "metadata": {},
   "outputs": [],
   "source": [
    "sm = SMOTE(random_state=2)\n"
   ]
  },
  {
   "cell_type": "code",
   "execution_count": 60,
   "id": "db279548",
   "metadata": {},
   "outputs": [],
   "source": [
    "X_train_res, y_train_res = sm.fit_resample(X_train, y_train.ravel())"
   ]
  },
  {
   "cell_type": "code",
   "execution_count": 61,
   "id": "6e798f76",
   "metadata": {},
   "outputs": [
    {
     "data": {
      "text/plain": [
       "(7738, 17)"
      ]
     },
     "execution_count": 61,
     "metadata": {},
     "output_type": "execute_result"
    }
   ],
   "source": [
    "## Let's check the shape after SMOTE\n",
    "X_train_res.shape"
   ]
  },
  {
   "cell_type": "code",
   "execution_count": 62,
   "id": "4dd62699",
   "metadata": {},
   "outputs": [
    {
     "name": "stderr",
     "output_type": "stream",
     "text": [
      "C:\\Softwares\\Anaconda\\envs\\r env\\lib\\site-packages\\sklearn\\linear_model\\_logistic.py:1173: FutureWarning: `penalty='none'`has been deprecated in 1.2 and will be removed in 1.4. To keep the past behaviour, set `penalty=None`.\n",
      "  warnings.warn(\n",
      "[Parallel(n_jobs=2)]: Using backend LokyBackend with 2 concurrent workers.\n",
      "[Parallel(n_jobs=2)]: Done   1 out of   1 | elapsed:    1.0s finished\n"
     ]
    },
    {
     "data": {
      "text/html": [
       "<style>#sk-container-id-3 {color: black;background-color: white;}#sk-container-id-3 pre{padding: 0;}#sk-container-id-3 div.sk-toggleable {background-color: white;}#sk-container-id-3 label.sk-toggleable__label {cursor: pointer;display: block;width: 100%;margin-bottom: 0;padding: 0.3em;box-sizing: border-box;text-align: center;}#sk-container-id-3 label.sk-toggleable__label-arrow:before {content: \"▸\";float: left;margin-right: 0.25em;color: #696969;}#sk-container-id-3 label.sk-toggleable__label-arrow:hover:before {color: black;}#sk-container-id-3 div.sk-estimator:hover label.sk-toggleable__label-arrow:before {color: black;}#sk-container-id-3 div.sk-toggleable__content {max-height: 0;max-width: 0;overflow: hidden;text-align: left;background-color: #f0f8ff;}#sk-container-id-3 div.sk-toggleable__content pre {margin: 0.2em;color: black;border-radius: 0.25em;background-color: #f0f8ff;}#sk-container-id-3 input.sk-toggleable__control:checked~div.sk-toggleable__content {max-height: 200px;max-width: 100%;overflow: auto;}#sk-container-id-3 input.sk-toggleable__control:checked~label.sk-toggleable__label-arrow:before {content: \"▾\";}#sk-container-id-3 div.sk-estimator input.sk-toggleable__control:checked~label.sk-toggleable__label {background-color: #d4ebff;}#sk-container-id-3 div.sk-label input.sk-toggleable__control:checked~label.sk-toggleable__label {background-color: #d4ebff;}#sk-container-id-3 input.sk-hidden--visually {border: 0;clip: rect(1px 1px 1px 1px);clip: rect(1px, 1px, 1px, 1px);height: 1px;margin: -1px;overflow: hidden;padding: 0;position: absolute;width: 1px;}#sk-container-id-3 div.sk-estimator {font-family: monospace;background-color: #f0f8ff;border: 1px dotted black;border-radius: 0.25em;box-sizing: border-box;margin-bottom: 0.5em;}#sk-container-id-3 div.sk-estimator:hover {background-color: #d4ebff;}#sk-container-id-3 div.sk-parallel-item::after {content: \"\";width: 100%;border-bottom: 1px solid gray;flex-grow: 1;}#sk-container-id-3 div.sk-label:hover label.sk-toggleable__label {background-color: #d4ebff;}#sk-container-id-3 div.sk-serial::before {content: \"\";position: absolute;border-left: 1px solid gray;box-sizing: border-box;top: 0;bottom: 0;left: 50%;z-index: 0;}#sk-container-id-3 div.sk-serial {display: flex;flex-direction: column;align-items: center;background-color: white;padding-right: 0.2em;padding-left: 0.2em;position: relative;}#sk-container-id-3 div.sk-item {position: relative;z-index: 1;}#sk-container-id-3 div.sk-parallel {display: flex;align-items: stretch;justify-content: center;background-color: white;position: relative;}#sk-container-id-3 div.sk-item::before, #sk-container-id-3 div.sk-parallel-item::before {content: \"\";position: absolute;border-left: 1px solid gray;box-sizing: border-box;top: 0;bottom: 0;left: 50%;z-index: -1;}#sk-container-id-3 div.sk-parallel-item {display: flex;flex-direction: column;z-index: 1;position: relative;background-color: white;}#sk-container-id-3 div.sk-parallel-item:first-child::after {align-self: flex-end;width: 50%;}#sk-container-id-3 div.sk-parallel-item:last-child::after {align-self: flex-start;width: 50%;}#sk-container-id-3 div.sk-parallel-item:only-child::after {width: 0;}#sk-container-id-3 div.sk-dashed-wrapped {border: 1px dashed gray;margin: 0 0.4em 0.5em 0.4em;box-sizing: border-box;padding-bottom: 0.4em;background-color: white;}#sk-container-id-3 div.sk-label label {font-family: monospace;font-weight: bold;display: inline-block;line-height: 1.2em;}#sk-container-id-3 div.sk-label-container {text-align: center;}#sk-container-id-3 div.sk-container {/* jupyter's `normalize.less` sets `[hidden] { display: none; }` but bootstrap.min.css set `[hidden] { display: none !important; }` so we also need the `!important` here to be able to override the default hidden behavior on the sphinx rendered scikit-learn.org. See: https://github.com/scikit-learn/scikit-learn/issues/21755 */display: inline-block !important;position: relative;}#sk-container-id-3 div.sk-text-repr-fallback {display: none;}</style><div id=\"sk-container-id-3\" class=\"sk-top-container\"><div class=\"sk-text-repr-fallback\"><pre>LogisticRegression(max_iter=10000, n_jobs=2, penalty=&#x27;none&#x27;, solver=&#x27;newton-cg&#x27;,\n",
       "                   verbose=True)</pre><b>In a Jupyter environment, please rerun this cell to show the HTML representation or trust the notebook. <br />On GitHub, the HTML representation is unable to render, please try loading this page with nbviewer.org.</b></div><div class=\"sk-container\" hidden><div class=\"sk-item\"><div class=\"sk-estimator sk-toggleable\"><input class=\"sk-toggleable__control sk-hidden--visually\" id=\"sk-estimator-id-3\" type=\"checkbox\" checked><label for=\"sk-estimator-id-3\" class=\"sk-toggleable__label sk-toggleable__label-arrow\">LogisticRegression</label><div class=\"sk-toggleable__content\"><pre>LogisticRegression(max_iter=10000, n_jobs=2, penalty=&#x27;none&#x27;, solver=&#x27;newton-cg&#x27;,\n",
       "                   verbose=True)</pre></div></div></div></div></div>"
      ],
      "text/plain": [
       "LogisticRegression(max_iter=10000, n_jobs=2, penalty='none', solver='newton-cg',\n",
       "                   verbose=True)"
      ]
     },
     "execution_count": 62,
     "metadata": {},
     "output_type": "execute_result"
    }
   ],
   "source": [
    "logistic_model.fit(X_train_res, y_train_res)"
   ]
  },
  {
   "cell_type": "code",
   "execution_count": 63,
   "id": "b77faa70",
   "metadata": {},
   "outputs": [],
   "source": [
    "ytrain_predict = logistic_model.predict(X_train_res)\n",
    "ytest_predict = logistic_model.predict(X_test)"
   ]
  },
  {
   "cell_type": "code",
   "execution_count": 64,
   "id": "fb1a166a",
   "metadata": {},
   "outputs": [
    {
     "data": {
      "text/html": [
       "<div>\n",
       "<style scoped>\n",
       "    .dataframe tbody tr th:only-of-type {\n",
       "        vertical-align: middle;\n",
       "    }\n",
       "\n",
       "    .dataframe tbody tr th {\n",
       "        vertical-align: top;\n",
       "    }\n",
       "\n",
       "    .dataframe thead th {\n",
       "        text-align: right;\n",
       "    }\n",
       "</style>\n",
       "<table border=\"1\" class=\"dataframe\">\n",
       "  <thead>\n",
       "    <tr style=\"text-align: right;\">\n",
       "      <th></th>\n",
       "      <th>0</th>\n",
       "      <th>1</th>\n",
       "    </tr>\n",
       "  </thead>\n",
       "  <tbody>\n",
       "    <tr>\n",
       "      <th>0</th>\n",
       "      <td>0.999062</td>\n",
       "      <td>0.000938</td>\n",
       "    </tr>\n",
       "    <tr>\n",
       "      <th>1</th>\n",
       "      <td>0.229185</td>\n",
       "      <td>0.770815</td>\n",
       "    </tr>\n",
       "    <tr>\n",
       "      <th>2</th>\n",
       "      <td>0.627734</td>\n",
       "      <td>0.372266</td>\n",
       "    </tr>\n",
       "    <tr>\n",
       "      <th>3</th>\n",
       "      <td>0.142185</td>\n",
       "      <td>0.857815</td>\n",
       "    </tr>\n",
       "    <tr>\n",
       "      <th>4</th>\n",
       "      <td>0.267471</td>\n",
       "      <td>0.732529</td>\n",
       "    </tr>\n",
       "  </tbody>\n",
       "</table>\n",
       "</div>"
      ],
      "text/plain": [
       "          0         1\n",
       "0  0.999062  0.000938\n",
       "1  0.229185  0.770815\n",
       "2  0.627734  0.372266\n",
       "3  0.142185  0.857815\n",
       "4  0.267471  0.732529"
      ]
     },
     "execution_count": 64,
     "metadata": {},
     "output_type": "execute_result"
    }
   ],
   "source": [
    "ytest_predict_prob=logistic_model.predict_proba(X_test)\n",
    "pd.DataFrame(ytest_predict_prob).head()"
   ]
  },
  {
   "cell_type": "code",
   "execution_count": 65,
   "id": "bf584a24",
   "metadata": {},
   "outputs": [
    {
     "data": {
      "text/plain": [
       "0.7947790126647712"
      ]
     },
     "execution_count": 65,
     "metadata": {},
     "output_type": "execute_result"
    }
   ],
   "source": [
    "#Train Data Accuracy\n",
    "logistic_train_acc_res=logistic_model.score(X_train_res,y_train_res) \n",
    "logistic_train_acc_res"
   ]
  },
  {
   "cell_type": "code",
   "execution_count": 66,
   "id": "967a53b7",
   "metadata": {},
   "outputs": [
    {
     "data": {
      "text/plain": [
       "0.7497155858930603"
      ]
     },
     "execution_count": 66,
     "metadata": {},
     "output_type": "execute_result"
    }
   ],
   "source": [
    "#Test Data Accuracy\n",
    "logistic_test_acc_res=logistic_model.score(X_test, y_test)\n",
    "logistic_test_acc_res"
   ]
  },
  {
   "cell_type": "code",
   "execution_count": 70,
   "id": "fc83bd8a",
   "metadata": {},
   "outputs": [
    {
     "name": "stdout",
     "output_type": "stream",
     "text": [
      "              precision    recall  f1-score   support\n",
      "\n",
      "           0       0.83      0.75      0.78      3869\n",
      "           1       0.77      0.84      0.80      3869\n",
      "\n",
      "    accuracy                           0.79      7738\n",
      "   macro avg       0.80      0.79      0.79      7738\n",
      "weighted avg       0.80      0.79      0.79      7738\n",
      "\n",
      "logistic_sm_train_precision: 0.77\n",
      "logistic_sm_train_recall: 0.84\n",
      "logistic_sm_train_f1: 0.8\n"
     ]
    }
   ],
   "source": [
    "print(classification_report(y_train_res, ytrain_predict))\n",
    "# Generate the classification report for the training data\n",
    "logisticamote_metrics = classification_report(y_train_res, ytrain_predict, output_dict=True)\n",
    "\n",
    "# Convert the metrics to a DataFrame\n",
    "df = pd.DataFrame(logisticamote_metrics).transpose()\n",
    "\n",
    "# Extract the precision, recall, and F1-score for the positive class (class \"1\")\n",
    "logistic_sm_train_precision = round(df.loc[\"1\"][\"precision\"], 2)\n",
    "logistic_sm_train_recall = round(df.loc[\"1\"][\"recall\"], 2)\n",
    "logistic_sm_train_f1 = round(df.loc[\"1\"][\"f1-score\"], 2)\n",
    "\n",
    "# Print the precision, recall, and F1-score\n",
    "print('logistic_sm_train_precision:', logistic_sm_train_precision)\n",
    "print('logistic_sm_train_recall:', logistic_sm_train_recall)\n",
    "print('logistic_sm_train_f1:', logistic_sm_train_f1)"
   ]
  },
  {
   "cell_type": "code",
   "execution_count": 72,
   "id": "a6ffc55c",
   "metadata": {},
   "outputs": [
    {
     "name": "stdout",
     "output_type": "stream",
     "text": [
      "              precision    recall  f1-score   support\n",
      "\n",
      "           0       0.90      0.74      0.81      1294\n",
      "           1       0.52      0.77      0.62       464\n",
      "\n",
      "    accuracy                           0.75      1758\n",
      "   macro avg       0.71      0.75      0.72      1758\n",
      "weighted avg       0.80      0.75      0.76      1758\n",
      "\n",
      "logistic_sm_test_precision  0.52\n",
      "logistic_sm_test_recall  0.77\n",
      "logistic_sm_test_f1  0.62\n"
     ]
    }
   ],
   "source": [
    "print(classification_report(y_test, ytest_predict))\n",
    "logisticamote_metrics = classification_report(y_test, ytest_predict, output_dict=True)\n",
    "df=pd.DataFrame(logisticamote_metrics).transpose()\n",
    "logistic_sm_test_f1=round(df.loc[\"1\"][2],2)\n",
    "logistic_sm_test_recall=round(df.loc[\"1\"][1],2)\n",
    "logistic_sm_test_precision=round(df.loc[\"1\"][0],2)\n",
    "print ('logistic_sm_test_precision ',logistic_sm_test_precision)\n",
    "print ('logistic_sm_test_recall ',logistic_sm_test_recall)\n",
    "print ('logistic_sm_test_f1 ',logistic_sm_test_f1)"
   ]
  },
  {
   "cell_type": "markdown",
   "id": "627ae21d",
   "metadata": {},
   "source": [
    "### LDA Model"
   ]
  },
  {
   "cell_type": "code",
   "execution_count": 73,
   "id": "8122d1c9",
   "metadata": {},
   "outputs": [],
   "source": [
    "clf = LinearDiscriminantAnalysis()\n",
    "lda_model=clf.fit(X_train,y_train)"
   ]
  },
  {
   "cell_type": "code",
   "execution_count": 74,
   "id": "50939176",
   "metadata": {},
   "outputs": [],
   "source": [
    "# Training Data Class Prediction with a cut-off value of 0.5\n",
    "ytrain_predict = lda_model.predict(X_train)\n",
    "\n",
    "# Test Data Class Prediction with a cut-off value of 0.5\n",
    "ytest_predict = lda_model.predict(X_test)"
   ]
  },
  {
   "cell_type": "code",
   "execution_count": 75,
   "id": "4733a72a",
   "metadata": {},
   "outputs": [
    {
     "data": {
      "text/html": [
       "<div>\n",
       "<style scoped>\n",
       "    .dataframe tbody tr th:only-of-type {\n",
       "        vertical-align: middle;\n",
       "    }\n",
       "\n",
       "    .dataframe tbody tr th {\n",
       "        vertical-align: top;\n",
       "    }\n",
       "\n",
       "    .dataframe thead th {\n",
       "        text-align: right;\n",
       "    }\n",
       "</style>\n",
       "<table border=\"1\" class=\"dataframe\">\n",
       "  <thead>\n",
       "    <tr style=\"text-align: right;\">\n",
       "      <th></th>\n",
       "      <th>0</th>\n",
       "      <th>1</th>\n",
       "    </tr>\n",
       "  </thead>\n",
       "  <tbody>\n",
       "    <tr>\n",
       "      <th>0</th>\n",
       "      <td>0.978066</td>\n",
       "      <td>0.021934</td>\n",
       "    </tr>\n",
       "    <tr>\n",
       "      <th>1</th>\n",
       "      <td>0.192921</td>\n",
       "      <td>0.807079</td>\n",
       "    </tr>\n",
       "    <tr>\n",
       "      <th>2</th>\n",
       "      <td>0.894388</td>\n",
       "      <td>0.105612</td>\n",
       "    </tr>\n",
       "    <tr>\n",
       "      <th>3</th>\n",
       "      <td>0.278726</td>\n",
       "      <td>0.721274</td>\n",
       "    </tr>\n",
       "    <tr>\n",
       "      <th>4</th>\n",
       "      <td>0.480101</td>\n",
       "      <td>0.519899</td>\n",
       "    </tr>\n",
       "  </tbody>\n",
       "</table>\n",
       "</div>"
      ],
      "text/plain": [
       "          0         1\n",
       "0  0.978066  0.021934\n",
       "1  0.192921  0.807079\n",
       "2  0.894388  0.105612\n",
       "3  0.278726  0.721274\n",
       "4  0.480101  0.519899"
      ]
     },
     "execution_count": 75,
     "metadata": {},
     "output_type": "execute_result"
    }
   ],
   "source": [
    "ytest_predict_prob=lda_model.predict_proba(X_test)\n",
    "pd.DataFrame(ytest_predict_prob).head()"
   ]
  },
  {
   "cell_type": "code",
   "execution_count": 76,
   "id": "74d375e3",
   "metadata": {},
   "outputs": [
    {
     "data": {
      "text/plain": [
       "0.7961698900265454"
      ]
     },
     "execution_count": 76,
     "metadata": {},
     "output_type": "execute_result"
    }
   ],
   "source": [
    "#Train Data Accuracy\n",
    "lda_train_acc=lda_model.score(X_train,y_train) \n",
    "lda_train_acc"
   ]
  },
  {
   "cell_type": "code",
   "execution_count": 77,
   "id": "7cc473ab",
   "metadata": {},
   "outputs": [
    {
     "data": {
      "text/plain": [
       "0.7952218430034129"
      ]
     },
     "execution_count": 77,
     "metadata": {},
     "output_type": "execute_result"
    }
   ],
   "source": [
    "lda_test_acc=lda_model.score(X_test, y_test)\n",
    "lda_test_acc"
   ]
  },
  {
   "cell_type": "code",
   "execution_count": 78,
   "id": "8ede4a60",
   "metadata": {},
   "outputs": [
    {
     "name": "stdout",
     "output_type": "stream",
     "text": [
      "              precision    recall  f1-score   support\n",
      "\n",
      "           0       0.84      0.89      0.87      3869\n",
      "           1       0.64      0.53      0.58      1405\n",
      "\n",
      "    accuracy                           0.80      5274\n",
      "   macro avg       0.74      0.71      0.72      5274\n",
      "weighted avg       0.79      0.80      0.79      5274\n",
      "\n"
     ]
    }
   ],
   "source": [
    "print(classification_report(y_train, ytrain_predict))"
   ]
  },
  {
   "cell_type": "code",
   "execution_count": 79,
   "id": "c55c5870",
   "metadata": {},
   "outputs": [
    {
     "name": "stdout",
     "output_type": "stream",
     "text": [
      "              precision    recall  f1-score   support\n",
      "\n",
      "           0       0.84      0.89      0.86      1294\n",
      "           1       0.63      0.54      0.58       464\n",
      "\n",
      "    accuracy                           0.80      1758\n",
      "   macro avg       0.74      0.71      0.72      1758\n",
      "weighted avg       0.79      0.80      0.79      1758\n",
      "\n"
     ]
    }
   ],
   "source": [
    "print(classification_report(y_test, ytest_predict))"
   ]
  },
  {
   "cell_type": "code",
   "execution_count": 80,
   "id": "5d60ba3d",
   "metadata": {},
   "outputs": [
    {
     "name": "stdout",
     "output_type": "stream",
     "text": [
      "lda_train_precision  0.64\n",
      "lda_train_recall  0.53\n",
      "lda_train_f1  0.58\n"
     ]
    }
   ],
   "source": [
    "lda_metrics=classification_report(y_train, ytrain_predict,output_dict=True)\n",
    "df=pd.DataFrame(lda_metrics).transpose()\n",
    "lda_train_f1=round(df.loc[\"1\"][2],2)\n",
    "lda_train_recall=round(df.loc[\"1\"][1],2)\n",
    "lda_train_precision=round(df.loc[\"1\"][0],2)\n",
    "print ('lda_train_precision ',lda_train_precision)\n",
    "print ('lda_train_recall ',lda_train_recall)\n",
    "print ('lda_train_f1 ',lda_train_f1)"
   ]
  },
  {
   "cell_type": "code",
   "execution_count": 81,
   "id": "1c918b82",
   "metadata": {},
   "outputs": [
    {
     "name": "stdout",
     "output_type": "stream",
     "text": [
      "lda_test_precision  0.63\n",
      "lda_test_recall  0.54\n",
      "lda_test_f1  0.58\n"
     ]
    }
   ],
   "source": [
    "lda_metrics=classification_report(y_test, ytest_predict,output_dict=True)\n",
    "df=pd.DataFrame(lda_metrics).transpose()\n",
    "lda_test_f1=round(df.loc[\"1\"][2],2)\n",
    "lda_test_recall=round(df.loc[\"1\"][1],2)\n",
    "lda_test_precision=round(df.loc[\"1\"][0],2)\n",
    "print ('lda_test_precision ',lda_test_precision)\n",
    "print ('lda_test_recall ',lda_test_recall)\n",
    "print ('lda_test_f1 ',lda_test_f1)"
   ]
  },
  {
   "cell_type": "code",
   "execution_count": 82,
   "id": "3db91048",
   "metadata": {},
   "outputs": [
    {
     "data": {
      "text/plain": [
       "(      SeniorCitizen  Partner  Dependents  tenure  MultipleLines  \\\n",
       " 0                 0        1           0      71              2   \n",
       " 1                 0        0           1      49              0   \n",
       " 2                 0        0           0      72              0   \n",
       " 3                 0        0           0       4              0   \n",
       " 4                 0        0           0       9              0   \n",
       " ...             ...      ...         ...     ...            ...   \n",
       " 7733              0        0           0       1              2   \n",
       " 7734              0        0           0       2              0   \n",
       " 7735              0        0           0       7              0   \n",
       " 7736              1        0           0      52              1   \n",
       " 7737              0        0           0      13              0   \n",
       " \n",
       "       InternetService  OnlineSecurity  OnlineBackup  DeviceProtection  \\\n",
       " 0                   1               0             2                 2   \n",
       " 1                   2               1             1                 1   \n",
       " 2                   2               1             1                 1   \n",
       " 3                   2               1             1                 1   \n",
       " 4                   2               1             1                 1   \n",
       " ...               ...             ...           ...               ...   \n",
       " 7733                1               0             0                 2   \n",
       " 7734                1               0             0                 0   \n",
       " 7735                2               1             1                 1   \n",
       " 7736                0               2             0                 0   \n",
       " 7737                1               0             1                 1   \n",
       " \n",
       "       TechSupport  StreamingTV  StreamingMovies  Contract  PaperlessBilling  \\\n",
       " 0               0            2                2         2                 1   \n",
       " 1               1            1                1         1                 0   \n",
       " 2               1            1                1         2                 0   \n",
       " 3               1            1                1         0                 1   \n",
       " 4               1            1                1         0                 1   \n",
       " ...           ...          ...              ...       ...               ...   \n",
       " 7733            0            2                2         0                 1   \n",
       " 7734            0            0                0         0                 0   \n",
       " 7735            1            1                1         0                 0   \n",
       " 7736            1            0                0         0                 1   \n",
       " 7737            0            0                0         0                 1   \n",
       " \n",
       "       PaymentMethod  MonthlyCharges  TotalCharges  \n",
       " 0                 0      105.150000   7555.000000  \n",
       " 1                 1       19.450000    921.300000  \n",
       " 2                 0       19.300000   1414.800000  \n",
       " 3                 3       19.650000     67.550000  \n",
       " 4                 1       20.450000    147.550000  \n",
       " ...             ...             ...           ...  \n",
       " 7733              2      100.639378    100.639378  \n",
       " 7734              1       70.158646    137.090972  \n",
       " 7735              3       19.563091    174.034871  \n",
       " 7736              1       61.271973   3229.918005  \n",
       " 7737              1       77.760813   1110.143696  \n",
       " \n",
       " [7738 rows x 17 columns],\n",
       " array([0, 0, 0, ..., 1, 1, 1], dtype=int8))"
      ]
     },
     "execution_count": 82,
     "metadata": {},
     "output_type": "execute_result"
    }
   ],
   "source": [
    "X_train_res, y_train_res"
   ]
  },
  {
   "cell_type": "code",
   "execution_count": 83,
   "id": "5c1a7573",
   "metadata": {},
   "outputs": [],
   "source": [
    "clf = LinearDiscriminantAnalysis()\n",
    "lda_model=clf.fit(X_train_res, y_train_res)"
   ]
  },
  {
   "cell_type": "code",
   "execution_count": 84,
   "id": "c539baca",
   "metadata": {},
   "outputs": [],
   "source": [
    "# Training Data Class Prediction with a cut-off value of 0.5\n",
    "ytrain_predict = lda_model.predict(X_train_res)\n",
    "\n",
    "# Test Data Class Prediction with a cut-off value of 0.5\n",
    "ytest_predict = lda_model.predict(X_test)"
   ]
  },
  {
   "cell_type": "code",
   "execution_count": 85,
   "id": "d947947b",
   "metadata": {},
   "outputs": [
    {
     "data": {
      "text/html": [
       "<div>\n",
       "<style scoped>\n",
       "    .dataframe tbody tr th:only-of-type {\n",
       "        vertical-align: middle;\n",
       "    }\n",
       "\n",
       "    .dataframe tbody tr th {\n",
       "        vertical-align: top;\n",
       "    }\n",
       "\n",
       "    .dataframe thead th {\n",
       "        text-align: right;\n",
       "    }\n",
       "</style>\n",
       "<table border=\"1\" class=\"dataframe\">\n",
       "  <thead>\n",
       "    <tr style=\"text-align: right;\">\n",
       "      <th></th>\n",
       "      <th>0</th>\n",
       "      <th>1</th>\n",
       "    </tr>\n",
       "  </thead>\n",
       "  <tbody>\n",
       "    <tr>\n",
       "      <th>0</th>\n",
       "      <td>0.990082</td>\n",
       "      <td>0.009918</td>\n",
       "    </tr>\n",
       "    <tr>\n",
       "      <th>1</th>\n",
       "      <td>0.150722</td>\n",
       "      <td>0.849278</td>\n",
       "    </tr>\n",
       "    <tr>\n",
       "      <th>2</th>\n",
       "      <td>0.504844</td>\n",
       "      <td>0.495156</td>\n",
       "    </tr>\n",
       "    <tr>\n",
       "      <th>3</th>\n",
       "      <td>0.079720</td>\n",
       "      <td>0.920280</td>\n",
       "    </tr>\n",
       "    <tr>\n",
       "      <th>4</th>\n",
       "      <td>0.192512</td>\n",
       "      <td>0.807488</td>\n",
       "    </tr>\n",
       "  </tbody>\n",
       "</table>\n",
       "</div>"
      ],
      "text/plain": [
       "          0         1\n",
       "0  0.990082  0.009918\n",
       "1  0.150722  0.849278\n",
       "2  0.504844  0.495156\n",
       "3  0.079720  0.920280\n",
       "4  0.192512  0.807488"
      ]
     },
     "execution_count": 85,
     "metadata": {},
     "output_type": "execute_result"
    }
   ],
   "source": [
    "ytest_predict_prob=lda_model.predict_proba(X_test)\n",
    "pd.DataFrame(ytest_predict_prob).head()"
   ]
  },
  {
   "cell_type": "code",
   "execution_count": 86,
   "id": "ec334b8f",
   "metadata": {},
   "outputs": [
    {
     "data": {
      "text/plain": [
       "0.7876712328767124"
      ]
     },
     "execution_count": 86,
     "metadata": {},
     "output_type": "execute_result"
    }
   ],
   "source": [
    "#Train Data Accuracy\n",
    "lda_train_acc=lda_model.score(X_train_res,y_train_res) \n",
    "lda_train_acc"
   ]
  },
  {
   "cell_type": "code",
   "execution_count": 87,
   "id": "6364953c",
   "metadata": {},
   "outputs": [
    {
     "data": {
      "text/plain": [
       "0.7383390216154722"
      ]
     },
     "execution_count": 87,
     "metadata": {},
     "output_type": "execute_result"
    }
   ],
   "source": [
    "lda_test_acc=lda_model.score(X_test, y_test)\n",
    "lda_test_acc"
   ]
  },
  {
   "cell_type": "code",
   "execution_count": 88,
   "id": "73aa1231",
   "metadata": {},
   "outputs": [
    {
     "name": "stdout",
     "output_type": "stream",
     "text": [
      "              precision    recall  f1-score   support\n",
      "\n",
      "           0       0.83      0.73      0.77      3869\n",
      "           1       0.76      0.85      0.80      3869\n",
      "\n",
      "    accuracy                           0.79      7738\n",
      "   macro avg       0.79      0.79      0.79      7738\n",
      "weighted avg       0.79      0.79      0.79      7738\n",
      "\n",
      "lda_train_precision  0.76\n",
      "lda_train_recall  0.85\n",
      "lda_train_f1  0.8\n"
     ]
    }
   ],
   "source": [
    "print(classification_report(y_train_res, ytrain_predict))\n",
    "lda_metrics=classification_report(y_train_res, ytrain_predict,output_dict=True)\n",
    "df=pd.DataFrame(lda_metrics).transpose()\n",
    "lda_train_f1=round(df.loc[\"1\"][2],2)\n",
    "lda_train_recall=round(df.loc[\"1\"][1],2)\n",
    "lda_train_precision=round(df.loc[\"1\"][0],2)\n",
    "print ('lda_train_precision ',lda_train_precision)\n",
    "print ('lda_train_recall ',lda_train_recall)\n",
    "print ('lda_train_f1 ',lda_train_f1)"
   ]
  },
  {
   "cell_type": "code",
   "execution_count": 89,
   "id": "ef657131",
   "metadata": {},
   "outputs": [
    {
     "name": "stdout",
     "output_type": "stream",
     "text": [
      "              precision    recall  f1-score   support\n",
      "\n",
      "           0       0.90      0.72      0.80      1294\n",
      "           1       0.50      0.78      0.61       464\n",
      "\n",
      "    accuracy                           0.74      1758\n",
      "   macro avg       0.70      0.75      0.71      1758\n",
      "weighted avg       0.80      0.74      0.75      1758\n",
      "\n",
      "lda_test_precision  0.5\n",
      "lda_test_recall  0.78\n",
      "lda_test_f1  0.61\n"
     ]
    }
   ],
   "source": [
    "print(classification_report(y_test, ytest_predict))\n",
    "lda_metrics=classification_report(y_test, ytest_predict,output_dict=True)\n",
    "df=pd.DataFrame(lda_metrics).transpose()\n",
    "lda_test_f1=round(df.loc[\"1\"][2],2)\n",
    "lda_test_recall=round(df.loc[\"1\"][1],2)\n",
    "lda_test_precision=round(df.loc[\"1\"][0],2)\n",
    "print ('lda_test_precision ',lda_test_precision)\n",
    "print ('lda_test_recall ',lda_test_recall)\n",
    "print ('lda_test_f1 ',lda_test_f1)"
   ]
  },
  {
   "cell_type": "markdown",
   "id": "ee5d6ac3",
   "metadata": {},
   "source": [
    "### Decision Tree"
   ]
  },
  {
   "cell_type": "code",
   "execution_count": 90,
   "id": "b1fecb27",
   "metadata": {},
   "outputs": [
    {
     "data": {
      "text/html": [
       "<style>#sk-container-id-4 {color: black;background-color: white;}#sk-container-id-4 pre{padding: 0;}#sk-container-id-4 div.sk-toggleable {background-color: white;}#sk-container-id-4 label.sk-toggleable__label {cursor: pointer;display: block;width: 100%;margin-bottom: 0;padding: 0.3em;box-sizing: border-box;text-align: center;}#sk-container-id-4 label.sk-toggleable__label-arrow:before {content: \"▸\";float: left;margin-right: 0.25em;color: #696969;}#sk-container-id-4 label.sk-toggleable__label-arrow:hover:before {color: black;}#sk-container-id-4 div.sk-estimator:hover label.sk-toggleable__label-arrow:before {color: black;}#sk-container-id-4 div.sk-toggleable__content {max-height: 0;max-width: 0;overflow: hidden;text-align: left;background-color: #f0f8ff;}#sk-container-id-4 div.sk-toggleable__content pre {margin: 0.2em;color: black;border-radius: 0.25em;background-color: #f0f8ff;}#sk-container-id-4 input.sk-toggleable__control:checked~div.sk-toggleable__content {max-height: 200px;max-width: 100%;overflow: auto;}#sk-container-id-4 input.sk-toggleable__control:checked~label.sk-toggleable__label-arrow:before {content: \"▾\";}#sk-container-id-4 div.sk-estimator input.sk-toggleable__control:checked~label.sk-toggleable__label {background-color: #d4ebff;}#sk-container-id-4 div.sk-label input.sk-toggleable__control:checked~label.sk-toggleable__label {background-color: #d4ebff;}#sk-container-id-4 input.sk-hidden--visually {border: 0;clip: rect(1px 1px 1px 1px);clip: rect(1px, 1px, 1px, 1px);height: 1px;margin: -1px;overflow: hidden;padding: 0;position: absolute;width: 1px;}#sk-container-id-4 div.sk-estimator {font-family: monospace;background-color: #f0f8ff;border: 1px dotted black;border-radius: 0.25em;box-sizing: border-box;margin-bottom: 0.5em;}#sk-container-id-4 div.sk-estimator:hover {background-color: #d4ebff;}#sk-container-id-4 div.sk-parallel-item::after {content: \"\";width: 100%;border-bottom: 1px solid gray;flex-grow: 1;}#sk-container-id-4 div.sk-label:hover label.sk-toggleable__label {background-color: #d4ebff;}#sk-container-id-4 div.sk-serial::before {content: \"\";position: absolute;border-left: 1px solid gray;box-sizing: border-box;top: 0;bottom: 0;left: 50%;z-index: 0;}#sk-container-id-4 div.sk-serial {display: flex;flex-direction: column;align-items: center;background-color: white;padding-right: 0.2em;padding-left: 0.2em;position: relative;}#sk-container-id-4 div.sk-item {position: relative;z-index: 1;}#sk-container-id-4 div.sk-parallel {display: flex;align-items: stretch;justify-content: center;background-color: white;position: relative;}#sk-container-id-4 div.sk-item::before, #sk-container-id-4 div.sk-parallel-item::before {content: \"\";position: absolute;border-left: 1px solid gray;box-sizing: border-box;top: 0;bottom: 0;left: 50%;z-index: -1;}#sk-container-id-4 div.sk-parallel-item {display: flex;flex-direction: column;z-index: 1;position: relative;background-color: white;}#sk-container-id-4 div.sk-parallel-item:first-child::after {align-self: flex-end;width: 50%;}#sk-container-id-4 div.sk-parallel-item:last-child::after {align-self: flex-start;width: 50%;}#sk-container-id-4 div.sk-parallel-item:only-child::after {width: 0;}#sk-container-id-4 div.sk-dashed-wrapped {border: 1px dashed gray;margin: 0 0.4em 0.5em 0.4em;box-sizing: border-box;padding-bottom: 0.4em;background-color: white;}#sk-container-id-4 div.sk-label label {font-family: monospace;font-weight: bold;display: inline-block;line-height: 1.2em;}#sk-container-id-4 div.sk-label-container {text-align: center;}#sk-container-id-4 div.sk-container {/* jupyter's `normalize.less` sets `[hidden] { display: none; }` but bootstrap.min.css set `[hidden] { display: none !important; }` so we also need the `!important` here to be able to override the default hidden behavior on the sphinx rendered scikit-learn.org. See: https://github.com/scikit-learn/scikit-learn/issues/21755 */display: inline-block !important;position: relative;}#sk-container-id-4 div.sk-text-repr-fallback {display: none;}</style><div id=\"sk-container-id-4\" class=\"sk-top-container\"><div class=\"sk-text-repr-fallback\"><pre>DecisionTreeClassifier(max_depth=4, random_state=1)</pre><b>In a Jupyter environment, please rerun this cell to show the HTML representation or trust the notebook. <br />On GitHub, the HTML representation is unable to render, please try loading this page with nbviewer.org.</b></div><div class=\"sk-container\" hidden><div class=\"sk-item\"><div class=\"sk-estimator sk-toggleable\"><input class=\"sk-toggleable__control sk-hidden--visually\" id=\"sk-estimator-id-4\" type=\"checkbox\" checked><label for=\"sk-estimator-id-4\" class=\"sk-toggleable__label sk-toggleable__label-arrow\">DecisionTreeClassifier</label><div class=\"sk-toggleable__content\"><pre>DecisionTreeClassifier(max_depth=4, random_state=1)</pre></div></div></div></div></div>"
      ],
      "text/plain": [
       "DecisionTreeClassifier(max_depth=4, random_state=1)"
      ]
     },
     "execution_count": 90,
     "metadata": {},
     "output_type": "execute_result"
    }
   ],
   "source": [
    "dTree = DecisionTreeClassifier(criterion = 'gini', max_depth = 4, random_state=1)\n",
    "dTree.fit(X_train_res,y_train_res)"
   ]
  },
  {
   "cell_type": "code",
   "execution_count": 91,
   "id": "7dea6dc6",
   "metadata": {},
   "outputs": [
    {
     "name": "stdout",
     "output_type": "stream",
     "text": [
      "0.7923235978288964\n",
      "0.7434584755403868\n"
     ]
    }
   ],
   "source": [
    "decision_trscore = dTree.score(X_train_res,y_train_res)\n",
    "decision_tsscore = dTree.score(X_test, y_test)\n",
    "print(decision_trscore)\n",
    "print(decision_tsscore)"
   ]
  },
  {
   "cell_type": "code",
   "execution_count": 92,
   "id": "1fc6ef4c",
   "metadata": {},
   "outputs": [],
   "source": [
    "train_char_label = ['No', 'Yes']\n",
    "vote_Tree_File = open('vote_tree.dot','w')\n",
    "dot_data = tree.export_graphviz(dTree, out_file=vote_Tree_File, feature_names = list(X_train_res), class_names = list(train_char_label))\n",
    "vote_Tree_File.close()"
   ]
  },
  {
   "cell_type": "code",
   "execution_count": 93,
   "id": "5ea055bf",
   "metadata": {},
   "outputs": [
    {
     "name": "stdout",
     "output_type": "stream",
     "text": [
      "                       Imp\n",
      "SeniorCitizen     0.000234\n",
      "Partner           0.028651\n",
      "Dependents        0.000000\n",
      "tenure            0.000000\n",
      "MultipleLines     0.000000\n",
      "InternetService   0.000000\n",
      "OnlineSecurity    0.131148\n",
      "OnlineBackup      0.003949\n",
      "DeviceProtection  0.000000\n",
      "TechSupport       0.059466\n",
      "StreamingTV       0.000000\n",
      "StreamingMovies   0.000000\n",
      "Contract          0.691883\n",
      "PaperlessBilling  0.000000\n",
      "PaymentMethod     0.000000\n",
      "MonthlyCharges    0.072693\n",
      "TotalCharges      0.011977\n"
     ]
    }
   ],
   "source": [
    "print (pd.DataFrame(dTree.feature_importances_, columns = [\"Imp\"], index = X_train_res.columns))"
   ]
  },
  {
   "cell_type": "code",
   "execution_count": 94,
   "id": "b0c08dce",
   "metadata": {},
   "outputs": [],
   "source": [
    "# Training Data Class Prediction with a cut-off value of 0.5\n",
    "ytrain_predict = dTree.predict(X_train_res)\n",
    "\n",
    "# Test Data Class Prediction with a cut-off value of 0.5\n",
    "ytest_predict = dTree.predict(X_test)"
   ]
  },
  {
   "cell_type": "code",
   "execution_count": 95,
   "id": "0f455aa5",
   "metadata": {},
   "outputs": [
    {
     "name": "stdout",
     "output_type": "stream",
     "text": [
      "              precision    recall  f1-score   support\n",
      "\n",
      "           0       0.82      0.75      0.78      3869\n",
      "           1       0.77      0.83      0.80      3869\n",
      "\n",
      "    accuracy                           0.79      7738\n",
      "   macro avg       0.79      0.79      0.79      7738\n",
      "weighted avg       0.79      0.79      0.79      7738\n",
      "\n",
      "decision_train_precision: 0.77\n",
      "decision_train_recall: 0.83\n",
      "decision_train_f1: 0.8\n"
     ]
    }
   ],
   "source": [
    "print(classification_report(y_train_res, ytrain_predict))\n",
    "decision_metrics=classification_report(y_train_res, ytrain_predict,output_dict=True)\n",
    "df=pd.DataFrame(decision_metrics).transpose()\n",
    "# Extract the precision, recall, and F1-score for the positive class (class \"1\")\n",
    "decision_train_precision = round(df.loc[\"1\"][\"precision\"], 2)\n",
    "decision_train_recall = round(df.loc[\"1\"][\"recall\"], 2)\n",
    "decision_train_f1 = round(df.loc[\"1\"][\"f1-score\"], 2)\n",
    "\n",
    "# Print the precision, recall, and F1-score\n",
    "print('decision_train_precision:', decision_train_precision)\n",
    "print('decision_train_recall:', decision_train_recall)\n",
    "print('decision_train_f1:', decision_train_f1)"
   ]
  },
  {
   "cell_type": "code",
   "execution_count": 96,
   "id": "b6f511fa",
   "metadata": {},
   "outputs": [
    {
     "name": "stdout",
     "output_type": "stream",
     "text": [
      "              precision    recall  f1-score   support\n",
      "\n",
      "           0       0.88      0.75      0.81      1294\n",
      "           1       0.51      0.73      0.60       464\n",
      "\n",
      "    accuracy                           0.74      1758\n",
      "   macro avg       0.70      0.74      0.71      1758\n",
      "weighted avg       0.79      0.74      0.76      1758\n",
      "\n",
      "decision_test_precision: 0.51\n",
      "decision_test_recall: 0.73\n",
      "decision_test_f1: 0.6\n"
     ]
    }
   ],
   "source": [
    "print(classification_report(y_test, ytest_predict))\n",
    "decision_metrics=classification_report(y_test, ytest_predict,output_dict=True)\n",
    "df=pd.DataFrame(decision_metrics).transpose()\n",
    "decision_test_precision = round(df.loc[\"1\"][\"precision\"], 2)\n",
    "decision_test_recall = round(df.loc[\"1\"][\"recall\"], 2)\n",
    "decision_test_f1 = round(df.loc[\"1\"][\"f1-score\"], 2)\n",
    "\n",
    "# Print the precision, recall, and F1-score\n",
    "print('decision_test_precision:', decision_test_precision)\n",
    "print('decision_test_recall:', decision_test_recall)\n",
    "print('decision_test_f1:', decision_test_f1)"
   ]
  },
  {
   "cell_type": "markdown",
   "id": "667f1d8e",
   "metadata": {},
   "source": [
    "### Ensemble Learning - Bagging"
   ]
  },
  {
   "cell_type": "code",
   "execution_count": 97,
   "id": "916a9460",
   "metadata": {},
   "outputs": [
    {
     "name": "stderr",
     "output_type": "stream",
     "text": [
      "C:\\Softwares\\Anaconda\\envs\\r env\\lib\\site-packages\\sklearn\\ensemble\\_base.py:166: FutureWarning: `base_estimator` was renamed to `estimator` in version 1.2 and will be removed in 1.4.\n",
      "  warnings.warn(\n"
     ]
    }
   ],
   "source": [
    "bgcl = BaggingClassifier(base_estimator=dTree, n_estimators=50,random_state=1)\n",
    "bgcl = bgcl.fit(X_train_res,y_train_res)"
   ]
  },
  {
   "cell_type": "code",
   "execution_count": 98,
   "id": "04896dd4",
   "metadata": {},
   "outputs": [],
   "source": [
    "# Training Data Class Prediction with a cut-off value of 0.5\n",
    "ytrain_predict = bgcl.predict(X_train_res)\n",
    "\n",
    "# Test Data Class Prediction with a cut-off value of 0.5\n",
    "ytest_predict = bgcl.predict(X_test)"
   ]
  },
  {
   "cell_type": "code",
   "execution_count": 99,
   "id": "cca28647",
   "metadata": {},
   "outputs": [
    {
     "data": {
      "text/html": [
       "<div>\n",
       "<style scoped>\n",
       "    .dataframe tbody tr th:only-of-type {\n",
       "        vertical-align: middle;\n",
       "    }\n",
       "\n",
       "    .dataframe tbody tr th {\n",
       "        vertical-align: top;\n",
       "    }\n",
       "\n",
       "    .dataframe thead th {\n",
       "        text-align: right;\n",
       "    }\n",
       "</style>\n",
       "<table border=\"1\" class=\"dataframe\">\n",
       "  <thead>\n",
       "    <tr style=\"text-align: right;\">\n",
       "      <th></th>\n",
       "      <th>0</th>\n",
       "      <th>1</th>\n",
       "    </tr>\n",
       "  </thead>\n",
       "  <tbody>\n",
       "    <tr>\n",
       "      <th>0</th>\n",
       "      <td>0.992628</td>\n",
       "      <td>0.007372</td>\n",
       "    </tr>\n",
       "    <tr>\n",
       "      <th>1</th>\n",
       "      <td>0.209371</td>\n",
       "      <td>0.790629</td>\n",
       "    </tr>\n",
       "    <tr>\n",
       "      <th>2</th>\n",
       "      <td>0.895395</td>\n",
       "      <td>0.104605</td>\n",
       "    </tr>\n",
       "    <tr>\n",
       "      <th>3</th>\n",
       "      <td>0.177062</td>\n",
       "      <td>0.822938</td>\n",
       "    </tr>\n",
       "    <tr>\n",
       "      <th>4</th>\n",
       "      <td>0.181496</td>\n",
       "      <td>0.818504</td>\n",
       "    </tr>\n",
       "  </tbody>\n",
       "</table>\n",
       "</div>"
      ],
      "text/plain": [
       "          0         1\n",
       "0  0.992628  0.007372\n",
       "1  0.209371  0.790629\n",
       "2  0.895395  0.104605\n",
       "3  0.177062  0.822938\n",
       "4  0.181496  0.818504"
      ]
     },
     "execution_count": 99,
     "metadata": {},
     "output_type": "execute_result"
    }
   ],
   "source": [
    "ytest_predict_prob=bgcl.predict_proba(X_test)\n",
    "pd.DataFrame(ytest_predict_prob).head()"
   ]
  },
  {
   "cell_type": "code",
   "execution_count": 100,
   "id": "b99f21fc",
   "metadata": {},
   "outputs": [
    {
     "data": {
      "text/plain": [
       "0.8073145515637116"
      ]
     },
     "execution_count": 100,
     "metadata": {},
     "output_type": "execute_result"
    }
   ],
   "source": [
    "bgcl_train_acc=bgcl.score(X_train_res,y_train_res) \n",
    "bgcl_train_acc"
   ]
  },
  {
   "cell_type": "code",
   "execution_count": 101,
   "id": "ffc63d1e",
   "metadata": {},
   "outputs": [
    {
     "data": {
      "text/plain": [
       "0.757679180887372"
      ]
     },
     "execution_count": 101,
     "metadata": {},
     "output_type": "execute_result"
    }
   ],
   "source": [
    "bgcl_test_acc=bgcl.score(X_test, y_test)\n",
    "bgcl_test_acc"
   ]
  },
  {
   "cell_type": "code",
   "execution_count": 102,
   "id": "c45db3b2",
   "metadata": {},
   "outputs": [
    {
     "name": "stdout",
     "output_type": "stream",
     "text": [
      "              precision    recall  f1-score   support\n",
      "\n",
      "           0       0.84      0.76      0.80      3869\n",
      "           1       0.78      0.85      0.82      3869\n",
      "\n",
      "    accuracy                           0.81      7738\n",
      "   macro avg       0.81      0.81      0.81      7738\n",
      "weighted avg       0.81      0.81      0.81      7738\n",
      "\n",
      "bagging_train_precision: 0.78\n",
      "bagging_train_recall: 0.85\n",
      "bagging_train_f1: 0.82\n"
     ]
    }
   ],
   "source": [
    "print(classification_report(y_train_res, ytrain_predict))\n",
    "bagging_metrics=classification_report(y_train_res, ytrain_predict,output_dict=True)\n",
    "df=pd.DataFrame(bagging_metrics).transpose()\n",
    "# Extract the precision, recall, and F1-score for the positive class (class \"1\")\n",
    "bagging_train_precision = round(df.loc[\"1\"][\"precision\"], 2)\n",
    "bagging_train_recall = round(df.loc[\"1\"][\"recall\"], 2)\n",
    "bagging_train_f1 = round(df.loc[\"1\"][\"f1-score\"], 2)\n",
    "\n",
    "# Print the precision, recall, and F1-score\n",
    "print('bagging_train_precision:', bagging_train_precision)\n",
    "print('bagging_train_recall:', bagging_train_recall)\n",
    "print('bagging_train_f1:', bagging_train_f1)"
   ]
  },
  {
   "cell_type": "code",
   "execution_count": 103,
   "id": "89f42a31",
   "metadata": {},
   "outputs": [
    {
     "name": "stdout",
     "output_type": "stream",
     "text": [
      "              precision    recall  f1-score   support\n",
      "\n",
      "           0       0.89      0.76      0.82      1294\n",
      "           1       0.53      0.75      0.62       464\n",
      "\n",
      "    accuracy                           0.76      1758\n",
      "   macro avg       0.71      0.76      0.72      1758\n",
      "weighted avg       0.80      0.76      0.77      1758\n",
      "\n",
      "bagging_test_precision: 0.53\n",
      "bagging_test_recall: 0.75\n",
      "bagging_test_f1: 0.62\n"
     ]
    }
   ],
   "source": [
    "print(classification_report(y_test, ytest_predict))\n",
    "bagging_metrics=classification_report(y_test, ytest_predict,output_dict=True)\n",
    "df=pd.DataFrame(bagging_metrics).transpose()\n",
    "# Extract the precision, recall, and F1-score for the positive class (class \"1\")\n",
    "bagging_test_precision = round(df.loc[\"1\"][\"precision\"], 2)\n",
    "bagging_test_recall = round(df.loc[\"1\"][\"recall\"], 2)\n",
    "bagging_test_f1 = round(df.loc[\"1\"][\"f1-score\"], 2)\n",
    "\n",
    "# Print the precision, recall, and F1-score\n",
    "print('bagging_test_precision:', bagging_test_precision)\n",
    "print('bagging_test_recall:', bagging_test_recall)\n",
    "print('bagging_test_f1:', bagging_test_f1)"
   ]
  },
  {
   "cell_type": "markdown",
   "id": "bc5a127f",
   "metadata": {},
   "source": [
    "# ADA boost"
   ]
  },
  {
   "cell_type": "code",
   "execution_count": 104,
   "id": "aab7c306",
   "metadata": {},
   "outputs": [
    {
     "data": {
      "text/html": [
       "<style>#sk-container-id-5 {color: black;background-color: white;}#sk-container-id-5 pre{padding: 0;}#sk-container-id-5 div.sk-toggleable {background-color: white;}#sk-container-id-5 label.sk-toggleable__label {cursor: pointer;display: block;width: 100%;margin-bottom: 0;padding: 0.3em;box-sizing: border-box;text-align: center;}#sk-container-id-5 label.sk-toggleable__label-arrow:before {content: \"▸\";float: left;margin-right: 0.25em;color: #696969;}#sk-container-id-5 label.sk-toggleable__label-arrow:hover:before {color: black;}#sk-container-id-5 div.sk-estimator:hover label.sk-toggleable__label-arrow:before {color: black;}#sk-container-id-5 div.sk-toggleable__content {max-height: 0;max-width: 0;overflow: hidden;text-align: left;background-color: #f0f8ff;}#sk-container-id-5 div.sk-toggleable__content pre {margin: 0.2em;color: black;border-radius: 0.25em;background-color: #f0f8ff;}#sk-container-id-5 input.sk-toggleable__control:checked~div.sk-toggleable__content {max-height: 200px;max-width: 100%;overflow: auto;}#sk-container-id-5 input.sk-toggleable__control:checked~label.sk-toggleable__label-arrow:before {content: \"▾\";}#sk-container-id-5 div.sk-estimator input.sk-toggleable__control:checked~label.sk-toggleable__label {background-color: #d4ebff;}#sk-container-id-5 div.sk-label input.sk-toggleable__control:checked~label.sk-toggleable__label {background-color: #d4ebff;}#sk-container-id-5 input.sk-hidden--visually {border: 0;clip: rect(1px 1px 1px 1px);clip: rect(1px, 1px, 1px, 1px);height: 1px;margin: -1px;overflow: hidden;padding: 0;position: absolute;width: 1px;}#sk-container-id-5 div.sk-estimator {font-family: monospace;background-color: #f0f8ff;border: 1px dotted black;border-radius: 0.25em;box-sizing: border-box;margin-bottom: 0.5em;}#sk-container-id-5 div.sk-estimator:hover {background-color: #d4ebff;}#sk-container-id-5 div.sk-parallel-item::after {content: \"\";width: 100%;border-bottom: 1px solid gray;flex-grow: 1;}#sk-container-id-5 div.sk-label:hover label.sk-toggleable__label {background-color: #d4ebff;}#sk-container-id-5 div.sk-serial::before {content: \"\";position: absolute;border-left: 1px solid gray;box-sizing: border-box;top: 0;bottom: 0;left: 50%;z-index: 0;}#sk-container-id-5 div.sk-serial {display: flex;flex-direction: column;align-items: center;background-color: white;padding-right: 0.2em;padding-left: 0.2em;position: relative;}#sk-container-id-5 div.sk-item {position: relative;z-index: 1;}#sk-container-id-5 div.sk-parallel {display: flex;align-items: stretch;justify-content: center;background-color: white;position: relative;}#sk-container-id-5 div.sk-item::before, #sk-container-id-5 div.sk-parallel-item::before {content: \"\";position: absolute;border-left: 1px solid gray;box-sizing: border-box;top: 0;bottom: 0;left: 50%;z-index: -1;}#sk-container-id-5 div.sk-parallel-item {display: flex;flex-direction: column;z-index: 1;position: relative;background-color: white;}#sk-container-id-5 div.sk-parallel-item:first-child::after {align-self: flex-end;width: 50%;}#sk-container-id-5 div.sk-parallel-item:last-child::after {align-self: flex-start;width: 50%;}#sk-container-id-5 div.sk-parallel-item:only-child::after {width: 0;}#sk-container-id-5 div.sk-dashed-wrapped {border: 1px dashed gray;margin: 0 0.4em 0.5em 0.4em;box-sizing: border-box;padding-bottom: 0.4em;background-color: white;}#sk-container-id-5 div.sk-label label {font-family: monospace;font-weight: bold;display: inline-block;line-height: 1.2em;}#sk-container-id-5 div.sk-label-container {text-align: center;}#sk-container-id-5 div.sk-container {/* jupyter's `normalize.less` sets `[hidden] { display: none; }` but bootstrap.min.css set `[hidden] { display: none !important; }` so we also need the `!important` here to be able to override the default hidden behavior on the sphinx rendered scikit-learn.org. See: https://github.com/scikit-learn/scikit-learn/issues/21755 */display: inline-block !important;position: relative;}#sk-container-id-5 div.sk-text-repr-fallback {display: none;}</style><div id=\"sk-container-id-5\" class=\"sk-top-container\"><div class=\"sk-text-repr-fallback\"><pre>AdaBoostClassifier(n_estimators=100, random_state=42)</pre><b>In a Jupyter environment, please rerun this cell to show the HTML representation or trust the notebook. <br />On GitHub, the HTML representation is unable to render, please try loading this page with nbviewer.org.</b></div><div class=\"sk-container\" hidden><div class=\"sk-item\"><div class=\"sk-estimator sk-toggleable\"><input class=\"sk-toggleable__control sk-hidden--visually\" id=\"sk-estimator-id-5\" type=\"checkbox\" checked><label for=\"sk-estimator-id-5\" class=\"sk-toggleable__label sk-toggleable__label-arrow\">AdaBoostClassifier</label><div class=\"sk-toggleable__content\"><pre>AdaBoostClassifier(n_estimators=100, random_state=42)</pre></div></div></div></div></div>"
      ],
      "text/plain": [
       "AdaBoostClassifier(n_estimators=100, random_state=42)"
      ]
     },
     "execution_count": 104,
     "metadata": {},
     "output_type": "execute_result"
    }
   ],
   "source": [
    "\n",
    "ADB_model = AdaBoostClassifier(n_estimators=100,random_state=42)\n",
    "ADB_model.fit(X_train_res,y_train_res)"
   ]
  },
  {
   "cell_type": "code",
   "execution_count": 105,
   "id": "63acdb66",
   "metadata": {},
   "outputs": [
    {
     "name": "stdout",
     "output_type": "stream",
     "text": [
      "0.8256655466528818\n",
      "[[3011  858]\n",
      " [ 491 3378]]\n",
      "              precision    recall  f1-score   support\n",
      "\n",
      "           0       0.86      0.78      0.82      3869\n",
      "           1       0.80      0.87      0.83      3869\n",
      "\n",
      "    accuracy                           0.83      7738\n",
      "   macro avg       0.83      0.83      0.83      7738\n",
      "weighted avg       0.83      0.83      0.83      7738\n",
      "\n",
      "adaboost_train_precision: 0.78\n",
      "adaboost_train_recall: 0.85\n",
      "adaboost_train_f1: 0.82\n"
     ]
    }
   ],
   "source": [
    "## Performance Matrix on train data set\n",
    "y_train_predict = ADB_model.predict(X_train_res)\n",
    "model_score_train = ADB_model.score(X_train_res, y_train_res)\n",
    "print(model_score_train)\n",
    "print(metrics.confusion_matrix(y_train_res, y_train_predict))\n",
    "print(metrics.classification_report(y_train_res, y_train_predict))\n",
    "adaboost_metrics=classification_report(y_train_res, ytrain_predict,output_dict=True)\n",
    "df=pd.DataFrame(adaboost_metrics).transpose()\n",
    "# Extract the precision, recall, and F1-score for the positive class (class \"1\")\n",
    "adaboost_train_precision = round(df.loc[\"1\"][\"precision\"], 2)\n",
    "adaboost_train_recall = round(df.loc[\"1\"][\"recall\"], 2)\n",
    "adaboost_train_f1 = round(df.loc[\"1\"][\"f1-score\"], 2)\n",
    "\n",
    "# Print the precision, recall, and F1-score\n",
    "print('adaboost_train_precision:', adaboost_train_precision)\n",
    "print('adaboost_train_recall:', adaboost_train_recall)\n",
    "print('adaboost_train_f1:', adaboost_train_f1)"
   ]
  },
  {
   "cell_type": "code",
   "execution_count": 106,
   "id": "6dd9aaa4",
   "metadata": {},
   "outputs": [
    {
     "name": "stdout",
     "output_type": "stream",
     "text": [
      "0.7724687144482366\n",
      "[[1011  283]\n",
      " [ 117  347]]\n",
      "              precision    recall  f1-score   support\n",
      "\n",
      "           0       0.90      0.78      0.83      1294\n",
      "           1       0.55      0.75      0.63       464\n",
      "\n",
      "    accuracy                           0.77      1758\n",
      "   macro avg       0.72      0.76      0.73      1758\n",
      "weighted avg       0.81      0.77      0.78      1758\n",
      "\n",
      "adaboost_test_precision: 0.53\n",
      "adaboost_test_recall: 0.75\n",
      "adaboost_test_f1: 0.62\n"
     ]
    }
   ],
   "source": [
    "## Performance Matrix on test data set\n",
    "y_test_predict = ADB_model.predict(X_test)\n",
    "model_score_test = ADB_model.score(X_test, y_test)\n",
    "print(model_score_test)\n",
    "print(metrics.confusion_matrix(y_test, y_test_predict))\n",
    "print(metrics.classification_report(y_test, y_test_predict))\n",
    "adaboost_metrics=classification_report(y_test, ytest_predict,output_dict=True)\n",
    "df=pd.DataFrame(adaboost_metrics).transpose()\n",
    "# Extract the precision, recall, and F1-score for the positive class (class \"1\")\n",
    "adaboost_test_precision = round(df.loc[\"1\"][\"precision\"], 2)\n",
    "adaboost_test_recall = round(df.loc[\"1\"][\"recall\"], 2)\n",
    "adaboost_test_f1 = round(df.loc[\"1\"][\"f1-score\"], 2)\n",
    "\n",
    "# Print the precision, recall, and F1-score\n",
    "print('adaboost_test_precision:', adaboost_test_precision)\n",
    "print('adaboost_test_recall:', adaboost_test_recall)\n",
    "print('adaboost_test_f1:', adaboost_test_f1)"
   ]
  },
  {
   "cell_type": "markdown",
   "id": "1564265a",
   "metadata": {},
   "source": [
    "## Random Forest"
   ]
  },
  {
   "cell_type": "code",
   "execution_count": 107,
   "id": "2252bf4f",
   "metadata": {},
   "outputs": [],
   "source": [
    "param_grid = {\n",
    "    'max_depth': [7,12],\n",
    "    'max_features': [6, 9],\n",
    "    'min_samples_leaf': [ 15,30,45],\n",
    "    'min_samples_split': [30, 50,100,150,200],\n",
    "    'n_estimators': [300, 500,100,700,1000]\n",
    "}\n",
    "\n",
    "rfr = RandomForestClassifier(random_state=123)\n",
    "\n",
    "grid_search = GridSearchCV(estimator = rfr, param_grid = param_grid, cv = 3)"
   ]
  },
  {
   "cell_type": "code",
   "execution_count": 108,
   "id": "58577721",
   "metadata": {},
   "outputs": [
    {
     "data": {
      "text/html": [
       "<style>#sk-container-id-6 {color: black;background-color: white;}#sk-container-id-6 pre{padding: 0;}#sk-container-id-6 div.sk-toggleable {background-color: white;}#sk-container-id-6 label.sk-toggleable__label {cursor: pointer;display: block;width: 100%;margin-bottom: 0;padding: 0.3em;box-sizing: border-box;text-align: center;}#sk-container-id-6 label.sk-toggleable__label-arrow:before {content: \"▸\";float: left;margin-right: 0.25em;color: #696969;}#sk-container-id-6 label.sk-toggleable__label-arrow:hover:before {color: black;}#sk-container-id-6 div.sk-estimator:hover label.sk-toggleable__label-arrow:before {color: black;}#sk-container-id-6 div.sk-toggleable__content {max-height: 0;max-width: 0;overflow: hidden;text-align: left;background-color: #f0f8ff;}#sk-container-id-6 div.sk-toggleable__content pre {margin: 0.2em;color: black;border-radius: 0.25em;background-color: #f0f8ff;}#sk-container-id-6 input.sk-toggleable__control:checked~div.sk-toggleable__content {max-height: 200px;max-width: 100%;overflow: auto;}#sk-container-id-6 input.sk-toggleable__control:checked~label.sk-toggleable__label-arrow:before {content: \"▾\";}#sk-container-id-6 div.sk-estimator input.sk-toggleable__control:checked~label.sk-toggleable__label {background-color: #d4ebff;}#sk-container-id-6 div.sk-label input.sk-toggleable__control:checked~label.sk-toggleable__label {background-color: #d4ebff;}#sk-container-id-6 input.sk-hidden--visually {border: 0;clip: rect(1px 1px 1px 1px);clip: rect(1px, 1px, 1px, 1px);height: 1px;margin: -1px;overflow: hidden;padding: 0;position: absolute;width: 1px;}#sk-container-id-6 div.sk-estimator {font-family: monospace;background-color: #f0f8ff;border: 1px dotted black;border-radius: 0.25em;box-sizing: border-box;margin-bottom: 0.5em;}#sk-container-id-6 div.sk-estimator:hover {background-color: #d4ebff;}#sk-container-id-6 div.sk-parallel-item::after {content: \"\";width: 100%;border-bottom: 1px solid gray;flex-grow: 1;}#sk-container-id-6 div.sk-label:hover label.sk-toggleable__label {background-color: #d4ebff;}#sk-container-id-6 div.sk-serial::before {content: \"\";position: absolute;border-left: 1px solid gray;box-sizing: border-box;top: 0;bottom: 0;left: 50%;z-index: 0;}#sk-container-id-6 div.sk-serial {display: flex;flex-direction: column;align-items: center;background-color: white;padding-right: 0.2em;padding-left: 0.2em;position: relative;}#sk-container-id-6 div.sk-item {position: relative;z-index: 1;}#sk-container-id-6 div.sk-parallel {display: flex;align-items: stretch;justify-content: center;background-color: white;position: relative;}#sk-container-id-6 div.sk-item::before, #sk-container-id-6 div.sk-parallel-item::before {content: \"\";position: absolute;border-left: 1px solid gray;box-sizing: border-box;top: 0;bottom: 0;left: 50%;z-index: -1;}#sk-container-id-6 div.sk-parallel-item {display: flex;flex-direction: column;z-index: 1;position: relative;background-color: white;}#sk-container-id-6 div.sk-parallel-item:first-child::after {align-self: flex-end;width: 50%;}#sk-container-id-6 div.sk-parallel-item:last-child::after {align-self: flex-start;width: 50%;}#sk-container-id-6 div.sk-parallel-item:only-child::after {width: 0;}#sk-container-id-6 div.sk-dashed-wrapped {border: 1px dashed gray;margin: 0 0.4em 0.5em 0.4em;box-sizing: border-box;padding-bottom: 0.4em;background-color: white;}#sk-container-id-6 div.sk-label label {font-family: monospace;font-weight: bold;display: inline-block;line-height: 1.2em;}#sk-container-id-6 div.sk-label-container {text-align: center;}#sk-container-id-6 div.sk-container {/* jupyter's `normalize.less` sets `[hidden] { display: none; }` but bootstrap.min.css set `[hidden] { display: none !important; }` so we also need the `!important` here to be able to override the default hidden behavior on the sphinx rendered scikit-learn.org. See: https://github.com/scikit-learn/scikit-learn/issues/21755 */display: inline-block !important;position: relative;}#sk-container-id-6 div.sk-text-repr-fallback {display: none;}</style><div id=\"sk-container-id-6\" class=\"sk-top-container\"><div class=\"sk-text-repr-fallback\"><pre>GridSearchCV(cv=3, estimator=RandomForestClassifier(random_state=123),\n",
       "             param_grid={&#x27;max_depth&#x27;: [7, 12], &#x27;max_features&#x27;: [6, 9],\n",
       "                         &#x27;min_samples_leaf&#x27;: [15, 30, 45],\n",
       "                         &#x27;min_samples_split&#x27;: [30, 50, 100, 150, 200],\n",
       "                         &#x27;n_estimators&#x27;: [300, 500, 100, 700, 1000]})</pre><b>In a Jupyter environment, please rerun this cell to show the HTML representation or trust the notebook. <br />On GitHub, the HTML representation is unable to render, please try loading this page with nbviewer.org.</b></div><div class=\"sk-container\" hidden><div class=\"sk-item sk-dashed-wrapped\"><div class=\"sk-label-container\"><div class=\"sk-label sk-toggleable\"><input class=\"sk-toggleable__control sk-hidden--visually\" id=\"sk-estimator-id-6\" type=\"checkbox\" ><label for=\"sk-estimator-id-6\" class=\"sk-toggleable__label sk-toggleable__label-arrow\">GridSearchCV</label><div class=\"sk-toggleable__content\"><pre>GridSearchCV(cv=3, estimator=RandomForestClassifier(random_state=123),\n",
       "             param_grid={&#x27;max_depth&#x27;: [7, 12], &#x27;max_features&#x27;: [6, 9],\n",
       "                         &#x27;min_samples_leaf&#x27;: [15, 30, 45],\n",
       "                         &#x27;min_samples_split&#x27;: [30, 50, 100, 150, 200],\n",
       "                         &#x27;n_estimators&#x27;: [300, 500, 100, 700, 1000]})</pre></div></div></div><div class=\"sk-parallel\"><div class=\"sk-parallel-item\"><div class=\"sk-item\"><div class=\"sk-label-container\"><div class=\"sk-label sk-toggleable\"><input class=\"sk-toggleable__control sk-hidden--visually\" id=\"sk-estimator-id-7\" type=\"checkbox\" ><label for=\"sk-estimator-id-7\" class=\"sk-toggleable__label sk-toggleable__label-arrow\">estimator: RandomForestClassifier</label><div class=\"sk-toggleable__content\"><pre>RandomForestClassifier(random_state=123)</pre></div></div></div><div class=\"sk-serial\"><div class=\"sk-item\"><div class=\"sk-estimator sk-toggleable\"><input class=\"sk-toggleable__control sk-hidden--visually\" id=\"sk-estimator-id-8\" type=\"checkbox\" ><label for=\"sk-estimator-id-8\" class=\"sk-toggleable__label sk-toggleable__label-arrow\">RandomForestClassifier</label><div class=\"sk-toggleable__content\"><pre>RandomForestClassifier(random_state=123)</pre></div></div></div></div></div></div></div></div></div></div>"
      ],
      "text/plain": [
       "GridSearchCV(cv=3, estimator=RandomForestClassifier(random_state=123),\n",
       "             param_grid={'max_depth': [7, 12], 'max_features': [6, 9],\n",
       "                         'min_samples_leaf': [15, 30, 45],\n",
       "                         'min_samples_split': [30, 50, 100, 150, 200],\n",
       "                         'n_estimators': [300, 500, 100, 700, 1000]})"
      ]
     },
     "execution_count": 108,
     "metadata": {},
     "output_type": "execute_result"
    }
   ],
   "source": [
    "grid_search.fit(X_train,y_train)"
   ]
  },
  {
   "cell_type": "code",
   "execution_count": 109,
   "id": "0130ab86",
   "metadata": {},
   "outputs": [
    {
     "name": "stdout",
     "output_type": "stream",
     "text": [
      "{'max_depth': 12, 'max_features': 6, 'min_samples_leaf': 15, 'min_samples_split': 50, 'n_estimators': 700}\n"
     ]
    }
   ],
   "source": [
    "print(grid_search.best_params_)"
   ]
  },
  {
   "cell_type": "code",
   "execution_count": 110,
   "id": "c1ca1645",
   "metadata": {},
   "outputs": [
    {
     "data": {
      "text/html": [
       "<style>#sk-container-id-7 {color: black;background-color: white;}#sk-container-id-7 pre{padding: 0;}#sk-container-id-7 div.sk-toggleable {background-color: white;}#sk-container-id-7 label.sk-toggleable__label {cursor: pointer;display: block;width: 100%;margin-bottom: 0;padding: 0.3em;box-sizing: border-box;text-align: center;}#sk-container-id-7 label.sk-toggleable__label-arrow:before {content: \"▸\";float: left;margin-right: 0.25em;color: #696969;}#sk-container-id-7 label.sk-toggleable__label-arrow:hover:before {color: black;}#sk-container-id-7 div.sk-estimator:hover label.sk-toggleable__label-arrow:before {color: black;}#sk-container-id-7 div.sk-toggleable__content {max-height: 0;max-width: 0;overflow: hidden;text-align: left;background-color: #f0f8ff;}#sk-container-id-7 div.sk-toggleable__content pre {margin: 0.2em;color: black;border-radius: 0.25em;background-color: #f0f8ff;}#sk-container-id-7 input.sk-toggleable__control:checked~div.sk-toggleable__content {max-height: 200px;max-width: 100%;overflow: auto;}#sk-container-id-7 input.sk-toggleable__control:checked~label.sk-toggleable__label-arrow:before {content: \"▾\";}#sk-container-id-7 div.sk-estimator input.sk-toggleable__control:checked~label.sk-toggleable__label {background-color: #d4ebff;}#sk-container-id-7 div.sk-label input.sk-toggleable__control:checked~label.sk-toggleable__label {background-color: #d4ebff;}#sk-container-id-7 input.sk-hidden--visually {border: 0;clip: rect(1px 1px 1px 1px);clip: rect(1px, 1px, 1px, 1px);height: 1px;margin: -1px;overflow: hidden;padding: 0;position: absolute;width: 1px;}#sk-container-id-7 div.sk-estimator {font-family: monospace;background-color: #f0f8ff;border: 1px dotted black;border-radius: 0.25em;box-sizing: border-box;margin-bottom: 0.5em;}#sk-container-id-7 div.sk-estimator:hover {background-color: #d4ebff;}#sk-container-id-7 div.sk-parallel-item::after {content: \"\";width: 100%;border-bottom: 1px solid gray;flex-grow: 1;}#sk-container-id-7 div.sk-label:hover label.sk-toggleable__label {background-color: #d4ebff;}#sk-container-id-7 div.sk-serial::before {content: \"\";position: absolute;border-left: 1px solid gray;box-sizing: border-box;top: 0;bottom: 0;left: 50%;z-index: 0;}#sk-container-id-7 div.sk-serial {display: flex;flex-direction: column;align-items: center;background-color: white;padding-right: 0.2em;padding-left: 0.2em;position: relative;}#sk-container-id-7 div.sk-item {position: relative;z-index: 1;}#sk-container-id-7 div.sk-parallel {display: flex;align-items: stretch;justify-content: center;background-color: white;position: relative;}#sk-container-id-7 div.sk-item::before, #sk-container-id-7 div.sk-parallel-item::before {content: \"\";position: absolute;border-left: 1px solid gray;box-sizing: border-box;top: 0;bottom: 0;left: 50%;z-index: -1;}#sk-container-id-7 div.sk-parallel-item {display: flex;flex-direction: column;z-index: 1;position: relative;background-color: white;}#sk-container-id-7 div.sk-parallel-item:first-child::after {align-self: flex-end;width: 50%;}#sk-container-id-7 div.sk-parallel-item:last-child::after {align-self: flex-start;width: 50%;}#sk-container-id-7 div.sk-parallel-item:only-child::after {width: 0;}#sk-container-id-7 div.sk-dashed-wrapped {border: 1px dashed gray;margin: 0 0.4em 0.5em 0.4em;box-sizing: border-box;padding-bottom: 0.4em;background-color: white;}#sk-container-id-7 div.sk-label label {font-family: monospace;font-weight: bold;display: inline-block;line-height: 1.2em;}#sk-container-id-7 div.sk-label-container {text-align: center;}#sk-container-id-7 div.sk-container {/* jupyter's `normalize.less` sets `[hidden] { display: none; }` but bootstrap.min.css set `[hidden] { display: none !important; }` so we also need the `!important` here to be able to override the default hidden behavior on the sphinx rendered scikit-learn.org. See: https://github.com/scikit-learn/scikit-learn/issues/21755 */display: inline-block !important;position: relative;}#sk-container-id-7 div.sk-text-repr-fallback {display: none;}</style><div id=\"sk-container-id-7\" class=\"sk-top-container\"><div class=\"sk-text-repr-fallback\"><pre>GridSearchCV(cv=3, estimator=RandomForestClassifier(random_state=123),\n",
       "             param_grid={&#x27;max_depth&#x27;: [7, 12], &#x27;max_features&#x27;: [6, 9],\n",
       "                         &#x27;min_samples_leaf&#x27;: [15, 30, 45],\n",
       "                         &#x27;min_samples_split&#x27;: [30, 50, 100, 150, 200],\n",
       "                         &#x27;n_estimators&#x27;: [300, 500, 100, 700, 1000]})</pre><b>In a Jupyter environment, please rerun this cell to show the HTML representation or trust the notebook. <br />On GitHub, the HTML representation is unable to render, please try loading this page with nbviewer.org.</b></div><div class=\"sk-container\" hidden><div class=\"sk-item sk-dashed-wrapped\"><div class=\"sk-label-container\"><div class=\"sk-label sk-toggleable\"><input class=\"sk-toggleable__control sk-hidden--visually\" id=\"sk-estimator-id-9\" type=\"checkbox\" ><label for=\"sk-estimator-id-9\" class=\"sk-toggleable__label sk-toggleable__label-arrow\">GridSearchCV</label><div class=\"sk-toggleable__content\"><pre>GridSearchCV(cv=3, estimator=RandomForestClassifier(random_state=123),\n",
       "             param_grid={&#x27;max_depth&#x27;: [7, 12], &#x27;max_features&#x27;: [6, 9],\n",
       "                         &#x27;min_samples_leaf&#x27;: [15, 30, 45],\n",
       "                         &#x27;min_samples_split&#x27;: [30, 50, 100, 150, 200],\n",
       "                         &#x27;n_estimators&#x27;: [300, 500, 100, 700, 1000]})</pre></div></div></div><div class=\"sk-parallel\"><div class=\"sk-parallel-item\"><div class=\"sk-item\"><div class=\"sk-label-container\"><div class=\"sk-label sk-toggleable\"><input class=\"sk-toggleable__control sk-hidden--visually\" id=\"sk-estimator-id-10\" type=\"checkbox\" ><label for=\"sk-estimator-id-10\" class=\"sk-toggleable__label sk-toggleable__label-arrow\">estimator: RandomForestClassifier</label><div class=\"sk-toggleable__content\"><pre>RandomForestClassifier(random_state=123)</pre></div></div></div><div class=\"sk-serial\"><div class=\"sk-item\"><div class=\"sk-estimator sk-toggleable\"><input class=\"sk-toggleable__control sk-hidden--visually\" id=\"sk-estimator-id-11\" type=\"checkbox\" ><label for=\"sk-estimator-id-11\" class=\"sk-toggleable__label sk-toggleable__label-arrow\">RandomForestClassifier</label><div class=\"sk-toggleable__content\"><pre>RandomForestClassifier(random_state=123)</pre></div></div></div></div></div></div></div></div></div></div>"
      ],
      "text/plain": [
       "GridSearchCV(cv=3, estimator=RandomForestClassifier(random_state=123),\n",
       "             param_grid={'max_depth': [7, 12], 'max_features': [6, 9],\n",
       "                         'min_samples_leaf': [15, 30, 45],\n",
       "                         'min_samples_split': [30, 50, 100, 150, 200],\n",
       "                         'n_estimators': [300, 500, 100, 700, 1000]})"
      ]
     },
     "execution_count": 110,
     "metadata": {},
     "output_type": "execute_result"
    }
   ],
   "source": [
    "grid_search.fit(X_train_res,y_train_res)"
   ]
  },
  {
   "cell_type": "code",
   "execution_count": 111,
   "id": "40e6dab3",
   "metadata": {},
   "outputs": [
    {
     "name": "stdout",
     "output_type": "stream",
     "text": [
      "{'max_depth': 12, 'max_features': 6, 'min_samples_leaf': 15, 'min_samples_split': 30, 'n_estimators': 1000}\n"
     ]
    }
   ],
   "source": [
    "print(grid_search.best_params_)"
   ]
  },
  {
   "cell_type": "code",
   "execution_count": 112,
   "id": "137ceccd",
   "metadata": {},
   "outputs": [
    {
     "name": "stdout",
     "output_type": "stream",
     "text": [
      "0.8584905660377359\n",
      "[[3245  624]\n",
      " [ 471 3398]]\n",
      "              precision    recall  f1-score   support\n",
      "\n",
      "           0       0.87      0.84      0.86      3869\n",
      "           1       0.84      0.88      0.86      3869\n",
      "\n",
      "    accuracy                           0.86      7738\n",
      "   macro avg       0.86      0.86      0.86      7738\n",
      "weighted avg       0.86      0.86      0.86      7738\n",
      "\n",
      "randomforest_train_precision: 0.84\n",
      "randomforest_train_recall: 0.88\n",
      "randomforest_train_f1: 0.86\n"
     ]
    }
   ],
   "source": [
    "## Performance Matrix on train data set\n",
    "y_train_predict = grid_search.predict(X_train_res)\n",
    "rm_model_score_train =grid_search.score(X_train_res, y_train_res)\n",
    "print(rm_model_score_train)\n",
    "print(metrics.confusion_matrix(y_train_res, y_train_predict))\n",
    "print(metrics.classification_report(y_train_res, y_train_predict))\n",
    "randomforest_metrics=classification_report(y_train_res, y_train_predict,output_dict=True)\n",
    "df=pd.DataFrame(randomforest_metrics).transpose()\n",
    "# Extract the precision, recall, and F1-score for the positive class (class \"1\")\n",
    "randomforest_train_precision = round(df.loc[\"1\"][\"precision\"], 2)\n",
    "randomforest_train_recall = round(df.loc[\"1\"][\"recall\"], 2)\n",
    "randomforest_train_f1 = round(df.loc[\"1\"][\"f1-score\"], 2)\n",
    "\n",
    "# Print the precision, recall, and F1-score\n",
    "print('randomforest_train_precision:', randomforest_train_precision)\n",
    "print('randomforest_train_recall:', randomforest_train_recall)\n",
    "print('randomforest_train_f1:', randomforest_train_f1)"
   ]
  },
  {
   "cell_type": "code",
   "execution_count": 113,
   "id": "059cfb87",
   "metadata": {},
   "outputs": [
    {
     "name": "stdout",
     "output_type": "stream",
     "text": [
      "0.7844141069397043\n",
      "[[1065  229]\n",
      " [ 150  314]]\n",
      "              precision    recall  f1-score   support\n",
      "\n",
      "           0       0.88      0.82      0.85      1294\n",
      "           1       0.58      0.68      0.62       464\n",
      "\n",
      "    accuracy                           0.78      1758\n",
      "   macro avg       0.73      0.75      0.74      1758\n",
      "weighted avg       0.80      0.78      0.79      1758\n",
      "\n",
      "randomforest_test_precision: 0.53\n",
      "randomforest_test_recall: 0.75\n",
      "randomforest_test_f1: 0.62\n"
     ]
    }
   ],
   "source": [
    "## Performance Matrix on test data set\n",
    "y_test_predict = grid_search.predict(X_test)\n",
    "rm_model_score_test = grid_search.score(X_test, y_test)\n",
    "print(rm_model_score_test)\n",
    "print(metrics.confusion_matrix(y_test, y_test_predict))\n",
    "print(metrics.classification_report(y_test, y_test_predict))\n",
    "randomforest_metrics=classification_report(y_test, ytest_predict,output_dict=True)\n",
    "df=pd.DataFrame(randomforest_metrics).transpose()\n",
    "# Extract the precision, recall, and F1-score for the positive class (class \"1\")\n",
    "randomforest_test_precision = round(df.loc[\"1\"][\"precision\"], 2)\n",
    "randomforest_test_recall = round(df.loc[\"1\"][\"recall\"], 2)\n",
    "randomforest_test_f1 = round(df.loc[\"1\"][\"f1-score\"], 2)\n",
    "\n",
    "# Print the precision, recall, and F1-score\n",
    "print('randomforest_test_precision:', randomforest_test_precision)\n",
    "print('randomforest_test_recall:', randomforest_test_recall)\n",
    "print('randomforest_test_f1:', randomforest_test_f1)"
   ]
  },
  {
   "cell_type": "code",
   "execution_count": 115,
   "id": "4c656382",
   "metadata": {},
   "outputs": [
    {
     "data": {
      "text/html": [
       "<div>\n",
       "<style scoped>\n",
       "    .dataframe tbody tr th:only-of-type {\n",
       "        vertical-align: middle;\n",
       "    }\n",
       "\n",
       "    .dataframe tbody tr th {\n",
       "        vertical-align: top;\n",
       "    }\n",
       "\n",
       "    .dataframe thead th {\n",
       "        text-align: right;\n",
       "    }\n",
       "</style>\n",
       "<table border=\"1\" class=\"dataframe\">\n",
       "  <thead>\n",
       "    <tr style=\"text-align: right;\">\n",
       "      <th></th>\n",
       "      <th>Logistic Train</th>\n",
       "      <th>Logistic Test</th>\n",
       "      <th>LDA Train</th>\n",
       "      <th>LDA Test</th>\n",
       "      <th>Decision Train</th>\n",
       "      <th>Decision Test</th>\n",
       "      <th>Bagging Train</th>\n",
       "      <th>Bagging Test</th>\n",
       "      <th>Ensemble Train</th>\n",
       "      <th>Ensembel Test</th>\n",
       "      <th>Random Forest Train</th>\n",
       "      <th>Random Forest Test</th>\n",
       "    </tr>\n",
       "  </thead>\n",
       "  <tbody>\n",
       "    <tr>\n",
       "      <th>Accuracy</th>\n",
       "      <td>0.79</td>\n",
       "      <td>0.75</td>\n",
       "      <td>0.79</td>\n",
       "      <td>0.74</td>\n",
       "      <td>0.79</td>\n",
       "      <td>0.74</td>\n",
       "      <td>0.81</td>\n",
       "      <td>0.76</td>\n",
       "      <td>0.83</td>\n",
       "      <td>0.77</td>\n",
       "      <td>0.86</td>\n",
       "      <td>0.78</td>\n",
       "    </tr>\n",
       "    <tr>\n",
       "      <th>Recall</th>\n",
       "      <td>0.77</td>\n",
       "      <td>0.52</td>\n",
       "      <td>0.76</td>\n",
       "      <td>0.50</td>\n",
       "      <td>0.77</td>\n",
       "      <td>0.51</td>\n",
       "      <td>0.78</td>\n",
       "      <td>0.53</td>\n",
       "      <td>0.78</td>\n",
       "      <td>0.53</td>\n",
       "      <td>0.84</td>\n",
       "      <td>0.53</td>\n",
       "    </tr>\n",
       "    <tr>\n",
       "      <th>Precision</th>\n",
       "      <td>0.84</td>\n",
       "      <td>0.77</td>\n",
       "      <td>0.85</td>\n",
       "      <td>0.78</td>\n",
       "      <td>0.83</td>\n",
       "      <td>0.73</td>\n",
       "      <td>0.85</td>\n",
       "      <td>0.75</td>\n",
       "      <td>0.85</td>\n",
       "      <td>0.75</td>\n",
       "      <td>0.88</td>\n",
       "      <td>0.75</td>\n",
       "    </tr>\n",
       "    <tr>\n",
       "      <th>F1 Score</th>\n",
       "      <td>0.80</td>\n",
       "      <td>0.62</td>\n",
       "      <td>0.80</td>\n",
       "      <td>0.61</td>\n",
       "      <td>0.80</td>\n",
       "      <td>0.60</td>\n",
       "      <td>0.82</td>\n",
       "      <td>0.62</td>\n",
       "      <td>0.82</td>\n",
       "      <td>0.62</td>\n",
       "      <td>0.86</td>\n",
       "      <td>0.62</td>\n",
       "    </tr>\n",
       "  </tbody>\n",
       "</table>\n",
       "</div>"
      ],
      "text/plain": [
       "           Logistic Train  Logistic Test  LDA Train  LDA Test  Decision Train  \\\n",
       "Accuracy             0.79           0.75       0.79      0.74            0.79   \n",
       "Recall               0.77           0.52       0.76      0.50            0.77   \n",
       "Precision            0.84           0.77       0.85      0.78            0.83   \n",
       "F1 Score             0.80           0.62       0.80      0.61            0.80   \n",
       "\n",
       "           Decision Test  Bagging Train  Bagging Test  Ensemble Train  \\\n",
       "Accuracy            0.74           0.81          0.76            0.83   \n",
       "Recall              0.51           0.78          0.53            0.78   \n",
       "Precision           0.73           0.85          0.75            0.85   \n",
       "F1 Score            0.60           0.82          0.62            0.82   \n",
       "\n",
       "           Ensembel Test  Random Forest Train  Random Forest Test  \n",
       "Accuracy            0.77                 0.86                0.78  \n",
       "Recall              0.53                 0.84                0.53  \n",
       "Precision           0.75                 0.88                0.75  \n",
       "F1 Score            0.62                 0.86                0.62  "
      ]
     },
     "execution_count": 115,
     "metadata": {},
     "output_type": "execute_result"
    }
   ],
   "source": [
    "\n",
    "index=['Accuracy', 'Recall','Precision','F1 Score']\n",
    "data = pd.DataFrame({'Logistic Train':[logistic_train_acc_res, logistic_sm_train_precision, logistic_sm_train_recall, logistic_sm_train_f1],'Logistic Test':\n",
    "[logistic_test_acc_res, logistic_sm_test_precision, logistic_sm_test_recall, logistic_sm_test_f1],\n",
    "'LDA Train':[lda_train_acc,lda_train_precision, lda_train_recall, lda_train_f1],\n",
    "'LDA Test':[lda_test_acc, lda_test_precision, lda_test_recall, lda_test_f1],\n",
    "'Decision Train':[decision_trscore, decision_train_precision, decision_train_recall, decision_train_f1],\n",
    "'Decision Test':[decision_tsscore, decision_test_precision, decision_test_recall, decision_test_f1],\n",
    "'Bagging Train':[bgcl_train_acc, bagging_train_precision, bagging_train_recall, bagging_train_f1],\n",
    "'Bagging Test':[bgcl_test_acc, bagging_test_precision, bagging_test_recall, bagging_test_f1],\n",
    "'Ensemble Train':[model_score_train, adaboost_train_precision, adaboost_train_recall, adaboost_train_f1],\n",
    "'Ensembel Test':[model_score_test, adaboost_test_precision, adaboost_test_recall, adaboost_test_f1],\n",
    "'Random Forest Train':[rm_model_score_train, randomforest_train_precision, randomforest_train_recall, randomforest_train_f1],\n",
    "'Random Forest Test':[rm_model_score_test, randomforest_test_precision, randomforest_test_recall, randomforest_test_f1] },index=index)\n",
    "round(data,2)"
   ]
  },
  {
   "cell_type": "code",
   "execution_count": null,
   "id": "9494f5ae",
   "metadata": {},
   "outputs": [],
   "source": []
  },
  {
   "cell_type": "code",
   "execution_count": null,
   "id": "4b0608a9",
   "metadata": {},
   "outputs": [],
   "source": []
  }
 ],
 "metadata": {
  "kernelspec": {
   "display_name": "Python 3 (ipykernel)",
   "language": "python",
   "name": "python3"
  },
  "language_info": {
   "codemirror_mode": {
    "name": "ipython",
    "version": 3
   },
   "file_extension": ".py",
   "mimetype": "text/x-python",
   "name": "python",
   "nbconvert_exporter": "python",
   "pygments_lexer": "ipython3",
   "version": "3.8.12"
  }
 },
 "nbformat": 4,
 "nbformat_minor": 5
}
